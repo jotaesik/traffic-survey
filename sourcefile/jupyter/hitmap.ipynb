{
 "cells": [
  {
   "cell_type": "code",
   "execution_count": 53,
   "id": "6c7576ef-9af4-4b75-acf5-72b64488c487",
   "metadata": {},
   "outputs": [],
   "source": [
    "import pymysql\n",
    "import pandas as pd\n",
    "import glob \n",
    "import pandas as pd\n",
    "import os\n",
    "con =pymysql.connect(host='ip', user='id', password='pw', db='encore6', charset='utf8')\n",
    "cur = con.cursor()\n",
    "# cur.execute(\"show tables\")\n",
    "# CycleRentUse_df = pd.read_sql_query(\"select * from CycleRentUse\", con=con)"
   ]
  },
  {
   "cell_type": "code",
   "execution_count": 54,
   "id": "fecb48bd-64a0-4c04-bd08-754914ac8eb0",
   "metadata": {},
   "outputs": [],
   "source": [
    "csv_test = pd.read_csv('./hire_point.csv')"
   ]
  },
  {
   "cell_type": "code",
   "execution_count": 55,
   "id": "28a1c1df-f480-43db-92e0-3a79ab647618",
   "metadata": {},
   "outputs": [
    {
     "data": {
      "text/html": [
       "<div>\n",
       "<style scoped>\n",
       "    .dataframe tbody tr th:only-of-type {\n",
       "        vertical-align: middle;\n",
       "    }\n",
       "\n",
       "    .dataframe tbody tr th {\n",
       "        vertical-align: top;\n",
       "    }\n",
       "\n",
       "    .dataframe thead th {\n",
       "        text-align: right;\n",
       "    }\n",
       "</style>\n",
       "<table border=\"1\" class=\"dataframe\">\n",
       "  <thead>\n",
       "    <tr style=\"text-align: right;\">\n",
       "      <th></th>\n",
       "      <th>Unnamed: 0</th>\n",
       "      <th>STA_LOC</th>\n",
       "      <th>RENT_ID</th>\n",
       "      <th>RENT_NO</th>\n",
       "      <th>RENT_NM</th>\n",
       "      <th>RENT_ID_NM</th>\n",
       "      <th>HOLD_NUM</th>\n",
       "      <th>STA_ADD1</th>\n",
       "      <th>STA_ADD2</th>\n",
       "      <th>STA_LAT</th>\n",
       "      <th>STA_LONG</th>\n",
       "      <th>START_INDEX</th>\n",
       "      <th>END_INDEX</th>\n",
       "      <th>RNUM</th>\n",
       "    </tr>\n",
       "  </thead>\n",
       "  <tbody>\n",
       "    <tr>\n",
       "      <th>0</th>\n",
       "      <td>0</td>\n",
       "      <td>마포구</td>\n",
       "      <td>ST-10</td>\n",
       "      <td>108</td>\n",
       "      <td>서교동 사거리</td>\n",
       "      <td>108. 서교동 사거리</td>\n",
       "      <td>12.0</td>\n",
       "      <td>서울특별시 마포구 양화로 93</td>\n",
       "      <td>427</td>\n",
       "      <td>37.552746</td>\n",
       "      <td>126.918617</td>\n",
       "      <td>0</td>\n",
       "      <td>0</td>\n",
       "      <td>1</td>\n",
       "    </tr>\n",
       "  </tbody>\n",
       "</table>\n",
       "</div>"
      ],
      "text/plain": [
       "   Unnamed: 0 STA_LOC RENT_ID  RENT_NO  RENT_NM    RENT_ID_NM  HOLD_NUM  \\\n",
       "0           0     마포구   ST-10      108  서교동 사거리  108. 서교동 사거리      12.0   \n",
       "\n",
       "           STA_ADD1 STA_ADD2    STA_LAT    STA_LONG  START_INDEX  END_INDEX  \\\n",
       "0  서울특별시 마포구 양화로 93      427  37.552746  126.918617            0          0   \n",
       "\n",
       "   RNUM  \n",
       "0     1  "
      ]
     },
     "execution_count": 55,
     "metadata": {},
     "output_type": "execute_result"
    }
   ],
   "source": [
    "csv_test.head(1)"
   ]
  },
  {
   "cell_type": "code",
   "execution_count": 56,
   "id": "97c82096-491c-4b90-95fd-5ff7bff81e0d",
   "metadata": {},
   "outputs": [
    {
     "data": {
      "text/plain": [
       "Index(['Unnamed: 0', 'STA_LOC', 'RENT_ID', 'RENT_NO', 'RENT_NM', 'RENT_ID_NM',\n",
       "       'HOLD_NUM', 'STA_ADD1', 'STA_ADD2', 'STA_LAT', 'STA_LONG',\n",
       "       'START_INDEX', 'END_INDEX', 'RNUM'],\n",
       "      dtype='object')"
      ]
     },
     "execution_count": 56,
     "metadata": {},
     "output_type": "execute_result"
    }
   ],
   "source": [
    "csv_test.columns"
   ]
  },
  {
   "cell_type": "code",
   "execution_count": 57,
   "id": "41850c27-d13f-49ae-b7bf-b15d83fd66fd",
   "metadata": {},
   "outputs": [
    {
     "data": {
      "text/plain": [
       "pandas.core.frame.DataFrame"
      ]
     },
     "execution_count": 57,
     "metadata": {},
     "output_type": "execute_result"
    }
   ],
   "source": [
    "type(csv_test)"
   ]
  },
  {
   "cell_type": "code",
   "execution_count": 58,
   "id": "e3735256-e47a-4bf5-bffa-7456286573e3",
   "metadata": {},
   "outputs": [],
   "source": [
    "data = csv_test[['Unnamed: 0', \"STA_LOC\", \"STA_LAT\", \"STA_LONG\"]]"
   ]
  },
  {
   "cell_type": "code",
   "execution_count": 59,
   "id": "d72d3459-9c7a-4566-9617-fdebfe58c92d",
   "metadata": {},
   "outputs": [
    {
     "data": {
      "text/html": [
       "<div>\n",
       "<style scoped>\n",
       "    .dataframe tbody tr th:only-of-type {\n",
       "        vertical-align: middle;\n",
       "    }\n",
       "\n",
       "    .dataframe tbody tr th {\n",
       "        vertical-align: top;\n",
       "    }\n",
       "\n",
       "    .dataframe thead th {\n",
       "        text-align: right;\n",
       "    }\n",
       "</style>\n",
       "<table border=\"1\" class=\"dataframe\">\n",
       "  <thead>\n",
       "    <tr style=\"text-align: right;\">\n",
       "      <th></th>\n",
       "      <th>Unnamed: 0</th>\n",
       "      <th>STA_LOC</th>\n",
       "      <th>STA_LAT</th>\n",
       "      <th>STA_LONG</th>\n",
       "    </tr>\n",
       "  </thead>\n",
       "  <tbody>\n",
       "    <tr>\n",
       "      <th>0</th>\n",
       "      <td>0</td>\n",
       "      <td>마포구</td>\n",
       "      <td>37.552746</td>\n",
       "      <td>126.918617</td>\n",
       "    </tr>\n",
       "  </tbody>\n",
       "</table>\n",
       "</div>"
      ],
      "text/plain": [
       "   Unnamed: 0 STA_LOC    STA_LAT    STA_LONG\n",
       "0           0     마포구  37.552746  126.918617"
      ]
     },
     "execution_count": 59,
     "metadata": {},
     "output_type": "execute_result"
    }
   ],
   "source": [
    "data.head(1)"
   ]
  },
  {
   "cell_type": "code",
   "execution_count": 60,
   "id": "bef95fb2-6448-455a-af2a-86c8bbd5099e",
   "metadata": {},
   "outputs": [],
   "source": [
    "sql= \"\"\"CREATE Table hire_point\n",
    "(\n",
    "    `Unnamed: 0` INT,\n",
    "    `STA_LOC` VARCHAR(30),\n",
    "    `STA_LAT` FLOAT,\n",
    "    `STA_LONG` FLOAT\n",
    ")\"\"\"\n",
    "cur.execute(sql)\n",
    "con.commit()"
   ]
  },
  {
   "cell_type": "code",
   "execution_count": 63,
   "id": "ce6148c4-9aaa-49e6-9b58-a448214b5114",
   "metadata": {},
   "outputs": [],
   "source": [
    "insert_sql=\"INSERT INTO hire_point VALUES (%s, %s, %s, %s)\""
   ]
  },
  {
   "cell_type": "code",
   "execution_count": 64,
   "id": "ec2230a2-50f4-4041-b5b2-5332a18ced07",
   "metadata": {},
   "outputs": [
    {
     "data": {
      "text/plain": [
       "Index(['Unnamed: 0', 'STA_LOC', 'STA_LAT', 'STA_LONG'], dtype='object')"
      ]
     },
     "execution_count": 64,
     "metadata": {},
     "output_type": "execute_result"
    }
   ],
   "source": [
    "data.columns"
   ]
  },
  {
   "cell_type": "code",
   "execution_count": 65,
   "id": "e5d07313-6657-4bdd-ada6-68ad9ab41267",
   "metadata": {},
   "outputs": [
    {
     "data": {
      "text/plain": [
       "0       1\n",
       "1       1\n",
       "2       1\n",
       "3       1\n",
       "4       1\n",
       "       ..\n",
       "3074    1\n",
       "3075    1\n",
       "3076    1\n",
       "3077    1\n",
       "3078    1\n",
       "Length: 3079, dtype: int64"
      ]
     },
     "execution_count": 65,
     "metadata": {},
     "output_type": "execute_result"
    }
   ],
   "source": [
    "data.apply(lambda x : cur.execute(insert_sql,x.tolist()),axis=1)"
   ]
  },
  {
   "cell_type": "code",
   "execution_count": 66,
   "id": "3d555888-fc8e-4821-bdea-f2b113fa1188",
   "metadata": {},
   "outputs": [],
   "source": [
    "con.commit()"
   ]
  },
  {
   "cell_type": "code",
   "execution_count": 69,
   "id": "baec790d-50b9-4373-833a-ee93ac6d9eca",
   "metadata": {},
   "outputs": [
    {
     "name": "stderr",
     "output_type": "stream",
     "text": [
      "/tmp/ipykernel_21833/228760671.py:2: UserWarning: pandas only supports SQLAlchemy connectable (engine/connection) or database string URI or sqlite3 DBAPI2 connection. Other DBAPI2 objects are not tested. Please consider using SQLAlchemy.\n",
      "  hire_point = pd.read_sql_query(\"select * from hire_point\", con=con)\n",
      "/tmp/ipykernel_21833/228760671.py:3: UserWarning: pandas only supports SQLAlchemy connectable (engine/connection) or database string URI or sqlite3 DBAPI2 connection. Other DBAPI2 objects are not tested. Please consider using SQLAlchemy.\n",
      "  violation_accident = pd.read_sql_query(\"select * from violation_accident\", con=con)\n",
      "/tmp/ipykernel_21833/228760671.py:4: UserWarning: pandas only supports SQLAlchemy connectable (engine/connection) or database string URI or sqlite3 DBAPI2 connection. Other DBAPI2 objects are not tested. Please consider using SQLAlchemy.\n",
      "  cyclyrentuse = pd.read_sql_query(\"select * from CycleRentUse\", con=con)\n"
     ]
    }
   ],
   "source": [
    "#년도 그룹, hire_point violat_accidnet, cyclyrentuse\n",
    "hire_point = pd.read_sql_query(\"select * from hire_point\", con=con)\n",
    "violation_accident = pd.read_sql_query(\"select * from violation_accident\", con=con)\n",
    "cyclyrentuse = pd.read_sql_query(\"select * from CycleRentUse\", con=con)\n",
    "# 지자체\t 자전거사고건수\t자전거이용건수\t위도\t경도"
   ]
  },
  {
   "cell_type": "code",
   "execution_count": 120,
   "id": "d6dee751-4ff5-4c05-a63e-34d0a08ee2cd",
   "metadata": {},
   "outputs": [
    {
     "data": {
      "text/html": [
       "<div>\n",
       "<style scoped>\n",
       "    .dataframe tbody tr th:only-of-type {\n",
       "        vertical-align: middle;\n",
       "    }\n",
       "\n",
       "    .dataframe tbody tr th {\n",
       "        vertical-align: top;\n",
       "    }\n",
       "\n",
       "    .dataframe thead th {\n",
       "        text-align: right;\n",
       "    }\n",
       "</style>\n",
       "<table border=\"1\" class=\"dataframe\">\n",
       "  <thead>\n",
       "    <tr style=\"text-align: right;\">\n",
       "      <th></th>\n",
       "      <th>Rent_Date</th>\n",
       "      <th>Rent_Number</th>\n",
       "      <th>Rent_Count</th>\n",
       "    </tr>\n",
       "  </thead>\n",
       "  <tbody>\n",
       "    <tr>\n",
       "      <th>0</th>\n",
       "      <td>2019-01</td>\n",
       "      <td>3</td>\n",
       "      <td>64</td>\n",
       "    </tr>\n",
       "  </tbody>\n",
       "</table>\n",
       "</div>"
      ],
      "text/plain": [
       "  Rent_Date  Rent_Number  Rent_Count\n",
       "0   2019-01            3          64"
      ]
     },
     "execution_count": 120,
     "metadata": {},
     "output_type": "execute_result"
    }
   ],
   "source": [
    "cyclyrentuse.head(1)"
   ]
  },
  {
   "cell_type": "code",
   "execution_count": 82,
   "id": "f3b7b3bd-c5a9-4172-90fb-2ca972188551",
   "metadata": {},
   "outputs": [],
   "source": [
    "# left join으로 어디서 빌렸는지를 기준으로 통합한다.\n",
    "cyclyrentuse_hire_point = pd.merge(hire_point, cyclyrentuse,  left_on=['Unnamed: 0'], right_on=['Rent_Number'], how='left')\n",
    "# pd_rt1_left = pd.merge(df1, df2, left_on=['orderNumber'], right_on=['orderNumber'], how='left')"
   ]
  },
  {
   "cell_type": "code",
   "execution_count": 87,
   "id": "300b0e13-953f-4f3a-ab73-b2461a30f2d2",
   "metadata": {},
   "outputs": [],
   "source": [
    "# nan값 내리\n",
    "new_data = cyclyrentuse_hire_point.dropna()"
   ]
  },
  {
   "cell_type": "code",
   "execution_count": 90,
   "id": "e01c2936-c263-4960-bad7-d54ee9c8b295",
   "metadata": {},
   "outputs": [],
   "source": [
    "# sta_loc 구별로 묶어서 rent_count sum하기\n",
    "new_data_group = new_data.groupby([\"STA_LOC\"], as_index=False)[[\"Rent_Count\"]].sum()\n",
    "# CycleRentUse_year_df=CycleRentUse_df.groupby([\"Rent_Date\"],as_index=False)[['Rent_Count']].sum().sort_values(by=[\"Rent_Date\"])"
   ]
  },
  {
   "cell_type": "code",
   "execution_count": 92,
   "id": "f5fbd99d-845c-46df-a629-36cfebba1e8a",
   "metadata": {},
   "outputs": [
    {
     "data": {
      "text/html": [
       "<div>\n",
       "<style scoped>\n",
       "    .dataframe tbody tr th:only-of-type {\n",
       "        vertical-align: middle;\n",
       "    }\n",
       "\n",
       "    .dataframe tbody tr th {\n",
       "        vertical-align: top;\n",
       "    }\n",
       "\n",
       "    .dataframe thead th {\n",
       "        text-align: right;\n",
       "    }\n",
       "</style>\n",
       "<table border=\"1\" class=\"dataframe\">\n",
       "  <thead>\n",
       "    <tr style=\"text-align: right;\">\n",
       "      <th></th>\n",
       "      <th>STA_LOC</th>\n",
       "      <th>Rent_Count</th>\n",
       "    </tr>\n",
       "  </thead>\n",
       "  <tbody>\n",
       "    <tr>\n",
       "      <th>0</th>\n",
       "      <td>강남구</td>\n",
       "      <td>4376602.0</td>\n",
       "    </tr>\n",
       "  </tbody>\n",
       "</table>\n",
       "</div>"
      ],
      "text/plain": [
       "  STA_LOC  Rent_Count\n",
       "0     강남구   4376602.0"
      ]
     },
     "execution_count": 92,
     "metadata": {},
     "output_type": "execute_result"
    }
   ],
   "source": [
    "new_data_group.head(1)"
   ]
  },
  {
   "cell_type": "code",
   "execution_count": 99,
   "id": "c5d24459-c476-4e0d-82c5-c3600c6566d7",
   "metadata": {},
   "outputs": [
    {
     "data": {
      "text/plain": [
       "25"
      ]
     },
     "execution_count": 99,
     "metadata": {},
     "output_type": "execute_result"
    }
   ],
   "source": [
    "len(new_data_group)"
   ]
  },
  {
   "cell_type": "code",
   "execution_count": 96,
   "id": "2780377f-639c-4411-8bce-1d86ec8342ec",
   "metadata": {},
   "outputs": [],
   "source": [
    "temp_vio = violation_accident.groupby([\"JIJACE_NM\"], as_index=False)[[\"ACC_CNT\"]].sum()"
   ]
  },
  {
   "cell_type": "code",
   "execution_count": 98,
   "id": "17f55ae9-4b9d-4d20-896e-93ad1477eaa4",
   "metadata": {},
   "outputs": [
    {
     "data": {
      "text/plain": [
       "25"
      ]
     },
     "execution_count": 98,
     "metadata": {},
     "output_type": "execute_result"
    }
   ],
   "source": [
    "len(temp_vio)"
   ]
  },
  {
   "cell_type": "code",
   "execution_count": 102,
   "id": "4ffb1972-53e8-4446-b3a2-dae6c94fa220",
   "metadata": {},
   "outputs": [],
   "source": [
    "total =  pd.concat([new_data_group, temp_vio], axis = 1)"
   ]
  },
  {
   "cell_type": "code",
   "execution_count": 108,
   "id": "d169a36e-3830-4e3f-acd3-e29a8e8e81b6",
   "metadata": {},
   "outputs": [],
   "source": [
    "new_total = total.drop([\"JIJACE_NM\"],axis=1)"
   ]
  },
  {
   "cell_type": "code",
   "execution_count": 115,
   "id": "1803441d-79e5-423a-98eb-bcbb540dd415",
   "metadata": {},
   "outputs": [
    {
     "data": {
      "text/html": [
       "<div>\n",
       "<style scoped>\n",
       "    .dataframe tbody tr th:only-of-type {\n",
       "        vertical-align: middle;\n",
       "    }\n",
       "\n",
       "    .dataframe tbody tr th {\n",
       "        vertical-align: top;\n",
       "    }\n",
       "\n",
       "    .dataframe thead th {\n",
       "        text-align: right;\n",
       "    }\n",
       "</style>\n",
       "<table border=\"1\" class=\"dataframe\">\n",
       "  <thead>\n",
       "    <tr style=\"text-align: right;\">\n",
       "      <th></th>\n",
       "      <th>STA_LOC</th>\n",
       "      <th>Rent_Count</th>\n",
       "      <th>ACC_CNT</th>\n",
       "    </tr>\n",
       "  </thead>\n",
       "  <tbody>\n",
       "    <tr>\n",
       "      <th>0</th>\n",
       "      <td>강남구</td>\n",
       "      <td>4376602.0</td>\n",
       "      <td>18462</td>\n",
       "    </tr>\n",
       "  </tbody>\n",
       "</table>\n",
       "</div>"
      ],
      "text/plain": [
       "  STA_LOC  Rent_Count  ACC_CNT\n",
       "0     강남구   4376602.0    18462"
      ]
     },
     "execution_count": 115,
     "metadata": {},
     "output_type": "execute_result"
    }
   ],
   "source": [
    "new_total.head(1)"
   ]
  },
  {
   "cell_type": "code",
   "execution_count": 118,
   "id": "7865666d-c290-4552-bb3e-b70b1aec4511",
   "metadata": {},
   "outputs": [],
   "source": [
    "import folium\n",
    "import json\n",
    "import requests\n",
    "map = folium.Map(location=[37.5502, 126.982], zoom_start=15, tiles=\"cartodb positron\")\n",
    "geo_str = requests.get(\"https://t1.daumcdn.net/cfile/tistory/272C224C58B4BD540B\").json()\n",
    "# map\n",
    "m = folium.Choropleth(geo_str, \n",
    "                  data = new_total,\n",
    "                  columns=['STA_LOC', 'ACC_CNT'],\n",
    "                  fill_color=\"PuRd\",\n",
    "                  key_on=\"feature.id\").add_to(map)\n",
    "                  "
   ]
  },
  {
   "cell_type": "code",
   "execution_count": 119,
   "id": "3ecf93b4-2914-4247-a348-ae328a18519b",
   "metadata": {},
   "outputs": [
    {
     "data": {
      "text/html": [
       "<div style=\"width:100%;\"><div style=\"position:relative;width:100%;height:0;padding-bottom:60%;\"><span style=\"color:#565656\">Make this Notebook Trusted to load map: File -> Trust Notebook</span><iframe srcdoc=\"&lt;!DOCTYPE html&gt;\n",
       "&lt;html&gt;\n",
       "&lt;head&gt;\n",
       "    \n",
       "    &lt;meta http-equiv=&quot;content-type&quot; content=&quot;text/html; charset=UTF-8&quot; /&gt;\n",
       "    \n",
       "        &lt;script&gt;\n",
       "            L_NO_TOUCH = false;\n",
       "            L_DISABLE_3D = false;\n",
       "        &lt;/script&gt;\n",
       "    \n",
       "    &lt;style&gt;html, body {width: 100%;height: 100%;margin: 0;padding: 0;}&lt;/style&gt;\n",
       "    &lt;style&gt;#map {position:absolute;top:0;bottom:0;right:0;left:0;}&lt;/style&gt;\n",
       "    &lt;script src=&quot;https://cdn.jsdelivr.net/npm/leaflet@1.9.3/dist/leaflet.js&quot;&gt;&lt;/script&gt;\n",
       "    &lt;script src=&quot;https://code.jquery.com/jquery-3.7.1.min.js&quot;&gt;&lt;/script&gt;\n",
       "    &lt;script src=&quot;https://cdn.jsdelivr.net/npm/bootstrap@5.2.2/dist/js/bootstrap.bundle.min.js&quot;&gt;&lt;/script&gt;\n",
       "    &lt;script src=&quot;https://cdnjs.cloudflare.com/ajax/libs/Leaflet.awesome-markers/2.0.2/leaflet.awesome-markers.js&quot;&gt;&lt;/script&gt;\n",
       "    &lt;link rel=&quot;stylesheet&quot; href=&quot;https://cdn.jsdelivr.net/npm/leaflet@1.9.3/dist/leaflet.css&quot;/&gt;\n",
       "    &lt;link rel=&quot;stylesheet&quot; href=&quot;https://cdn.jsdelivr.net/npm/bootstrap@5.2.2/dist/css/bootstrap.min.css&quot;/&gt;\n",
       "    &lt;link rel=&quot;stylesheet&quot; href=&quot;https://netdna.bootstrapcdn.com/bootstrap/3.0.0/css/bootstrap.min.css&quot;/&gt;\n",
       "    &lt;link rel=&quot;stylesheet&quot; href=&quot;https://cdn.jsdelivr.net/npm/@fortawesome/fontawesome-free@6.2.0/css/all.min.css&quot;/&gt;\n",
       "    &lt;link rel=&quot;stylesheet&quot; href=&quot;https://cdnjs.cloudflare.com/ajax/libs/Leaflet.awesome-markers/2.0.2/leaflet.awesome-markers.css&quot;/&gt;\n",
       "    &lt;link rel=&quot;stylesheet&quot; href=&quot;https://cdn.jsdelivr.net/gh/python-visualization/folium/folium/templates/leaflet.awesome.rotate.min.css&quot;/&gt;\n",
       "    \n",
       "            &lt;meta name=&quot;viewport&quot; content=&quot;width=device-width,\n",
       "                initial-scale=1.0, maximum-scale=1.0, user-scalable=no&quot; /&gt;\n",
       "            &lt;style&gt;\n",
       "                #map_26b6bd166a6fa27e7f4411c280556464 {\n",
       "                    position: relative;\n",
       "                    width: 100.0%;\n",
       "                    height: 100.0%;\n",
       "                    left: 0.0%;\n",
       "                    top: 0.0%;\n",
       "                }\n",
       "                .leaflet-container { font-size: 1rem; }\n",
       "            &lt;/style&gt;\n",
       "        \n",
       "    &lt;script src=&quot;https://cdnjs.cloudflare.com/ajax/libs/d3/3.5.5/d3.min.js&quot;&gt;&lt;/script&gt;\n",
       "&lt;/head&gt;\n",
       "&lt;body&gt;\n",
       "    \n",
       "    \n",
       "            &lt;div class=&quot;folium-map&quot; id=&quot;map_26b6bd166a6fa27e7f4411c280556464&quot; &gt;&lt;/div&gt;\n",
       "        \n",
       "&lt;/body&gt;\n",
       "&lt;script&gt;\n",
       "    \n",
       "    \n",
       "            var map_26b6bd166a6fa27e7f4411c280556464 = L.map(\n",
       "                &quot;map_26b6bd166a6fa27e7f4411c280556464&quot;,\n",
       "                {\n",
       "                    center: [37.5502, 126.982],\n",
       "                    crs: L.CRS.EPSG3857,\n",
       "                    zoom: 15,\n",
       "                    zoomControl: true,\n",
       "                    preferCanvas: false,\n",
       "                }\n",
       "            );\n",
       "\n",
       "            \n",
       "\n",
       "        \n",
       "    \n",
       "            var tile_layer_895b60058e08999baeea2f97bb643ec6 = L.tileLayer(\n",
       "                &quot;https://{s}.basemaps.cartocdn.com/light_all/{z}/{x}/{y}{r}.png&quot;,\n",
       "                {&quot;attribution&quot;: &quot;\\u0026copy; \\u003ca href=\\&quot;https://www.openstreetmap.org/copyright\\&quot;\\u003eOpenStreetMap\\u003c/a\\u003e contributors \\u0026copy; \\u003ca href=\\&quot;https://carto.com/attributions\\&quot;\\u003eCARTO\\u003c/a\\u003e&quot;, &quot;detectRetina&quot;: false, &quot;maxNativeZoom&quot;: 20, &quot;maxZoom&quot;: 20, &quot;minZoom&quot;: 0, &quot;noWrap&quot;: false, &quot;opacity&quot;: 1, &quot;subdomains&quot;: &quot;abcd&quot;, &quot;tms&quot;: false}\n",
       "            );\n",
       "        \n",
       "    \n",
       "            tile_layer_895b60058e08999baeea2f97bb643ec6.addTo(map_26b6bd166a6fa27e7f4411c280556464);\n",
       "        \n",
       "    \n",
       "            var choropleth_453e4c8643d217d23b7bc93ab52b36d1 = L.featureGroup(\n",
       "                {}\n",
       "            );\n",
       "        \n",
       "    \n",
       "        function geo_json_1a6f2e940f4fe8febdb9f85712ce6755_styler(feature) {\n",
       "            switch(feature.id) {\n",
       "                case &quot;\\uac15\\ub3d9\\uad6c&quot;: case &quot;\\uad00\\uc545\\uad6c&quot;: case &quot;\\ub3d9\\uc791\\uad6c&quot;: case &quot;\\uad6c\\ub85c\\uad6c&quot;: case &quot;\\uac15\\uc11c\\uad6c&quot;: case &quot;\\uc591\\ucc9c\\uad6c&quot;: case &quot;\\ub9c8\\ud3ec\\uad6c&quot;: case &quot;\\ub178\\uc6d0\\uad6c&quot;: case &quot;\\uc131\\ubd81\\uad6c&quot;: case &quot;\\uc911\\ub791\\uad6c&quot;: case &quot;\\ub3d9\\ub300\\ubb38\\uad6c&quot;: \n",
       "                    return {&quot;color&quot;: &quot;black&quot;, &quot;fillColor&quot;: &quot;#d4b9da&quot;, &quot;fillOpacity&quot;: 0.6, &quot;opacity&quot;: 1, &quot;weight&quot;: 1};\n",
       "                case &quot;\\uac15\\ub0a8\\uad6c&quot;: \n",
       "                    return {&quot;color&quot;: &quot;black&quot;, &quot;fillColor&quot;: &quot;#980043&quot;, &quot;fillOpacity&quot;: 0.6, &quot;opacity&quot;: 1, &quot;weight&quot;: 1};\n",
       "                case &quot;\\uc11c\\ucd08\\uad6c&quot;: case &quot;\\uc601\\ub4f1\\ud3ec\\uad6c&quot;: \n",
       "                    return {&quot;color&quot;: &quot;black&quot;, &quot;fillColor&quot;: &quot;#df65b0&quot;, &quot;fillOpacity&quot;: 0.6, &quot;opacity&quot;: 1, &quot;weight&quot;: 1};\n",
       "                case &quot;\\uae08\\ucc9c\\uad6c&quot;: case &quot;\\uc11c\\ub300\\ubb38\\uad6c&quot;: case &quot;\\uc740\\ud3c9\\uad6c&quot;: case &quot;\\ub3c4\\ubd09\\uad6c&quot;: case &quot;\\uac15\\ubd81\\uad6c&quot;: case &quot;\\uad11\\uc9c4\\uad6c&quot;: case &quot;\\uc131\\ub3d9\\uad6c&quot;: case &quot;\\uc6a9\\uc0b0\\uad6c&quot;: case &quot;\\uc911\\uad6c&quot;: case &quot;\\uc885\\ub85c\\uad6c&quot;: \n",
       "                    return {&quot;color&quot;: &quot;black&quot;, &quot;fillColor&quot;: &quot;#f1eef6&quot;, &quot;fillOpacity&quot;: 0.6, &quot;opacity&quot;: 1, &quot;weight&quot;: 1};\n",
       "                default:\n",
       "                    return {&quot;color&quot;: &quot;black&quot;, &quot;fillColor&quot;: &quot;#dd1c77&quot;, &quot;fillOpacity&quot;: 0.6, &quot;opacity&quot;: 1, &quot;weight&quot;: 1};\n",
       "            }\n",
       "        }\n",
       "\n",
       "        function geo_json_1a6f2e940f4fe8febdb9f85712ce6755_onEachFeature(feature, layer) {\n",
       "            layer.on({\n",
       "            });\n",
       "        };\n",
       "        var geo_json_1a6f2e940f4fe8febdb9f85712ce6755 = L.geoJson(null, {\n",
       "                onEachFeature: geo_json_1a6f2e940f4fe8febdb9f85712ce6755_onEachFeature,\n",
       "            \n",
       "                style: geo_json_1a6f2e940f4fe8febdb9f85712ce6755_styler,\n",
       "        });\n",
       "\n",
       "        function geo_json_1a6f2e940f4fe8febdb9f85712ce6755_add (data) {\n",
       "            geo_json_1a6f2e940f4fe8febdb9f85712ce6755\n",
       "                .addData(data);\n",
       "        }\n",
       "            geo_json_1a6f2e940f4fe8febdb9f85712ce6755_add({&quot;features&quot;: [{&quot;geometry&quot;: {&quot;coordinates&quot;: [[[127.11519584981606, 37.557533180704915], [127.16683184366129, 37.57672487388627], [127.18408792330152, 37.55814280369575], [127.16530984307447, 37.54221851258693], [127.14672806823502, 37.51415680680291], [127.12123165719615, 37.52528270089], [127.1116764203608, 37.540669955324965], [127.11519584981606, 37.557533180704915]]], &quot;type&quot;: &quot;Polygon&quot;}, &quot;id&quot;: &quot;\\uac15\\ub3d9\\uad6c&quot;, &quot;properties&quot;: {&quot;base_year&quot;: &quot;2013&quot;, &quot;code&quot;: &quot;11250&quot;, &quot;name&quot;: &quot;\\uac15\\ub3d9\\uad6c&quot;, &quot;name_eng&quot;: &quot;Gangdong-gu&quot;}, &quot;type&quot;: &quot;Feature&quot;}, {&quot;geometry&quot;: {&quot;coordinates&quot;: [[[127.0690698130372, 37.522279423505026], [127.10087519791962, 37.524841220167055], [127.1116764203608, 37.540669955324965], [127.12123165719615, 37.52528270089], [127.14672806823502, 37.51415680680291], [127.1634944215765, 37.497445406097484], [127.14206058413274, 37.47089819098501], [127.12440571080893, 37.46240445587048], [127.11117085201238, 37.485708381512445], [127.0719146000724, 37.50224013587669], [127.0690698130372, 37.522279423505026]]], &quot;type&quot;: &quot;Polygon&quot;}, &quot;id&quot;: &quot;\\uc1a1\\ud30c\\uad6c&quot;, &quot;properties&quot;: {&quot;base_year&quot;: &quot;2013&quot;, &quot;code&quot;: &quot;11240&quot;, &quot;name&quot;: &quot;\\uc1a1\\ud30c\\uad6c&quot;, &quot;name_eng&quot;: &quot;Songpa-gu&quot;}, &quot;type&quot;: &quot;Feature&quot;}, {&quot;geometry&quot;: {&quot;coordinates&quot;: [[[127.05867359288398, 37.52629974922568], [127.0690698130372, 37.522279423505026], [127.0719146000724, 37.50224013587669], [127.11117085201238, 37.485708381512445], [127.12440571080893, 37.46240445587048], [127.09842759318751, 37.45862253857461], [127.08640440578156, 37.472697935184655], [127.0559170481904, 37.4659228914077], [127.03621915098798, 37.48175802427603], [127.01397119667513, 37.52503988289669], [127.02302831890559, 37.53231899582663], [127.05867359288398, 37.52629974922568]]], &quot;type&quot;: &quot;Polygon&quot;}, &quot;id&quot;: &quot;\\uac15\\ub0a8\\uad6c&quot;, &quot;properties&quot;: {&quot;base_year&quot;: &quot;2013&quot;, &quot;code&quot;: &quot;11230&quot;, &quot;name&quot;: &quot;\\uac15\\ub0a8\\uad6c&quot;, &quot;name_eng&quot;: &quot;Gangnam-gu&quot;}, &quot;type&quot;: &quot;Feature&quot;}, {&quot;geometry&quot;: {&quot;coordinates&quot;: [[[127.01397119667513, 37.52503988289669], [127.03621915098798, 37.48175802427603], [127.0559170481904, 37.4659228914077], [127.08640440578156, 37.472697935184655], [127.09842759318751, 37.45862253857461], [127.09046928565951, 37.44296826114185], [127.06778107605433, 37.426197424057314], [127.04957232987142, 37.42805836845694], [127.03881782597922, 37.45382039851715], [126.99072073195462, 37.455326143310025], [126.98367668291802, 37.473856492692086], [126.98223807916081, 37.509314966770326], [127.01397119667513, 37.52503988289669]]], &quot;type&quot;: &quot;Polygon&quot;}, &quot;id&quot;: &quot;\\uc11c\\ucd08\\uad6c&quot;, &quot;properties&quot;: {&quot;base_year&quot;: &quot;2013&quot;, &quot;code&quot;: &quot;11220&quot;, &quot;name&quot;: &quot;\\uc11c\\ucd08\\uad6c&quot;, &quot;name_eng&quot;: &quot;Seocho-gu&quot;}, &quot;type&quot;: &quot;Feature&quot;}, {&quot;geometry&quot;: {&quot;coordinates&quot;: [[[126.98367668291802, 37.473856492692086], [126.99072073195462, 37.455326143310025], [126.96520439085143, 37.438249784006246], [126.95000001010182, 37.43613451165719], [126.93084408056525, 37.447382928333994], [126.9167728146601, 37.45490566423789], [126.90156094129895, 37.47753842789901], [126.90531975801812, 37.48218087575429], [126.94922661389508, 37.49125437495649], [126.9725891850662, 37.472561363278125], [126.98367668291802, 37.473856492692086]]], &quot;type&quot;: &quot;Polygon&quot;}, &quot;id&quot;: &quot;\\uad00\\uc545\\uad6c&quot;, &quot;properties&quot;: {&quot;base_year&quot;: &quot;2013&quot;, &quot;code&quot;: &quot;11210&quot;, &quot;name&quot;: &quot;\\uad00\\uc545\\uad6c&quot;, &quot;name_eng&quot;: &quot;Gwanak-gu&quot;}, &quot;type&quot;: &quot;Feature&quot;}, {&quot;geometry&quot;: {&quot;coordinates&quot;: [[[126.98223807916081, 37.509314966770326], [126.98367668291802, 37.473856492692086], [126.9725891850662, 37.472561363278125], [126.94922661389508, 37.49125437495649], [126.90531975801812, 37.48218087575429], [126.92177893174825, 37.494889877415176], [126.92810628828279, 37.51329595732015], [126.95249990298159, 37.51722500741813], [126.98223807916081, 37.509314966770326]]], &quot;type&quot;: &quot;Polygon&quot;}, &quot;id&quot;: &quot;\\ub3d9\\uc791\\uad6c&quot;, &quot;properties&quot;: {&quot;base_year&quot;: &quot;2013&quot;, &quot;code&quot;: &quot;11200&quot;, &quot;name&quot;: &quot;\\ub3d9\\uc791\\uad6c&quot;, &quot;name_eng&quot;: &quot;Dongjak-gu&quot;}, &quot;type&quot;: &quot;Feature&quot;}, {&quot;geometry&quot;: {&quot;coordinates&quot;: [[[126.89184663862764, 37.547373974997114], [126.94566733083212, 37.526617542453366], [126.95249990298159, 37.51722500741813], [126.92810628828279, 37.51329595732015], [126.92177893174825, 37.494889877415176], [126.90531975801812, 37.48218087575429], [126.89594776782485, 37.504675281309176], [126.88156402353862, 37.513970034765684], [126.88825757860099, 37.54079733630232], [126.89184663862764, 37.547373974997114]]], &quot;type&quot;: &quot;Polygon&quot;}, &quot;id&quot;: &quot;\\uc601\\ub4f1\\ud3ec\\uad6c&quot;, &quot;properties&quot;: {&quot;base_year&quot;: &quot;2013&quot;, &quot;code&quot;: &quot;11190&quot;, &quot;name&quot;: &quot;\\uc601\\ub4f1\\ud3ec\\uad6c&quot;, &quot;name_eng&quot;: &quot;Yeongdeungpo-gu&quot;}, &quot;type&quot;: &quot;Feature&quot;}, {&quot;geometry&quot;: {&quot;coordinates&quot;: [[[126.90156094129895, 37.47753842789901], [126.9167728146601, 37.45490566423789], [126.93084408056525, 37.447382928333994], [126.9025831711697, 37.434549366349124], [126.87683271502428, 37.482576591607305], [126.90156094129895, 37.47753842789901]]], &quot;type&quot;: &quot;Polygon&quot;}, &quot;id&quot;: &quot;\\uae08\\ucc9c\\uad6c&quot;, &quot;properties&quot;: {&quot;base_year&quot;: &quot;2013&quot;, &quot;code&quot;: &quot;11180&quot;, &quot;name&quot;: &quot;\\uae08\\ucc9c\\uad6c&quot;, &quot;name_eng&quot;: &quot;Geumcheon-gu&quot;}, &quot;type&quot;: &quot;Feature&quot;}, {&quot;geometry&quot;: {&quot;coordinates&quot;: [[[126.82688081517314, 37.50548972232896], [126.88156402353862, 37.513970034765684], [126.89594776782485, 37.504675281309176], [126.90531975801812, 37.48218087575429], [126.90156094129895, 37.47753842789901], [126.87683271502428, 37.482576591607305], [126.84762676054953, 37.47146723936323], [126.83549485076196, 37.474098236975095], [126.82264796791348, 37.4878476492147], [126.82504736331406, 37.50302612640443], [126.82688081517314, 37.50548972232896]]], &quot;type&quot;: &quot;Polygon&quot;}, &quot;id&quot;: &quot;\\uad6c\\ub85c\\uad6c&quot;, &quot;properties&quot;: {&quot;base_year&quot;: &quot;2013&quot;, &quot;code&quot;: &quot;11170&quot;, &quot;name&quot;: &quot;\\uad6c\\ub85c\\uad6c&quot;, &quot;name_eng&quot;: &quot;Guro-gu&quot;}, &quot;type&quot;: &quot;Feature&quot;}, {&quot;geometry&quot;: {&quot;coordinates&quot;: [[[126.79575768552907, 37.57881087633202], [126.80702115023597, 37.60123001013228], [126.82251438477105, 37.5880430810082], [126.85984199399667, 37.571847855292745], [126.89184663862764, 37.547373974997114], [126.88825757860099, 37.54079733630232], [126.86637464321238, 37.54859191094823], [126.86610073476395, 37.52699964144669], [126.84257291943153, 37.52373707805596], [126.8242331426722, 37.53788078753248], [126.77324417717703, 37.5459123450554], [126.76979180579352, 37.55139183008809], [126.79575768552907, 37.57881087633202]]], &quot;type&quot;: &quot;Polygon&quot;}, &quot;id&quot;: &quot;\\uac15\\uc11c\\uad6c&quot;, &quot;properties&quot;: {&quot;base_year&quot;: &quot;2013&quot;, &quot;code&quot;: &quot;11160&quot;, &quot;name&quot;: &quot;\\uac15\\uc11c\\uad6c&quot;, &quot;name_eng&quot;: &quot;Gangseo-gu&quot;}, &quot;type&quot;: &quot;Feature&quot;}, {&quot;geometry&quot;: {&quot;coordinates&quot;: [[[126.8242331426722, 37.53788078753248], [126.84257291943153, 37.52373707805596], [126.86610073476395, 37.52699964144669], [126.86637464321238, 37.54859191094823], [126.88825757860099, 37.54079733630232], [126.88156402353862, 37.513970034765684], [126.82688081517314, 37.50548972232896], [126.8242331426722, 37.53788078753248]]], &quot;type&quot;: &quot;Polygon&quot;}, &quot;id&quot;: &quot;\\uc591\\ucc9c\\uad6c&quot;, &quot;properties&quot;: {&quot;base_year&quot;: &quot;2013&quot;, &quot;code&quot;: &quot;11150&quot;, &quot;name&quot;: &quot;\\uc591\\ucc9c\\uad6c&quot;, &quot;name_eng&quot;: &quot;Yangcheon-gu&quot;}, &quot;type&quot;: &quot;Feature&quot;}, {&quot;geometry&quot;: {&quot;coordinates&quot;: [[[126.90522065831053, 37.57409700522574], [126.93898161798973, 37.552310003728124], [126.96358226710812, 37.55605635475154], [126.96448570553055, 37.548705692021635], [126.94566733083212, 37.526617542453366], [126.89184663862764, 37.547373974997114], [126.85984199399667, 37.571847855292745], [126.88433284773288, 37.588143322880526], [126.90522065831053, 37.57409700522574]]], &quot;type&quot;: &quot;Polygon&quot;}, &quot;id&quot;: &quot;\\ub9c8\\ud3ec\\uad6c&quot;, &quot;properties&quot;: {&quot;base_year&quot;: &quot;2013&quot;, &quot;code&quot;: &quot;11140&quot;, &quot;name&quot;: &quot;\\ub9c8\\ud3ec\\uad6c&quot;, &quot;name_eng&quot;: &quot;Mapo-gu&quot;}, &quot;type&quot;: &quot;Feature&quot;}, {&quot;geometry&quot;: {&quot;coordinates&quot;: [[[126.9524752030572, 37.60508692737045], [126.95565425846463, 37.576080790881456], [126.96873633279075, 37.56313604690827], [126.96358226710812, 37.55605635475154], [126.93898161798973, 37.552310003728124], [126.90522065831053, 37.57409700522574], [126.9524752030572, 37.60508692737045]]], &quot;type&quot;: &quot;Polygon&quot;}, &quot;id&quot;: &quot;\\uc11c\\ub300\\ubb38\\uad6c&quot;, &quot;properties&quot;: {&quot;base_year&quot;: &quot;2013&quot;, &quot;code&quot;: &quot;11130&quot;, &quot;name&quot;: &quot;\\uc11c\\ub300\\ubb38\\uad6c&quot;, &quot;name_eng&quot;: &quot;Seodaemun-gu&quot;}, &quot;type&quot;: &quot;Feature&quot;}, {&quot;geometry&quot;: {&quot;coordinates&quot;: [[[126.9738864128702, 37.62949634786888], [126.95427017006129, 37.622033431339425], [126.9524752030572, 37.60508692737045], [126.90522065831053, 37.57409700522574], [126.88433284773288, 37.588143322880526], [126.90396681003595, 37.59227403419942], [126.90303066177668, 37.609977911401344], [126.91455481429648, 37.64150050996935], [126.956473797387, 37.652480737339445], [126.9738864128702, 37.62949634786888]]], &quot;type&quot;: &quot;Polygon&quot;}, &quot;id&quot;: &quot;\\uc740\\ud3c9\\uad6c&quot;, &quot;properties&quot;: {&quot;base_year&quot;: &quot;2013&quot;, &quot;code&quot;: &quot;11120&quot;, &quot;name&quot;: &quot;\\uc740\\ud3c9\\uad6c&quot;, &quot;name_eng&quot;: &quot;Eunpyeong-gu&quot;}, &quot;type&quot;: &quot;Feature&quot;}, {&quot;geometry&quot;: {&quot;coordinates&quot;: [[[127.0838752703195, 37.69359534202034], [127.09706391309695, 37.686383719372294], [127.09440766298717, 37.64713490473045], [127.11326795855199, 37.639622905315925], [127.10782277688129, 37.61804244241069], [127.07351243825278, 37.61283660342313], [127.05209373568619, 37.62164065487782], [127.04358800895609, 37.62848931298715], [127.05800075220091, 37.64318263878276], [127.05288479710485, 37.68423857084347], [127.0838752703195, 37.69359534202034]]], &quot;type&quot;: &quot;Polygon&quot;}, &quot;id&quot;: &quot;\\ub178\\uc6d0\\uad6c&quot;, &quot;properties&quot;: {&quot;base_year&quot;: &quot;2013&quot;, &quot;code&quot;: &quot;11110&quot;, &quot;name&quot;: &quot;\\ub178\\uc6d0\\uad6c&quot;, &quot;name_eng&quot;: &quot;Nowon-gu&quot;}, &quot;type&quot;: &quot;Feature&quot;}, {&quot;geometry&quot;: {&quot;coordinates&quot;: [[[127.05288479710485, 37.68423857084347], [127.05800075220091, 37.64318263878276], [127.04358800895609, 37.62848931298715], [127.01465935892466, 37.64943687496812], [127.02062116141389, 37.667173575971205], [127.01039666042071, 37.681894589603594], [127.01795099203432, 37.69824412775662], [127.05288479710485, 37.68423857084347]]], &quot;type&quot;: &quot;Polygon&quot;}, &quot;id&quot;: &quot;\\ub3c4\\ubd09\\uad6c&quot;, &quot;properties&quot;: {&quot;base_year&quot;: &quot;2013&quot;, &quot;code&quot;: &quot;11100&quot;, &quot;name&quot;: &quot;\\ub3c4\\ubd09\\uad6c&quot;, &quot;name_eng&quot;: &quot;Dobong-gu&quot;}, &quot;type&quot;: &quot;Feature&quot;}, {&quot;geometry&quot;: {&quot;coordinates&quot;: [[[126.99383903424, 37.676681761199085], [127.01039666042071, 37.681894589603594], [127.02062116141389, 37.667173575971205], [127.01465935892466, 37.64943687496812], [127.04358800895609, 37.62848931298715], [127.05209373568619, 37.62164065487782], [127.03892400992301, 37.609715611023816], [127.0128154749523, 37.613652243470256], [126.98672705513869, 37.63377641288196], [126.9817452676551, 37.65209769387776], [126.99383903424, 37.676681761199085]]], &quot;type&quot;: &quot;Polygon&quot;}, &quot;id&quot;: &quot;\\uac15\\ubd81\\uad6c&quot;, &quot;properties&quot;: {&quot;base_year&quot;: &quot;2013&quot;, &quot;code&quot;: &quot;11090&quot;, &quot;name&quot;: &quot;\\uac15\\ubd81\\uad6c&quot;, &quot;name_eng&quot;: &quot;Gangbuk-gu&quot;}, &quot;type&quot;: &quot;Feature&quot;}, {&quot;geometry&quot;: {&quot;coordinates&quot;: [[[126.977175406416, 37.62859715400388], [126.98672705513869, 37.63377641288196], [127.0128154749523, 37.613652243470256], [127.03892400992301, 37.609715611023816], [127.05209373568619, 37.62164065487782], [127.07351243825278, 37.61283660342313], [127.07382707099227, 37.60401928986419], [127.042705222094, 37.59239437593391], [127.02527254528003, 37.57524616245249], [126.99348293358314, 37.588565457216156], [126.98879865992384, 37.6118927319756], [126.977175406416, 37.62859715400388]]], &quot;type&quot;: &quot;Polygon&quot;}, &quot;id&quot;: &quot;\\uc131\\ubd81\\uad6c&quot;, &quot;properties&quot;: {&quot;base_year&quot;: &quot;2013&quot;, &quot;code&quot;: &quot;11080&quot;, &quot;name&quot;: &quot;\\uc131\\ubd81\\uad6c&quot;, &quot;name_eng&quot;: &quot;Seongbuk-gu&quot;}, &quot;type&quot;: &quot;Feature&quot;}, {&quot;geometry&quot;: {&quot;coordinates&quot;: [[[127.07351243825278, 37.61283660342313], [127.10782277688129, 37.61804244241069], [127.1201246020114, 37.60178457598188], [127.10304174249214, 37.57076342290955], [127.08068541280403, 37.56906425519017], [127.07382707099227, 37.60401928986419], [127.07351243825278, 37.61283660342313]]], &quot;type&quot;: &quot;Polygon&quot;}, &quot;id&quot;: &quot;\\uc911\\ub791\\uad6c&quot;, &quot;properties&quot;: {&quot;base_year&quot;: &quot;2013&quot;, &quot;code&quot;: &quot;11070&quot;, &quot;name&quot;: &quot;\\uc911\\ub791\\uad6c&quot;, &quot;name_eng&quot;: &quot;Jungnang-gu&quot;}, &quot;type&quot;: &quot;Feature&quot;}, {&quot;geometry&quot;: {&quot;coordinates&quot;: [[[127.02527254528003, 37.57524616245249], [127.042705222094, 37.59239437593391], [127.07382707099227, 37.60401928986419], [127.08068541280403, 37.56906425519017], [127.07421053024362, 37.55724769712085], [127.05005601081567, 37.567577612590846], [127.02547266349976, 37.568943552237734], [127.02527254528003, 37.57524616245249]]], &quot;type&quot;: &quot;Polygon&quot;}, &quot;id&quot;: &quot;\\ub3d9\\ub300\\ubb38\\uad6c&quot;, &quot;properties&quot;: {&quot;base_year&quot;: &quot;2013&quot;, &quot;code&quot;: &quot;11060&quot;, &quot;name&quot;: &quot;\\ub3d9\\ub300\\ubb38\\uad6c&quot;, &quot;name_eng&quot;: &quot;Dongdaemun-gu&quot;}, &quot;type&quot;: &quot;Feature&quot;}, {&quot;geometry&quot;: {&quot;coordinates&quot;: [[[127.08068541280403, 37.56906425519017], [127.10304174249214, 37.57076342290955], [127.11519584981606, 37.557533180704915], [127.1116764203608, 37.540669955324965], [127.10087519791962, 37.524841220167055], [127.0690698130372, 37.522279423505026], [127.05867359288398, 37.52629974922568], [127.07421053024362, 37.55724769712085], [127.08068541280403, 37.56906425519017]]], &quot;type&quot;: &quot;Polygon&quot;}, &quot;id&quot;: &quot;\\uad11\\uc9c4\\uad6c&quot;, &quot;properties&quot;: {&quot;base_year&quot;: &quot;2013&quot;, &quot;code&quot;: &quot;11050&quot;, &quot;name&quot;: &quot;\\uad11\\uc9c4\\uad6c&quot;, &quot;name_eng&quot;: &quot;Gwangjin-gu&quot;}, &quot;type&quot;: &quot;Feature&quot;}, {&quot;geometry&quot;: {&quot;coordinates&quot;: [[[127.02547266349976, 37.568943552237734], [127.05005601081567, 37.567577612590846], [127.07421053024362, 37.55724769712085], [127.05867359288398, 37.52629974922568], [127.02302831890559, 37.53231899582663], [127.01070894177482, 37.54118048964762], [127.02547266349976, 37.568943552237734]]], &quot;type&quot;: &quot;Polygon&quot;}, &quot;id&quot;: &quot;\\uc131\\ub3d9\\uad6c&quot;, &quot;properties&quot;: {&quot;base_year&quot;: &quot;2013&quot;, &quot;code&quot;: &quot;11040&quot;, &quot;name&quot;: &quot;\\uc131\\ub3d9\\uad6c&quot;, &quot;name_eng&quot;: &quot;Seongdong-gu&quot;}, &quot;type&quot;: &quot;Feature&quot;}, {&quot;geometry&quot;: {&quot;coordinates&quot;: [[[127.01070894177482, 37.54118048964762], [127.02302831890559, 37.53231899582663], [127.01397119667513, 37.52503988289669], [126.98223807916081, 37.509314966770326], [126.95249990298159, 37.51722500741813], [126.94566733083212, 37.526617542453366], [126.96448570553055, 37.548705692021635], [126.98752996903328, 37.55094818807139], [127.01070894177482, 37.54118048964762]]], &quot;type&quot;: &quot;Polygon&quot;}, &quot;id&quot;: &quot;\\uc6a9\\uc0b0\\uad6c&quot;, &quot;properties&quot;: {&quot;base_year&quot;: &quot;2013&quot;, &quot;code&quot;: &quot;11030&quot;, &quot;name&quot;: &quot;\\uc6a9\\uc0b0\\uad6c&quot;, &quot;name_eng&quot;: &quot;Yongsan-gu&quot;}, &quot;type&quot;: &quot;Feature&quot;}, {&quot;geometry&quot;: {&quot;coordinates&quot;: [[[127.02547266349976, 37.568943552237734], [127.01070894177482, 37.54118048964762], [126.98752996903328, 37.55094818807139], [126.96448570553055, 37.548705692021635], [126.96358226710812, 37.55605635475154], [126.96873633279075, 37.56313604690827], [127.02547266349976, 37.568943552237734]]], &quot;type&quot;: &quot;Polygon&quot;}, &quot;id&quot;: &quot;\\uc911\\uad6c&quot;, &quot;properties&quot;: {&quot;base_year&quot;: &quot;2013&quot;, &quot;code&quot;: &quot;11020&quot;, &quot;name&quot;: &quot;\\uc911\\uad6c&quot;, &quot;name_eng&quot;: &quot;Jung-gu&quot;}, &quot;type&quot;: &quot;Feature&quot;}, {&quot;geometry&quot;: {&quot;coordinates&quot;: [[[126.9738864128702, 37.62949634786888], [126.977175406416, 37.62859715400388], [126.98879865992384, 37.6118927319756], [126.99348293358314, 37.588565457216156], [127.02527254528003, 37.57524616245249], [127.02547266349976, 37.568943552237734], [126.96873633279075, 37.56313604690827], [126.95565425846463, 37.576080790881456], [126.9524752030572, 37.60508692737045], [126.95427017006129, 37.622033431339425], [126.9738864128702, 37.62949634786888]]], &quot;type&quot;: &quot;Polygon&quot;}, &quot;id&quot;: &quot;\\uc885\\ub85c\\uad6c&quot;, &quot;properties&quot;: {&quot;base_year&quot;: &quot;2013&quot;, &quot;code&quot;: &quot;11010&quot;, &quot;name&quot;: &quot;\\uc885\\ub85c\\uad6c&quot;, &quot;name_eng&quot;: &quot;Jongno-gu&quot;}, &quot;type&quot;: &quot;Feature&quot;}], &quot;type&quot;: &quot;FeatureCollection&quot;});\n",
       "\n",
       "        \n",
       "    \n",
       "            geo_json_1a6f2e940f4fe8febdb9f85712ce6755.addTo(choropleth_453e4c8643d217d23b7bc93ab52b36d1);\n",
       "        \n",
       "    \n",
       "    var color_map_8e5cebbd51a4a028711758671608af22 = {};\n",
       "\n",
       "    \n",
       "    color_map_8e5cebbd51a4a028711758671608af22.color = d3.scale.threshold()\n",
       "              .domain([3530.0, 3559.9238476953906, 3589.8476953907816, 3619.771543086172, 3649.695390781563, 3679.619238476954, 3709.543086172345, 3739.4669338677354, 3769.3907815631264, 3799.314629258517, 3829.2384769539076, 3859.1623246492986, 3889.086172344689, 3919.0100200400802, 3948.933867735471, 3978.857715430862, 4008.7815631262524, 4038.7054108216435, 4068.629258517034, 4098.553106212425, 4128.476953907815, 4158.400801603207, 4188.324649298597, 4218.248496993988, 4248.172344689378, 4278.09619238477, 4308.0200400801605, 4337.943887775551, 4367.867735470942, 4397.791583166332, 4427.715430861724, 4457.639278557114, 4487.563126252505, 4517.486973947895, 4547.410821643287, 4577.3346693386775, 4607.258517034068, 4637.182364729459, 4667.106212424849, 4697.030060120241, 4726.953907815631, 4756.877755511022, 4786.801603206413, 4816.725450901804, 4846.6492985971945, 4876.573146292585, 4906.496993987976, 4936.420841683366, 4966.344689378758, 4996.268537074148, 5026.192384769539, 5056.11623246493, 5086.040080160321, 5115.9639278557115, 5145.887775551102, 5175.811623246493, 5205.735470941883, 5235.659318637275, 5265.583166332665, 5295.507014028056, 5325.430861723447, 5355.354709418838, 5385.2785571142285, 5415.202404809619, 5445.12625250501, 5475.0501002004, 5504.973947895792, 5534.897795591182, 5564.821643286573, 5594.745490981964, 5624.669338677355, 5654.593186372746, 5684.517034068136, 5714.440881763527, 5744.364729458917, 5774.288577154309, 5804.212424849699, 5834.136272545091, 5864.060120240481, 5893.983967935872, 5923.907815631263, 5953.831663326653, 5983.755511022044, 6013.679358717434, 6043.603206412826, 6073.527054108216, 6103.450901803608, 6133.374749498998, 6163.298597194389, 6193.22244488978, 6223.14629258517, 6253.070140280561, 6282.993987975951, 6312.917835671343, 6342.841683366733, 6372.765531062125, 6402.689378757515, 6432.613226452906, 6462.537074148297, 6492.460921843687, 6522.384769539078, 6552.308617234468, 6582.23246492986, 6612.15631262525, 6642.080160320642, 6672.0040080160325, 6701.927855711423, 6731.851703406814, 6761.775551102204, 6791.699398797595, 6821.623246492985, 6851.547094188377, 6881.470941883767, 6911.394789579159, 6941.3186372745495, 6971.24248496994, 7001.166332665331, 7031.090180360721, 7061.014028056112, 7090.937875751502, 7120.861723446894, 7150.785571142284, 7180.709418837676, 7210.6332665330665, 7240.557114228457, 7270.480961923848, 7300.404809619238, 7330.328657314629, 7360.252505010019, 7390.176352705411, 7420.100200400801, 7450.024048096193, 7479.9478957915835, 7509.871743486974, 7539.795591182365, 7569.719438877755, 7599.643286573146, 7629.567134268537, 7659.490981963928, 7689.4148296593185, 7719.338677354709, 7749.2625250501005, 7779.186372745491, 7809.110220440882, 7839.034068136272, 7868.957915831664, 7898.881763527054, 7928.805611222445, 7958.7294589178355, 7988.653306613226, 8018.5771543086175, 8048.501002004008, 8078.424849699399, 8108.348697394789, 8138.272545090181, 8168.196392785571, 8198.120240480963, 8228.044088176353, 8257.967935871744, 8287.891783567135, 8317.815631262525, 8347.739478957916, 8377.663326653306, 8407.587174348697, 8437.511022044087, 8467.434869739478, 8497.358717434869, 8527.28256513026, 8557.206412825652, 8587.130260521042, 8617.054108216433, 8646.977955911823, 8676.901803607216, 8706.825651302606, 8736.749498997997, 8766.673346693387, 8796.597194388778, 8826.521042084169, 8856.44488977956, 8886.36873747495, 8916.29258517034, 8946.21643286573, 8976.140280561121, 9006.064128256512, 9035.987975951903, 9065.911823647295, 9095.835671342686, 9125.759519038076, 9155.683366733467, 9185.607214428857, 9215.53106212425, 9245.45490981964, 9275.37875751503, 9305.302605210421, 9335.226452905812, 9365.150300601203, 9395.074148296593, 9424.997995991984, 9454.921843687374, 9484.845691382765, 9514.769539078156, 9544.693386773546, 9574.617234468937, 9604.541082164329, 9634.46492985972, 9664.38877755511, 9694.3126252505, 9724.236472945891, 9754.160320641284, 9784.084168336674, 9814.008016032065, 9843.931863727455, 9873.855711422846, 9903.779559118237, 9933.703406813627, 9963.627254509018, 9993.551102204408, 10023.474949899799, 10053.39879759519, 10083.32264529058, 10113.24649298597, 10143.170340681363, 10173.094188376754, 10203.018036072144, 10232.941883767535, 10262.865731462927, 10292.789579158318, 10322.713426853708, 10352.637274549099, 10382.56112224449, 10412.48496993988, 10442.40881763527, 10472.332665330661, 10502.256513026052, 10532.180360721442, 10562.104208416833, 10592.028056112224, 10621.951903807614, 10651.875751503005, 10681.799599198397, 10711.723446893788, 10741.647294589178, 10771.571142284569, 10801.494989979961, 10831.418837675352, 10861.342685370742, 10891.266533066133, 10921.190380761524, 10951.114228456914, 10981.038076152305, 11010.961923847695, 11040.885771543086, 11070.809619238476, 11100.733466933867, 11130.657314629258, 11160.581162324648, 11190.505010020039, 11220.428857715431, 11250.352705410822, 11280.276553106212, 11310.200400801603, 11340.124248496995, 11370.048096192386, 11399.971943887776, 11429.895791583167, 11459.819639278558, 11489.743486973948, 11519.667334669339, 11549.59118236473, 11579.51503006012, 11609.43887775551, 11639.362725450901, 11669.286573146292, 11699.210420841682, 11729.134268537075, 11759.058116232465, 11788.981963927856, 11818.905811623246, 11848.829659318637, 11878.753507014027, 11908.677354709418, 11938.60120240481, 11968.525050100201, 11998.448897795592, 12028.372745490982, 12058.296593186373, 12088.220440881763, 12118.144288577154, 12148.068136272545, 12177.991983967935, 12207.915831663327, 12237.839679358718, 12267.763527054109, 12297.6873747495, 12327.61122244489, 12357.53507014028, 12387.458917835671, 12417.382765531062, 12447.306613226452, 12477.230460921844, 12507.154308617235, 12537.078156312626, 12567.002004008016, 12596.925851703407, 12626.849699398797, 12656.773547094188, 12686.697394789579, 12716.62124248497, 12746.545090180362, 12776.468937875752, 12806.392785571143, 12836.316633266533, 12866.240480961924, 12896.164328657314, 12926.088176352705, 12956.012024048096, 12985.935871743486, 13015.859719438879, 13045.78356713427, 13075.70741482966, 13105.63126252505, 13135.55511022044, 13165.478957915831, 13195.402805611222, 13225.326653306613, 13255.250501002003, 13285.174348697396, 13315.098196392786, 13345.022044088177, 13374.945891783567, 13404.869739478958, 13434.793587174348, 13464.717434869739, 13494.64128256513, 13524.56513026052, 13554.488977955913, 13584.412825651303, 13614.336673346694, 13644.260521042084, 13674.184368737475, 13704.108216432865, 13734.032064128256, 13763.955911823647, 13793.879759519037, 13823.80360721443, 13853.72745490982, 13883.65130260521, 13913.575150300601, 13943.498997995992, 13973.422845691382, 14003.346693386773, 14033.270541082164, 14063.194388777556, 14093.118236472947, 14123.042084168337, 14152.965931863728, 14182.889779559118, 14212.813627254509, 14242.7374749499, 14272.66132264529, 14302.58517034068, 14332.509018036073, 14362.432865731464, 14392.356713426854, 14422.280561122245, 14452.204408817635, 14482.128256513026, 14512.052104208416, 14541.975951903807, 14571.899799599198, 14601.82364729459, 14631.74749498998, 14661.671342685371, 14691.595190380762, 14721.519038076152, 14751.442885771543, 14781.366733466934, 14811.290581162324, 14841.214428857715, 14871.138276553107, 14901.062124248498, 14930.985971943888, 14960.909819639279, 14990.83366733467, 15020.75751503006, 15050.68136272545, 15080.605210420841, 15110.529058116232, 15140.452905811624, 15170.376753507015, 15200.300601202405, 15230.224448897796, 15260.148296593186, 15290.072144288577, 15319.995991983968, 15349.919839679358, 15379.843687374749, 15409.767535070141, 15439.691382765532, 15469.615230460922, 15499.539078156313, 15529.462925851703, 15559.386773547094, 15589.310621242485, 15619.234468937875, 15649.158316633266, 15679.082164328658, 15709.006012024049, 15738.92985971944, 15768.85370741483, 15798.77755511022, 15828.701402805611, 15858.625250501002, 15888.549098196392, 15918.472945891783, 15948.396793587175, 15978.320641282566, 16008.244488977956, 16038.168336673347, 16068.092184368737, 16098.016032064128, 16127.939879759519, 16157.86372745491, 16187.7875751503, 16217.711422845692, 16247.635270541083, 16277.559118236473, 16307.482965931864, 16337.406813627254, 16367.330661322645, 16397.254509018036, 16427.178356713426, 16457.102204408817, 16487.026052104207, 16516.949899799598, 16546.87374749499, 16576.79759519038, 16606.72144288577, 16636.64529058116, 16666.56913827655, 16696.49298597194, 16726.416833667332, 16756.340681362726, 16786.264529058117, 16816.188376753507, 16846.112224448898, 16876.03607214429, 16905.95991983968, 16935.88376753507, 16965.80761523046, 16995.731462925854, 17025.655310621245, 17055.579158316636, 17085.503006012026, 17115.426853707417, 17145.350701402807, 17175.274549098198, 17205.19839679359, 17235.12224448898, 17265.04609218437, 17294.96993987976, 17324.89378757515, 17354.81763527054, 17384.741482965932, 17414.665330661323, 17444.589178356713, 17474.513026052104, 17504.436873747494, 17534.360721442885, 17564.284569138275, 17594.208416833666, 17624.132264529057, 17654.056112224447, 17683.979959919838, 17713.90380761523, 17743.82765531062, 17773.75150300601, 17803.675350701404, 17833.599198396794, 17863.523046092185, 17893.446893787575, 17923.370741482966, 17953.294589178357, 17983.218436873747, 18013.142284569138, 18043.06613226453, 18072.989979959922, 18102.913827655313, 18132.837675350704, 18162.761523046094, 18192.685370741485, 18222.609218436875, 18252.533066132266, 18282.456913827657, 18312.380761523047, 18342.304609218438, 18372.22845691383, 18402.15230460922, 18432.07615230461, 18462.0])\n",
       "              .range([&#x27;#f1eef6ff&#x27;, &#x27;#f1eef6ff&#x27;, &#x27;#f1eef6ff&#x27;, &#x27;#f1eef6ff&#x27;, &#x27;#f1eef6ff&#x27;, &#x27;#f1eef6ff&#x27;, &#x27;#f1eef6ff&#x27;, &#x27;#f1eef6ff&#x27;, &#x27;#f1eef6ff&#x27;, &#x27;#f1eef6ff&#x27;, &#x27;#f1eef6ff&#x27;, &#x27;#f1eef6ff&#x27;, &#x27;#f1eef6ff&#x27;, &#x27;#f1eef6ff&#x27;, &#x27;#f1eef6ff&#x27;, &#x27;#f1eef6ff&#x27;, &#x27;#f1eef6ff&#x27;, &#x27;#f1eef6ff&#x27;, &#x27;#f1eef6ff&#x27;, &#x27;#f1eef6ff&#x27;, &#x27;#f1eef6ff&#x27;, &#x27;#f1eef6ff&#x27;, &#x27;#f1eef6ff&#x27;, &#x27;#f1eef6ff&#x27;, &#x27;#f1eef6ff&#x27;, &#x27;#f1eef6ff&#x27;, &#x27;#f1eef6ff&#x27;, &#x27;#f1eef6ff&#x27;, &#x27;#f1eef6ff&#x27;, &#x27;#f1eef6ff&#x27;, &#x27;#f1eef6ff&#x27;, &#x27;#f1eef6ff&#x27;, &#x27;#f1eef6ff&#x27;, &#x27;#f1eef6ff&#x27;, &#x27;#f1eef6ff&#x27;, &#x27;#f1eef6ff&#x27;, &#x27;#f1eef6ff&#x27;, &#x27;#f1eef6ff&#x27;, &#x27;#f1eef6ff&#x27;, &#x27;#f1eef6ff&#x27;, &#x27;#f1eef6ff&#x27;, &#x27;#f1eef6ff&#x27;, &#x27;#f1eef6ff&#x27;, &#x27;#f1eef6ff&#x27;, &#x27;#f1eef6ff&#x27;, &#x27;#f1eef6ff&#x27;, &#x27;#f1eef6ff&#x27;, &#x27;#f1eef6ff&#x27;, &#x27;#f1eef6ff&#x27;, &#x27;#f1eef6ff&#x27;, &#x27;#f1eef6ff&#x27;, &#x27;#f1eef6ff&#x27;, &#x27;#f1eef6ff&#x27;, &#x27;#f1eef6ff&#x27;, &#x27;#f1eef6ff&#x27;, &#x27;#f1eef6ff&#x27;, &#x27;#f1eef6ff&#x27;, &#x27;#f1eef6ff&#x27;, &#x27;#f1eef6ff&#x27;, &#x27;#f1eef6ff&#x27;, &#x27;#f1eef6ff&#x27;, &#x27;#f1eef6ff&#x27;, &#x27;#f1eef6ff&#x27;, &#x27;#f1eef6ff&#x27;, &#x27;#f1eef6ff&#x27;, &#x27;#f1eef6ff&#x27;, &#x27;#f1eef6ff&#x27;, &#x27;#f1eef6ff&#x27;, &#x27;#f1eef6ff&#x27;, &#x27;#f1eef6ff&#x27;, &#x27;#f1eef6ff&#x27;, &#x27;#f1eef6ff&#x27;, &#x27;#f1eef6ff&#x27;, &#x27;#f1eef6ff&#x27;, &#x27;#f1eef6ff&#x27;, &#x27;#f1eef6ff&#x27;, &#x27;#f1eef6ff&#x27;, &#x27;#f1eef6ff&#x27;, &#x27;#f1eef6ff&#x27;, &#x27;#f1eef6ff&#x27;, &#x27;#f1eef6ff&#x27;, &#x27;#f1eef6ff&#x27;, &#x27;#f1eef6ff&#x27;, &#x27;#f1eef6ff&#x27;, &#x27;#d4b9daff&#x27;, &#x27;#d4b9daff&#x27;, &#x27;#d4b9daff&#x27;, &#x27;#d4b9daff&#x27;, &#x27;#d4b9daff&#x27;, &#x27;#d4b9daff&#x27;, &#x27;#d4b9daff&#x27;, &#x27;#d4b9daff&#x27;, &#x27;#d4b9daff&#x27;, &#x27;#d4b9daff&#x27;, &#x27;#d4b9daff&#x27;, &#x27;#d4b9daff&#x27;, &#x27;#d4b9daff&#x27;, &#x27;#d4b9daff&#x27;, &#x27;#d4b9daff&#x27;, &#x27;#d4b9daff&#x27;, &#x27;#d4b9daff&#x27;, &#x27;#d4b9daff&#x27;, &#x27;#d4b9daff&#x27;, &#x27;#d4b9daff&#x27;, &#x27;#d4b9daff&#x27;, &#x27;#d4b9daff&#x27;, &#x27;#d4b9daff&#x27;, &#x27;#d4b9daff&#x27;, &#x27;#d4b9daff&#x27;, &#x27;#d4b9daff&#x27;, &#x27;#d4b9daff&#x27;, &#x27;#d4b9daff&#x27;, &#x27;#d4b9daff&#x27;, &#x27;#d4b9daff&#x27;, &#x27;#d4b9daff&#x27;, &#x27;#d4b9daff&#x27;, &#x27;#d4b9daff&#x27;, &#x27;#d4b9daff&#x27;, &#x27;#d4b9daff&#x27;, &#x27;#d4b9daff&#x27;, &#x27;#d4b9daff&#x27;, &#x27;#d4b9daff&#x27;, &#x27;#d4b9daff&#x27;, &#x27;#d4b9daff&#x27;, &#x27;#d4b9daff&#x27;, &#x27;#d4b9daff&#x27;, &#x27;#d4b9daff&#x27;, &#x27;#d4b9daff&#x27;, &#x27;#d4b9daff&#x27;, &#x27;#d4b9daff&#x27;, &#x27;#d4b9daff&#x27;, &#x27;#d4b9daff&#x27;, &#x27;#d4b9daff&#x27;, &#x27;#d4b9daff&#x27;, &#x27;#d4b9daff&#x27;, &#x27;#d4b9daff&#x27;, &#x27;#d4b9daff&#x27;, &#x27;#d4b9daff&#x27;, &#x27;#d4b9daff&#x27;, &#x27;#d4b9daff&#x27;, &#x27;#d4b9daff&#x27;, &#x27;#d4b9daff&#x27;, &#x27;#d4b9daff&#x27;, &#x27;#d4b9daff&#x27;, &#x27;#d4b9daff&#x27;, &#x27;#d4b9daff&#x27;, &#x27;#d4b9daff&#x27;, &#x27;#d4b9daff&#x27;, &#x27;#d4b9daff&#x27;, &#x27;#d4b9daff&#x27;, &#x27;#d4b9daff&#x27;, &#x27;#d4b9daff&#x27;, &#x27;#d4b9daff&#x27;, &#x27;#d4b9daff&#x27;, &#x27;#d4b9daff&#x27;, &#x27;#d4b9daff&#x27;, &#x27;#d4b9daff&#x27;, &#x27;#d4b9daff&#x27;, &#x27;#d4b9daff&#x27;, &#x27;#d4b9daff&#x27;, &#x27;#d4b9daff&#x27;, &#x27;#d4b9daff&#x27;, &#x27;#d4b9daff&#x27;, &#x27;#d4b9daff&#x27;, &#x27;#d4b9daff&#x27;, &#x27;#d4b9daff&#x27;, &#x27;#d4b9daff&#x27;, &#x27;#c994c7ff&#x27;, &#x27;#c994c7ff&#x27;, &#x27;#c994c7ff&#x27;, &#x27;#c994c7ff&#x27;, &#x27;#c994c7ff&#x27;, &#x27;#c994c7ff&#x27;, &#x27;#c994c7ff&#x27;, &#x27;#c994c7ff&#x27;, &#x27;#c994c7ff&#x27;, &#x27;#c994c7ff&#x27;, &#x27;#c994c7ff&#x27;, &#x27;#c994c7ff&#x27;, &#x27;#c994c7ff&#x27;, &#x27;#c994c7ff&#x27;, &#x27;#c994c7ff&#x27;, &#x27;#c994c7ff&#x27;, &#x27;#c994c7ff&#x27;, &#x27;#c994c7ff&#x27;, &#x27;#c994c7ff&#x27;, &#x27;#c994c7ff&#x27;, &#x27;#c994c7ff&#x27;, &#x27;#c994c7ff&#x27;, &#x27;#c994c7ff&#x27;, &#x27;#c994c7ff&#x27;, &#x27;#c994c7ff&#x27;, &#x27;#c994c7ff&#x27;, &#x27;#c994c7ff&#x27;, &#x27;#c994c7ff&#x27;, &#x27;#c994c7ff&#x27;, &#x27;#c994c7ff&#x27;, &#x27;#c994c7ff&#x27;, &#x27;#c994c7ff&#x27;, &#x27;#c994c7ff&#x27;, &#x27;#c994c7ff&#x27;, &#x27;#c994c7ff&#x27;, &#x27;#c994c7ff&#x27;, &#x27;#c994c7ff&#x27;, &#x27;#c994c7ff&#x27;, &#x27;#c994c7ff&#x27;, &#x27;#c994c7ff&#x27;, &#x27;#c994c7ff&#x27;, &#x27;#c994c7ff&#x27;, &#x27;#c994c7ff&#x27;, &#x27;#c994c7ff&#x27;, &#x27;#c994c7ff&#x27;, &#x27;#c994c7ff&#x27;, &#x27;#c994c7ff&#x27;, &#x27;#c994c7ff&#x27;, &#x27;#c994c7ff&#x27;, &#x27;#c994c7ff&#x27;, &#x27;#c994c7ff&#x27;, &#x27;#c994c7ff&#x27;, &#x27;#c994c7ff&#x27;, &#x27;#c994c7ff&#x27;, &#x27;#c994c7ff&#x27;, &#x27;#c994c7ff&#x27;, &#x27;#c994c7ff&#x27;, &#x27;#c994c7ff&#x27;, &#x27;#c994c7ff&#x27;, &#x27;#c994c7ff&#x27;, &#x27;#c994c7ff&#x27;, &#x27;#c994c7ff&#x27;, &#x27;#c994c7ff&#x27;, &#x27;#c994c7ff&#x27;, &#x27;#c994c7ff&#x27;, &#x27;#c994c7ff&#x27;, &#x27;#c994c7ff&#x27;, &#x27;#c994c7ff&#x27;, &#x27;#c994c7ff&#x27;, &#x27;#c994c7ff&#x27;, &#x27;#c994c7ff&#x27;, &#x27;#c994c7ff&#x27;, &#x27;#c994c7ff&#x27;, &#x27;#c994c7ff&#x27;, &#x27;#c994c7ff&#x27;, &#x27;#c994c7ff&#x27;, &#x27;#c994c7ff&#x27;, &#x27;#c994c7ff&#x27;, &#x27;#c994c7ff&#x27;, &#x27;#c994c7ff&#x27;, &#x27;#c994c7ff&#x27;, &#x27;#c994c7ff&#x27;, &#x27;#c994c7ff&#x27;, &#x27;#df65b0ff&#x27;, &#x27;#df65b0ff&#x27;, &#x27;#df65b0ff&#x27;, &#x27;#df65b0ff&#x27;, &#x27;#df65b0ff&#x27;, &#x27;#df65b0ff&#x27;, &#x27;#df65b0ff&#x27;, &#x27;#df65b0ff&#x27;, &#x27;#df65b0ff&#x27;, &#x27;#df65b0ff&#x27;, &#x27;#df65b0ff&#x27;, &#x27;#df65b0ff&#x27;, &#x27;#df65b0ff&#x27;, &#x27;#df65b0ff&#x27;, &#x27;#df65b0ff&#x27;, &#x27;#df65b0ff&#x27;, &#x27;#df65b0ff&#x27;, &#x27;#df65b0ff&#x27;, &#x27;#df65b0ff&#x27;, &#x27;#df65b0ff&#x27;, &#x27;#df65b0ff&#x27;, &#x27;#df65b0ff&#x27;, &#x27;#df65b0ff&#x27;, &#x27;#df65b0ff&#x27;, &#x27;#df65b0ff&#x27;, &#x27;#df65b0ff&#x27;, &#x27;#df65b0ff&#x27;, &#x27;#df65b0ff&#x27;, &#x27;#df65b0ff&#x27;, &#x27;#df65b0ff&#x27;, &#x27;#df65b0ff&#x27;, &#x27;#df65b0ff&#x27;, &#x27;#df65b0ff&#x27;, &#x27;#df65b0ff&#x27;, &#x27;#df65b0ff&#x27;, &#x27;#df65b0ff&#x27;, &#x27;#df65b0ff&#x27;, &#x27;#df65b0ff&#x27;, &#x27;#df65b0ff&#x27;, &#x27;#df65b0ff&#x27;, &#x27;#df65b0ff&#x27;, &#x27;#df65b0ff&#x27;, &#x27;#df65b0ff&#x27;, &#x27;#df65b0ff&#x27;, &#x27;#df65b0ff&#x27;, &#x27;#df65b0ff&#x27;, &#x27;#df65b0ff&#x27;, &#x27;#df65b0ff&#x27;, &#x27;#df65b0ff&#x27;, &#x27;#df65b0ff&#x27;, &#x27;#df65b0ff&#x27;, &#x27;#df65b0ff&#x27;, &#x27;#df65b0ff&#x27;, &#x27;#df65b0ff&#x27;, &#x27;#df65b0ff&#x27;, &#x27;#df65b0ff&#x27;, &#x27;#df65b0ff&#x27;, &#x27;#df65b0ff&#x27;, &#x27;#df65b0ff&#x27;, &#x27;#df65b0ff&#x27;, &#x27;#df65b0ff&#x27;, &#x27;#df65b0ff&#x27;, &#x27;#df65b0ff&#x27;, &#x27;#df65b0ff&#x27;, &#x27;#df65b0ff&#x27;, &#x27;#df65b0ff&#x27;, &#x27;#df65b0ff&#x27;, &#x27;#df65b0ff&#x27;, &#x27;#df65b0ff&#x27;, &#x27;#df65b0ff&#x27;, &#x27;#df65b0ff&#x27;, &#x27;#df65b0ff&#x27;, &#x27;#df65b0ff&#x27;, &#x27;#df65b0ff&#x27;, &#x27;#df65b0ff&#x27;, &#x27;#df65b0ff&#x27;, &#x27;#df65b0ff&#x27;, &#x27;#df65b0ff&#x27;, &#x27;#df65b0ff&#x27;, &#x27;#df65b0ff&#x27;, &#x27;#df65b0ff&#x27;, &#x27;#df65b0ff&#x27;, &#x27;#df65b0ff&#x27;, &#x27;#dd1c77ff&#x27;, &#x27;#dd1c77ff&#x27;, &#x27;#dd1c77ff&#x27;, &#x27;#dd1c77ff&#x27;, &#x27;#dd1c77ff&#x27;, &#x27;#dd1c77ff&#x27;, &#x27;#dd1c77ff&#x27;, &#x27;#dd1c77ff&#x27;, &#x27;#dd1c77ff&#x27;, &#x27;#dd1c77ff&#x27;, &#x27;#dd1c77ff&#x27;, &#x27;#dd1c77ff&#x27;, &#x27;#dd1c77ff&#x27;, &#x27;#dd1c77ff&#x27;, &#x27;#dd1c77ff&#x27;, &#x27;#dd1c77ff&#x27;, &#x27;#dd1c77ff&#x27;, &#x27;#dd1c77ff&#x27;, &#x27;#dd1c77ff&#x27;, &#x27;#dd1c77ff&#x27;, &#x27;#dd1c77ff&#x27;, &#x27;#dd1c77ff&#x27;, &#x27;#dd1c77ff&#x27;, &#x27;#dd1c77ff&#x27;, &#x27;#dd1c77ff&#x27;, &#x27;#dd1c77ff&#x27;, &#x27;#dd1c77ff&#x27;, &#x27;#dd1c77ff&#x27;, &#x27;#dd1c77ff&#x27;, &#x27;#dd1c77ff&#x27;, &#x27;#dd1c77ff&#x27;, &#x27;#dd1c77ff&#x27;, &#x27;#dd1c77ff&#x27;, &#x27;#dd1c77ff&#x27;, &#x27;#dd1c77ff&#x27;, &#x27;#dd1c77ff&#x27;, &#x27;#dd1c77ff&#x27;, &#x27;#dd1c77ff&#x27;, &#x27;#dd1c77ff&#x27;, &#x27;#dd1c77ff&#x27;, &#x27;#dd1c77ff&#x27;, &#x27;#dd1c77ff&#x27;, &#x27;#dd1c77ff&#x27;, &#x27;#dd1c77ff&#x27;, &#x27;#dd1c77ff&#x27;, &#x27;#dd1c77ff&#x27;, &#x27;#dd1c77ff&#x27;, &#x27;#dd1c77ff&#x27;, &#x27;#dd1c77ff&#x27;, &#x27;#dd1c77ff&#x27;, &#x27;#dd1c77ff&#x27;, &#x27;#dd1c77ff&#x27;, &#x27;#dd1c77ff&#x27;, &#x27;#dd1c77ff&#x27;, &#x27;#dd1c77ff&#x27;, &#x27;#dd1c77ff&#x27;, &#x27;#dd1c77ff&#x27;, &#x27;#dd1c77ff&#x27;, &#x27;#dd1c77ff&#x27;, &#x27;#dd1c77ff&#x27;, &#x27;#dd1c77ff&#x27;, &#x27;#dd1c77ff&#x27;, &#x27;#dd1c77ff&#x27;, &#x27;#dd1c77ff&#x27;, &#x27;#dd1c77ff&#x27;, &#x27;#dd1c77ff&#x27;, &#x27;#dd1c77ff&#x27;, &#x27;#dd1c77ff&#x27;, &#x27;#dd1c77ff&#x27;, &#x27;#dd1c77ff&#x27;, &#x27;#dd1c77ff&#x27;, &#x27;#dd1c77ff&#x27;, &#x27;#dd1c77ff&#x27;, &#x27;#dd1c77ff&#x27;, &#x27;#dd1c77ff&#x27;, &#x27;#dd1c77ff&#x27;, &#x27;#dd1c77ff&#x27;, &#x27;#dd1c77ff&#x27;, &#x27;#dd1c77ff&#x27;, &#x27;#dd1c77ff&#x27;, &#x27;#dd1c77ff&#x27;, &#x27;#dd1c77ff&#x27;, &#x27;#dd1c77ff&#x27;, &#x27;#980043ff&#x27;, &#x27;#980043ff&#x27;, &#x27;#980043ff&#x27;, &#x27;#980043ff&#x27;, &#x27;#980043ff&#x27;, &#x27;#980043ff&#x27;, &#x27;#980043ff&#x27;, &#x27;#980043ff&#x27;, &#x27;#980043ff&#x27;, &#x27;#980043ff&#x27;, &#x27;#980043ff&#x27;, &#x27;#980043ff&#x27;, &#x27;#980043ff&#x27;, &#x27;#980043ff&#x27;, &#x27;#980043ff&#x27;, &#x27;#980043ff&#x27;, &#x27;#980043ff&#x27;, &#x27;#980043ff&#x27;, &#x27;#980043ff&#x27;, &#x27;#980043ff&#x27;, &#x27;#980043ff&#x27;, &#x27;#980043ff&#x27;, &#x27;#980043ff&#x27;, &#x27;#980043ff&#x27;, &#x27;#980043ff&#x27;, &#x27;#980043ff&#x27;, &#x27;#980043ff&#x27;, &#x27;#980043ff&#x27;, &#x27;#980043ff&#x27;, &#x27;#980043ff&#x27;, &#x27;#980043ff&#x27;, &#x27;#980043ff&#x27;, &#x27;#980043ff&#x27;, &#x27;#980043ff&#x27;, &#x27;#980043ff&#x27;, &#x27;#980043ff&#x27;, &#x27;#980043ff&#x27;, &#x27;#980043ff&#x27;, &#x27;#980043ff&#x27;, &#x27;#980043ff&#x27;, &#x27;#980043ff&#x27;, &#x27;#980043ff&#x27;, &#x27;#980043ff&#x27;, &#x27;#980043ff&#x27;, &#x27;#980043ff&#x27;, &#x27;#980043ff&#x27;, &#x27;#980043ff&#x27;, &#x27;#980043ff&#x27;, &#x27;#980043ff&#x27;, &#x27;#980043ff&#x27;, &#x27;#980043ff&#x27;, &#x27;#980043ff&#x27;, &#x27;#980043ff&#x27;, &#x27;#980043ff&#x27;, &#x27;#980043ff&#x27;, &#x27;#980043ff&#x27;, &#x27;#980043ff&#x27;, &#x27;#980043ff&#x27;, &#x27;#980043ff&#x27;, &#x27;#980043ff&#x27;, &#x27;#980043ff&#x27;, &#x27;#980043ff&#x27;, &#x27;#980043ff&#x27;, &#x27;#980043ff&#x27;, &#x27;#980043ff&#x27;, &#x27;#980043ff&#x27;, &#x27;#980043ff&#x27;, &#x27;#980043ff&#x27;, &#x27;#980043ff&#x27;, &#x27;#980043ff&#x27;, &#x27;#980043ff&#x27;, &#x27;#980043ff&#x27;, &#x27;#980043ff&#x27;, &#x27;#980043ff&#x27;, &#x27;#980043ff&#x27;, &#x27;#980043ff&#x27;, &#x27;#980043ff&#x27;, &#x27;#980043ff&#x27;, &#x27;#980043ff&#x27;, &#x27;#980043ff&#x27;, &#x27;#980043ff&#x27;, &#x27;#980043ff&#x27;, &#x27;#980043ff&#x27;, &#x27;#980043ff&#x27;]);\n",
       "    \n",
       "\n",
       "    color_map_8e5cebbd51a4a028711758671608af22.x = d3.scale.linear()\n",
       "              .domain([3530.0, 18462.0])\n",
       "              .range([0, 450 - 50]);\n",
       "\n",
       "    color_map_8e5cebbd51a4a028711758671608af22.legend = L.control({position: &#x27;topright&#x27;});\n",
       "    color_map_8e5cebbd51a4a028711758671608af22.legend.onAdd = function (map) {var div = L.DomUtil.create(&#x27;div&#x27;, &#x27;legend&#x27;); return div};\n",
       "    color_map_8e5cebbd51a4a028711758671608af22.legend.addTo(map_26b6bd166a6fa27e7f4411c280556464);\n",
       "\n",
       "    color_map_8e5cebbd51a4a028711758671608af22.xAxis = d3.svg.axis()\n",
       "        .scale(color_map_8e5cebbd51a4a028711758671608af22.x)\n",
       "        .orient(&quot;top&quot;)\n",
       "        .tickSize(1)\n",
       "        .tickValues([3530.0, 6018.666666666666, 8507.333333333332, 10996.0, 13484.666666666666, 15973.333333333332, 18462.0]);\n",
       "\n",
       "    color_map_8e5cebbd51a4a028711758671608af22.svg = d3.select(&quot;.legend.leaflet-control&quot;).append(&quot;svg&quot;)\n",
       "        .attr(&quot;id&quot;, &#x27;legend&#x27;)\n",
       "        .attr(&quot;width&quot;, 450)\n",
       "        .attr(&quot;height&quot;, 40);\n",
       "\n",
       "    color_map_8e5cebbd51a4a028711758671608af22.g = color_map_8e5cebbd51a4a028711758671608af22.svg.append(&quot;g&quot;)\n",
       "        .attr(&quot;class&quot;, &quot;key&quot;)\n",
       "        .attr(&quot;transform&quot;, &quot;translate(25,16)&quot;);\n",
       "\n",
       "    color_map_8e5cebbd51a4a028711758671608af22.g.selectAll(&quot;rect&quot;)\n",
       "        .data(color_map_8e5cebbd51a4a028711758671608af22.color.range().map(function(d, i) {\n",
       "          return {\n",
       "            x0: i ? color_map_8e5cebbd51a4a028711758671608af22.x(color_map_8e5cebbd51a4a028711758671608af22.color.domain()[i - 1]) : color_map_8e5cebbd51a4a028711758671608af22.x.range()[0],\n",
       "            x1: i &lt; color_map_8e5cebbd51a4a028711758671608af22.color.domain().length ? color_map_8e5cebbd51a4a028711758671608af22.x(color_map_8e5cebbd51a4a028711758671608af22.color.domain()[i]) : color_map_8e5cebbd51a4a028711758671608af22.x.range()[1],\n",
       "            z: d\n",
       "          };\n",
       "        }))\n",
       "      .enter().append(&quot;rect&quot;)\n",
       "        .attr(&quot;height&quot;, 40 - 30)\n",
       "        .attr(&quot;x&quot;, function(d) { return d.x0; })\n",
       "        .attr(&quot;width&quot;, function(d) { return d.x1 - d.x0; })\n",
       "        .style(&quot;fill&quot;, function(d) { return d.z; });\n",
       "\n",
       "    color_map_8e5cebbd51a4a028711758671608af22.g.call(color_map_8e5cebbd51a4a028711758671608af22.xAxis).append(&quot;text&quot;)\n",
       "        .attr(&quot;class&quot;, &quot;caption&quot;)\n",
       "        .attr(&quot;y&quot;, 21)\n",
       "        .text(&quot;&quot;);\n",
       "    \n",
       "            choropleth_453e4c8643d217d23b7bc93ab52b36d1.addTo(map_26b6bd166a6fa27e7f4411c280556464);\n",
       "        \n",
       "&lt;/script&gt;\n",
       "&lt;/html&gt;\" style=\"position:absolute;width:100%;height:100%;left:0;top:0;border:none !important;\" allowfullscreen webkitallowfullscreen mozallowfullscreen></iframe></div></div>"
      ],
      "text/plain": [
       "<folium.folium.Map at 0x7fb8f5566fe0>"
      ]
     },
     "execution_count": 119,
     "metadata": {},
     "output_type": "execute_result"
    }
   ],
   "source": [
    "#구에 따른 자전가 사고 사건의 개수\n",
    "map"
   ]
  },
  {
   "cell_type": "code",
   "execution_count": 95,
   "id": "f0ce55dd-55f1-477d-8178-ebbe02bf5018",
   "metadata": {},
   "outputs": [
    {
     "data": {
      "text/html": [
       "<div>\n",
       "<style scoped>\n",
       "    .dataframe tbody tr th:only-of-type {\n",
       "        vertical-align: middle;\n",
       "    }\n",
       "\n",
       "    .dataframe tbody tr th {\n",
       "        vertical-align: top;\n",
       "    }\n",
       "\n",
       "    .dataframe thead th {\n",
       "        text-align: right;\n",
       "    }\n",
       "</style>\n",
       "<table border=\"1\" class=\"dataframe\">\n",
       "  <thead>\n",
       "    <tr style=\"text-align: right;\">\n",
       "      <th></th>\n",
       "      <th>JIJACE_NM</th>\n",
       "      <th>CHISA</th>\n",
       "      <th>ACC_HUM</th>\n",
       "      <th>SIDO_CD</th>\n",
       "      <th>GUBUN_NM</th>\n",
       "      <th>SLTWD_CNT</th>\n",
       "      <th>SERI_ACC</th>\n",
       "      <th>SIDO_NM</th>\n",
       "      <th>AC_MODE</th>\n",
       "      <th>CRT_JIJACE_CD</th>\n",
       "      <th>...</th>\n",
       "      <th>TRK_CNT</th>\n",
       "      <th>DEATH_CNT</th>\n",
       "      <th>BASE_CODE</th>\n",
       "      <th>WND_CNT</th>\n",
       "      <th>DEATH_ACC</th>\n",
       "      <th>GUBUN</th>\n",
       "      <th>SERI_CNT</th>\n",
       "      <th>SLTWD_ACC</th>\n",
       "      <th>YEAR</th>\n",
       "      <th>BASE_CATEGORY</th>\n",
       "    </tr>\n",
       "  </thead>\n",
       "  <tbody>\n",
       "    <tr>\n",
       "      <th>0</th>\n",
       "      <td>강남구</td>\n",
       "      <td>0.0</td>\n",
       "      <td>111</td>\n",
       "      <td>11000</td>\n",
       "      <td>승용</td>\n",
       "      <td>70</td>\n",
       "      <td>27</td>\n",
       "      <td>서울</td>\n",
       "      <td>A</td>\n",
       "      <td>11680</td>\n",
       "      <td>...</td>\n",
       "      <td>0</td>\n",
       "      <td>0</td>\n",
       "      <td>01</td>\n",
       "      <td>8</td>\n",
       "      <td>0</td>\n",
       "      <td>01</td>\n",
       "      <td>33</td>\n",
       "      <td>42</td>\n",
       "      <td>2018</td>\n",
       "      <td>위반</td>\n",
       "    </tr>\n",
       "  </tbody>\n",
       "</table>\n",
       "<p>1 rows × 25 columns</p>\n",
       "</div>"
      ],
      "text/plain": [
       "  JIJACE_NM  CHISA  ACC_HUM  SIDO_CD GUBUN_NM  SLTWD_CNT  SERI_ACC SIDO_NM  \\\n",
       "0       강남구    0.0      111    11000       승용         70        27      서울   \n",
       "\n",
       "  AC_MODE  CRT_JIJACE_CD  ... TRK_CNT  DEATH_CNT  BASE_CODE  WND_CNT  \\\n",
       "0       A          11680  ...       0          0         01        8   \n",
       "\n",
       "   DEATH_ACC  GUBUN  SERI_CNT SLTWD_ACC  YEAR  BASE_CATEGORY  \n",
       "0          0     01        33        42  2018             위반  \n",
       "\n",
       "[1 rows x 25 columns]"
      ]
     },
     "execution_count": 95,
     "metadata": {},
     "output_type": "execute_result"
    }
   ],
   "source": [
    "violation_accident.head(1)"
   ]
  },
  {
   "cell_type": "code",
   "execution_count": 93,
   "id": "3ee34737-453d-4a6a-adb2-7100fb5664c5",
   "metadata": {},
   "outputs": [],
   "source": [
    "# hire_point.head(1)"
   ]
  },
  {
   "cell_type": "code",
   "execution_count": 94,
   "id": "ff45be70-9081-4ab1-b13b-b5702f5f6329",
   "metadata": {},
   "outputs": [],
   "source": [
    "# cyclyrentuse_group=cyclyrentuse.groupby([\"Rent_Date\"],as_index=False)[['Rent_Count']].sum().sort_values(by=[\"Rent_Date\"])"
   ]
  }
 ],
 "metadata": {
  "kernelspec": {
   "display_name": "Python 3 (ipykernel)",
   "language": "python",
   "name": "python3"
  },
  "language_info": {
   "codemirror_mode": {
    "name": "ipython",
    "version": 3
   },
   "file_extension": ".py",
   "mimetype": "text/x-python",
   "name": "python",
   "nbconvert_exporter": "python",
   "pygments_lexer": "ipython3",
   "version": "3.10.12"
  }
 },
 "nbformat": 4,
 "nbformat_minor": 5
}
