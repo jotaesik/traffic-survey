{
 "cells": [
  {
   "cell_type": "code",
   "execution_count": 1,
   "id": "0afb558c-c8d8-471a-b4bd-02fe73d2e03f",
   "metadata": {},
   "outputs": [],
   "source": [
    "jijace_list=[[\"강남구\" , 11680] , [\"강동구\" ,11740], [\"강북구\" , 11305], [\"강서구\" , 11500],  [\"관악구\", 11620], [\"광진구\" , 11215], [\"구로구\" ,11530],\n",
    "            [\"금천구\",11545], [\"노원구\" , 11350] ,[\"도봉구\",11320], [\"동대문구\",11230], [\"동작구\" , 11590], [\"마포구\" ,11440] , [\"서대문구\" ,11410] , [\"서초구\", 11650],\n",
    "            [\"성동구\" , 11200], [\"성북구\" , 11290], [\"송파구\" , 11710], [\"양천구\" ,11470], [\"영등포구\" , 11560], [\"용산구\" , 11170], [\"은평구\" , 11380],\n",
    "            [\"종로구\", 11110] , [\"중구\" , 11140], [\"중랑구\",11260]]"
   ]
  },
  {
   "cell_type": "code",
   "execution_count": 2,
   "id": "9c89fe26-2ec2-4e7f-98ca-c1ba26922575",
   "metadata": {},
   "outputs": [],
   "source": [
    "year_list=[2018,2019,2020,2021,2022]"
   ]
  },
  {
   "cell_type": "code",
   "execution_count": 4,
   "id": "d018bad7-709c-40d2-af16-2f0da42f47fe",
   "metadata": {},
   "outputs": [],
   "source": [
    "import requests\n",
    "import pandas as pd\n",
    "from bs4 import BeautifulSoup as BS \n",
    "from tqdm import tqdm\n",
    "url=\"https://tmacs.kotsa.or.kr/web/TG/TG200/TG2100S/Tgsearch01_AJAX.jsp\"\n",
    "payload={\"gubun\":\"S1203\", \n",
    "\"mid\":\"S1203\",\n",
    "\"sYear\":\"2018\", \n",
    "\"eYear\":\"2018\", \n",
    "\"sido\":\"11000\",\n",
    "\"jijace\":\"11680\",  \n",
    "\"kind1\":\"s102\",\n",
    "\"kind2\":\"s1021\",\n",
    "\"cartype\":\"07\"} #자전거 카타입\n",
    "\n",
    "# data = r.text\n"
   ]
  },
  {
   "cell_type": "code",
   "execution_count": 7,
   "id": "60904673-f1bd-45c7-b825-6665d77fae61",
   "metadata": {},
   "outputs": [],
   "source": [
    "# r = requests.post(url, data=payload)\n",
    "# bs = eval(r.text)\n",
    "# df = pd.DataFrame(bs)"
   ]
  },
  {
   "cell_type": "code",
   "execution_count": 10,
   "id": "4edee71e-2b82-42ef-b12c-7d59adfc0f53",
   "metadata": {},
   "outputs": [],
   "source": []
  },
  {
   "cell_type": "code",
   "execution_count": 12,
   "id": "735de9e4-4ae3-4f31-925a-56984d813149",
   "metadata": {},
   "outputs": [],
   "source": [
    "# df"
   ]
  },
  {
   "cell_type": "code",
   "execution_count": null,
   "id": "b451c9a3-ca56-4723-8883-f1bfa0c8984b",
   "metadata": {},
   "outputs": [],
   "source": []
  },
  {
   "cell_type": "code",
   "execution_count": 14,
   "id": "4a6894ce-82d7-49d5-81d0-2c256407c588",
   "metadata": {},
   "outputs": [
    {
     "name": "stderr",
     "output_type": "stream",
     "text": [
      "100%|███████████████████████████████████████████████████████████████████████████████████| 25/25 [01:22<00:00,  3.30s/it]\n"
     ]
    }
   ],
   "source": [
    "violation_accident_cycle_month_df=pd.DataFrame()\n",
    "for i in tqdm(range(len(jijace_list))):\n",
    "    for j in range(len(year_list)):\n",
    "        payload[\"sYear\"]=year_list[j]\n",
    "        payload[\"eYear\"]=year_list[j]\n",
    "        payload[\"jijace\"]=jijace_list[i][1]\n",
    "            # print(year_list[j])\n",
    "            # print(jijace_list[i][1])\n",
    "        r = requests.post(url, data=payload)\n",
    "        bs = eval(r.text)\n",
    "        df = pd.DataFrame(bs)\n",
    "        df[\"YEAR\"]=year_list[j]\n",
    "        df[\"BASE_CATEGORY\"]= \"위반\"\n",
    "        df.rename(columns={\"GUBUN_NM\" : \"MONTH\"},inplace=True)\n",
    "        violation_accident_cycle_month_df = pd.concat([violation_accident_cycle_month_df, df], axis = 0)\n",
    "            # pd.set_option('display.max_columns', None)\n",
    "            # for k in range(len(data)):\n",
    "            #     SIDO_NM_list.append(data[k][\"SIDO_NM\"])\n",
    "            #     JIJACE_NM_list.append(data[k][\"JIJACE_NM\"])\n",
    "            #     BASE_NAME_list.append(data[k][\"BASE_NAME\"])\n",
    "            #     GUBUN_NM_list.append(data[k][\"GUBUN_NM\"])\n",
    "            #     ACC_CNT_list.append(data[k][\"ACC_CNT\"])\n",
    "            #     BIG_CNT_list.append(data[k][\"BIG_CNT\"])\n",
    "            #     PSGT_CNT_list.append(data[k][\"PSGT_CNT\"])\n",
    "            #     TRK_CNT_list.append(data[k][\"TRK_CNT\"])\n",
    "            #     DEATH_CNT_list.append(data[k][\"DEATH_CNT\"])\n",
    "            #     CHISA_list.append(data[k][\"CHISA\"])\n",
    "            #     YEAR_list.append(year_list[j])\n"
   ]
  },
  {
   "cell_type": "code",
   "execution_count": 20,
   "id": "5d07d821-213e-4baa-9972-8e6c9f0b32db",
   "metadata": {},
   "outputs": [
    {
     "data": {
      "text/plain": [
       "8492"
      ]
     },
     "execution_count": 20,
     "metadata": {},
     "output_type": "execute_result"
    }
   ],
   "source": [
    "violation_accident_cycle_month_df[\"ACC_CNT\"].sum()"
   ]
  },
  {
   "cell_type": "code",
   "execution_count": 28,
   "id": "3457a5e4-c90d-457b-b66e-0ac012b5d52a",
   "metadata": {},
   "outputs": [],
   "source": [
    "import pickle\n",
    "with open(\"./violation_accident_cycle_month.pkl\",\"wb\") as f:\n",
    "     pickle.dump(violation_accident_cycle_month_df,f)"
   ]
  },
  {
   "cell_type": "code",
   "execution_count": 26,
   "id": "c7701c87-59e8-44a3-adcb-8f223eec36e8",
   "metadata": {},
   "outputs": [],
   "source": [
    "# violation_accident_cycle_month_df"
   ]
  },
  {
   "cell_type": "code",
   "execution_count": 29,
   "id": "841e195a-8f9d-4443-93ff-272107eff392",
   "metadata": {},
   "outputs": [
    {
     "data": {
      "text/plain": [
       "7"
      ]
     },
     "execution_count": 29,
     "metadata": {},
     "output_type": "execute_result"
    }
   ],
   "source": [
    "import pymysql\n",
    "con =pymysql.connect(host='ip', user='id', password='pw', db='encore6', charset='utf8')\n",
    "cur = con.cursor()\n",
    "cur.execute(\"show tables\")"
   ]
  },
  {
   "cell_type": "code",
   "execution_count": null,
   "id": "e3cac9cf-8d7b-4fc7-ad16-71b0229f6f12",
   "metadata": {},
   "outputs": [],
   "source": []
  },
  {
   "cell_type": "code",
   "execution_count": null,
   "id": "27b30f41-4537-457b-8853-49cb1937e75d",
   "metadata": {},
   "outputs": [],
   "source": []
  },
  {
   "cell_type": "code",
   "execution_count": 32,
   "id": "796de322-9b92-4adb-8443-5837459d5a9e",
   "metadata": {},
   "outputs": [],
   "source": [
    "sql= \"\"\"CREATE Table violation_accident_cycle_month\n",
    "(\n",
    "    `JIJACE_NM` VARCHAR(30),\n",
    "    `CHISA` FLOAT,\n",
    "    `ACC_HUM` INT,\n",
    "    `SIDO_CD` INT,\n",
    "    `MONTH` VARCHAR(2),\n",
    "    `SLTWD_CNT` INT,\n",
    "    `SERI_ACC` INT,\n",
    "    `SIDO_NM` VARCHAR(10),\n",
    "    `AC_MODE` VARCHAR(4),\n",
    "    `CRT_JIJACE_CD` INT ,\n",
    "    `BASE_NAME` VARCHAR(30),\n",
    "    `BIG_CNT` INT,\n",
    "    `PSGT_CNT` INT,\n",
    "    `WND_ACC` INT,\n",
    "    `ACC_CNT` INT,\n",
    "    `TRK_CNT` INT,\n",
    "    `DEATH_CNT` INT,\n",
    "    `BASE_CODE` VARCHAR(10),\n",
    "    `WND_CNT` INT,\n",
    "    `DEATH_ACC` INT,\n",
    "    `GUBUN` VARCHAR(5),\n",
    "    `SERI_CNT` INT,\n",
    "    `SLTWD_ACC` INT,\n",
    "    `YEAR` INT,\n",
    "    `BASE_CATEGORY` VARCHAR(10)\n",
    ")\"\"\"\n",
    "cur.execute(sql)\n",
    "con.commit()"
   ]
  },
  {
   "cell_type": "code",
   "execution_count": 33,
   "id": "cc0a4733-7e40-4341-b785-3f557839479d",
   "metadata": {},
   "outputs": [],
   "source": [
    "insert_sql=\"INSERT INTO violation_accident_cycle_month VALUES (%s, %s, %s, %s, %s,%s, %s, %s, %s, %s,%s,%s, %s, %s, %s, %s,%s, %s, %s, %s, %s,%s,%s,%s,%s)\""
   ]
  },
  {
   "cell_type": "code",
   "execution_count": 34,
   "id": "c1704526-01b4-4474-9913-6fd09fa9348d",
   "metadata": {},
   "outputs": [
    {
     "data": {
      "text/plain": [
       "0     1\n",
       "1     1\n",
       "2     1\n",
       "3     1\n",
       "4     1\n",
       "     ..\n",
       "40    1\n",
       "41    1\n",
       "42    1\n",
       "43    1\n",
       "44    1\n",
       "Length: 3605, dtype: int64"
      ]
     },
     "execution_count": 34,
     "metadata": {},
     "output_type": "execute_result"
    }
   ],
   "source": [
    "violation_accident_cycle_month_df.apply(lambda x : cur.execute(insert_sql,x.tolist()),axis=1)"
   ]
  },
  {
   "cell_type": "code",
   "execution_count": 35,
   "id": "5444b866-2dca-4a69-8122-33b756f02248",
   "metadata": {},
   "outputs": [],
   "source": [
    "con.commit()"
   ]
  },
  {
   "cell_type": "code",
   "execution_count": 36,
   "id": "e0fbf4a2-df47-45a1-af15-276784c94da1",
   "metadata": {},
   "outputs": [],
   "source": [
    "import numpy as np\n",
    "import matplotlib.pyplot as plt\n",
    "from matplotlib import font_manager, rc \n",
    "import matplotlib.font_manager as fm"
   ]
  },
  {
   "cell_type": "code",
   "execution_count": 161,
   "id": "97ec7044-abfc-47a3-8427-239e753ab7c8",
   "metadata": {},
   "outputs": [
    {
     "data": {
      "text/html": [
       "<div>\n",
       "<style scoped>\n",
       "    .dataframe tbody tr th:only-of-type {\n",
       "        vertical-align: middle;\n",
       "    }\n",
       "\n",
       "    .dataframe tbody tr th {\n",
       "        vertical-align: top;\n",
       "    }\n",
       "\n",
       "    .dataframe thead th {\n",
       "        text-align: right;\n",
       "    }\n",
       "</style>\n",
       "<table border=\"1\" class=\"dataframe\">\n",
       "  <thead>\n",
       "    <tr style=\"text-align: right;\">\n",
       "      <th></th>\n",
       "      <th>JIJACE_NM</th>\n",
       "      <th>CHISA</th>\n",
       "      <th>ACC_HUM</th>\n",
       "      <th>SIDO_CD</th>\n",
       "      <th>MONTH</th>\n",
       "      <th>SLTWD_CNT</th>\n",
       "      <th>SERI_ACC</th>\n",
       "      <th>SIDO_NM</th>\n",
       "      <th>AC_MODE</th>\n",
       "      <th>CRT_JIJACE_CD</th>\n",
       "      <th>...</th>\n",
       "      <th>TRK_CNT</th>\n",
       "      <th>DEATH_CNT</th>\n",
       "      <th>BASE_CODE</th>\n",
       "      <th>WND_CNT</th>\n",
       "      <th>DEATH_ACC</th>\n",
       "      <th>GUBUN</th>\n",
       "      <th>SERI_CNT</th>\n",
       "      <th>SLTWD_ACC</th>\n",
       "      <th>YEAR</th>\n",
       "      <th>BASE_CATEGORY</th>\n",
       "    </tr>\n",
       "  </thead>\n",
       "  <tbody>\n",
       "    <tr>\n",
       "      <th>0</th>\n",
       "      <td>강남구</td>\n",
       "      <td>0.0</td>\n",
       "      <td>2</td>\n",
       "      <td>11000</td>\n",
       "      <td>02</td>\n",
       "      <td>2</td>\n",
       "      <td>0</td>\n",
       "      <td>서울</td>\n",
       "      <td>A</td>\n",
       "      <td>11680</td>\n",
       "      <td>...</td>\n",
       "      <td>0</td>\n",
       "      <td>0</td>\n",
       "      <td>01</td>\n",
       "      <td>0</td>\n",
       "      <td>0</td>\n",
       "      <td>02</td>\n",
       "      <td>0</td>\n",
       "      <td>1</td>\n",
       "      <td>2018</td>\n",
       "      <td>위반</td>\n",
       "    </tr>\n",
       "  </tbody>\n",
       "</table>\n",
       "<p>1 rows × 25 columns</p>\n",
       "</div>"
      ],
      "text/plain": [
       "  JIJACE_NM  CHISA  ACC_HUM SIDO_CD MONTH  SLTWD_CNT  SERI_ACC SIDO_NM  \\\n",
       "0       강남구    0.0        2   11000    02          2         0      서울   \n",
       "\n",
       "  AC_MODE CRT_JIJACE_CD  ... TRK_CNT  DEATH_CNT  BASE_CODE  WND_CNT  \\\n",
       "0       A         11680  ...       0          0         01        0   \n",
       "\n",
       "   DEATH_ACC  GUBUN  SERI_CNT SLTWD_ACC  YEAR  BASE_CATEGORY  \n",
       "0          0     02         0         1  2018             위반  \n",
       "\n",
       "[1 rows x 25 columns]"
      ]
     },
     "execution_count": 161,
     "metadata": {},
     "output_type": "execute_result"
    }
   ],
   "source": [
    "violation_accident_cycle_month_df.head(1)"
   ]
  },
  {
   "cell_type": "code",
   "execution_count": 162,
   "id": "bebaf32d-0400-4566-9192-e6f3d6f5b9a2",
   "metadata": {},
   "outputs": [
    {
     "data": {
      "text/html": [
       "<div>\n",
       "<style scoped>\n",
       "    .dataframe tbody tr th:only-of-type {\n",
       "        vertical-align: middle;\n",
       "    }\n",
       "\n",
       "    .dataframe tbody tr th {\n",
       "        vertical-align: top;\n",
       "    }\n",
       "\n",
       "    .dataframe thead th {\n",
       "        text-align: right;\n",
       "    }\n",
       "</style>\n",
       "<table border=\"1\" class=\"dataframe\">\n",
       "  <thead>\n",
       "    <tr style=\"text-align: right;\">\n",
       "      <th></th>\n",
       "      <th>JIJACE_NM</th>\n",
       "      <th>CHISA</th>\n",
       "      <th>ACC_HUM</th>\n",
       "      <th>SIDO_CD</th>\n",
       "      <th>MONTH</th>\n",
       "      <th>SLTWD_CNT</th>\n",
       "      <th>SERI_ACC</th>\n",
       "      <th>SIDO_NM</th>\n",
       "      <th>AC_MODE</th>\n",
       "      <th>CRT_JIJACE_CD</th>\n",
       "      <th>...</th>\n",
       "      <th>TRK_CNT</th>\n",
       "      <th>DEATH_CNT</th>\n",
       "      <th>BASE_CODE</th>\n",
       "      <th>WND_CNT</th>\n",
       "      <th>DEATH_ACC</th>\n",
       "      <th>GUBUN</th>\n",
       "      <th>SERI_CNT</th>\n",
       "      <th>SLTWD_ACC</th>\n",
       "      <th>YEAR</th>\n",
       "      <th>BASE_CATEGORY</th>\n",
       "    </tr>\n",
       "  </thead>\n",
       "  <tbody>\n",
       "    <tr>\n",
       "      <th>0</th>\n",
       "      <td>강남구</td>\n",
       "      <td>0.0</td>\n",
       "      <td>2</td>\n",
       "      <td>11000</td>\n",
       "      <td>02</td>\n",
       "      <td>2</td>\n",
       "      <td>0</td>\n",
       "      <td>서울</td>\n",
       "      <td>A</td>\n",
       "      <td>11680</td>\n",
       "      <td>...</td>\n",
       "      <td>0</td>\n",
       "      <td>0</td>\n",
       "      <td>01</td>\n",
       "      <td>0</td>\n",
       "      <td>0</td>\n",
       "      <td>02</td>\n",
       "      <td>0</td>\n",
       "      <td>1</td>\n",
       "      <td>2018</td>\n",
       "      <td>위반</td>\n",
       "    </tr>\n",
       "    <tr>\n",
       "      <th>1</th>\n",
       "      <td>강남구</td>\n",
       "      <td>0.0</td>\n",
       "      <td>2</td>\n",
       "      <td>11000</td>\n",
       "      <td>09</td>\n",
       "      <td>2</td>\n",
       "      <td>0</td>\n",
       "      <td>서울</td>\n",
       "      <td>A</td>\n",
       "      <td>11680</td>\n",
       "      <td>...</td>\n",
       "      <td>0</td>\n",
       "      <td>0</td>\n",
       "      <td>01</td>\n",
       "      <td>0</td>\n",
       "      <td>0</td>\n",
       "      <td>09</td>\n",
       "      <td>0</td>\n",
       "      <td>2</td>\n",
       "      <td>2018</td>\n",
       "      <td>위반</td>\n",
       "    </tr>\n",
       "    <tr>\n",
       "      <th>2</th>\n",
       "      <td>강남구</td>\n",
       "      <td>0.0</td>\n",
       "      <td>2</td>\n",
       "      <td>11000</td>\n",
       "      <td>02</td>\n",
       "      <td>1</td>\n",
       "      <td>0</td>\n",
       "      <td>서울</td>\n",
       "      <td>A</td>\n",
       "      <td>11680</td>\n",
       "      <td>...</td>\n",
       "      <td>0</td>\n",
       "      <td>0</td>\n",
       "      <td>02</td>\n",
       "      <td>1</td>\n",
       "      <td>0</td>\n",
       "      <td>02</td>\n",
       "      <td>0</td>\n",
       "      <td>1</td>\n",
       "      <td>2018</td>\n",
       "      <td>위반</td>\n",
       "    </tr>\n",
       "    <tr>\n",
       "      <th>3</th>\n",
       "      <td>강남구</td>\n",
       "      <td>0.0</td>\n",
       "      <td>3</td>\n",
       "      <td>11000</td>\n",
       "      <td>03</td>\n",
       "      <td>1</td>\n",
       "      <td>1</td>\n",
       "      <td>서울</td>\n",
       "      <td>A</td>\n",
       "      <td>11680</td>\n",
       "      <td>...</td>\n",
       "      <td>0</td>\n",
       "      <td>0</td>\n",
       "      <td>02</td>\n",
       "      <td>0</td>\n",
       "      <td>0</td>\n",
       "      <td>03</td>\n",
       "      <td>2</td>\n",
       "      <td>1</td>\n",
       "      <td>2018</td>\n",
       "      <td>위반</td>\n",
       "    </tr>\n",
       "    <tr>\n",
       "      <th>4</th>\n",
       "      <td>강남구</td>\n",
       "      <td>0.0</td>\n",
       "      <td>1</td>\n",
       "      <td>11000</td>\n",
       "      <td>06</td>\n",
       "      <td>0</td>\n",
       "      <td>1</td>\n",
       "      <td>서울</td>\n",
       "      <td>A</td>\n",
       "      <td>11680</td>\n",
       "      <td>...</td>\n",
       "      <td>0</td>\n",
       "      <td>0</td>\n",
       "      <td>02</td>\n",
       "      <td>0</td>\n",
       "      <td>0</td>\n",
       "      <td>06</td>\n",
       "      <td>1</td>\n",
       "      <td>0</td>\n",
       "      <td>2018</td>\n",
       "      <td>위반</td>\n",
       "    </tr>\n",
       "    <tr>\n",
       "      <th>...</th>\n",
       "      <td>...</td>\n",
       "      <td>...</td>\n",
       "      <td>...</td>\n",
       "      <td>...</td>\n",
       "      <td>...</td>\n",
       "      <td>...</td>\n",
       "      <td>...</td>\n",
       "      <td>...</td>\n",
       "      <td>...</td>\n",
       "      <td>...</td>\n",
       "      <td>...</td>\n",
       "      <td>...</td>\n",
       "      <td>...</td>\n",
       "      <td>...</td>\n",
       "      <td>...</td>\n",
       "      <td>...</td>\n",
       "      <td>...</td>\n",
       "      <td>...</td>\n",
       "      <td>...</td>\n",
       "      <td>...</td>\n",
       "      <td>...</td>\n",
       "    </tr>\n",
       "    <tr>\n",
       "      <th>40</th>\n",
       "      <td>중랑구</td>\n",
       "      <td>0.0</td>\n",
       "      <td>2</td>\n",
       "      <td>11000</td>\n",
       "      <td>07</td>\n",
       "      <td>0</td>\n",
       "      <td>1</td>\n",
       "      <td>서울</td>\n",
       "      <td>A</td>\n",
       "      <td>11260</td>\n",
       "      <td>...</td>\n",
       "      <td>0</td>\n",
       "      <td>0</td>\n",
       "      <td>99</td>\n",
       "      <td>1</td>\n",
       "      <td>0</td>\n",
       "      <td>07</td>\n",
       "      <td>1</td>\n",
       "      <td>0</td>\n",
       "      <td>2022</td>\n",
       "      <td>위반</td>\n",
       "    </tr>\n",
       "    <tr>\n",
       "      <th>41</th>\n",
       "      <td>중랑구</td>\n",
       "      <td>0.0</td>\n",
       "      <td>1</td>\n",
       "      <td>11000</td>\n",
       "      <td>08</td>\n",
       "      <td>1</td>\n",
       "      <td>0</td>\n",
       "      <td>서울</td>\n",
       "      <td>A</td>\n",
       "      <td>11260</td>\n",
       "      <td>...</td>\n",
       "      <td>0</td>\n",
       "      <td>0</td>\n",
       "      <td>99</td>\n",
       "      <td>0</td>\n",
       "      <td>0</td>\n",
       "      <td>08</td>\n",
       "      <td>0</td>\n",
       "      <td>1</td>\n",
       "      <td>2022</td>\n",
       "      <td>위반</td>\n",
       "    </tr>\n",
       "    <tr>\n",
       "      <th>42</th>\n",
       "      <td>중랑구</td>\n",
       "      <td>0.0</td>\n",
       "      <td>1</td>\n",
       "      <td>11000</td>\n",
       "      <td>09</td>\n",
       "      <td>1</td>\n",
       "      <td>0</td>\n",
       "      <td>서울</td>\n",
       "      <td>A</td>\n",
       "      <td>11260</td>\n",
       "      <td>...</td>\n",
       "      <td>0</td>\n",
       "      <td>0</td>\n",
       "      <td>99</td>\n",
       "      <td>0</td>\n",
       "      <td>0</td>\n",
       "      <td>09</td>\n",
       "      <td>0</td>\n",
       "      <td>1</td>\n",
       "      <td>2022</td>\n",
       "      <td>위반</td>\n",
       "    </tr>\n",
       "    <tr>\n",
       "      <th>43</th>\n",
       "      <td>중랑구</td>\n",
       "      <td>0.0</td>\n",
       "      <td>2</td>\n",
       "      <td>11000</td>\n",
       "      <td>11</td>\n",
       "      <td>1</td>\n",
       "      <td>1</td>\n",
       "      <td>서울</td>\n",
       "      <td>A</td>\n",
       "      <td>11260</td>\n",
       "      <td>...</td>\n",
       "      <td>0</td>\n",
       "      <td>0</td>\n",
       "      <td>99</td>\n",
       "      <td>0</td>\n",
       "      <td>0</td>\n",
       "      <td>11</td>\n",
       "      <td>1</td>\n",
       "      <td>1</td>\n",
       "      <td>2022</td>\n",
       "      <td>위반</td>\n",
       "    </tr>\n",
       "    <tr>\n",
       "      <th>44</th>\n",
       "      <td>중랑구</td>\n",
       "      <td>0.0</td>\n",
       "      <td>1</td>\n",
       "      <td>11000</td>\n",
       "      <td>12</td>\n",
       "      <td>0</td>\n",
       "      <td>1</td>\n",
       "      <td>서울</td>\n",
       "      <td>A</td>\n",
       "      <td>11260</td>\n",
       "      <td>...</td>\n",
       "      <td>0</td>\n",
       "      <td>0</td>\n",
       "      <td>99</td>\n",
       "      <td>0</td>\n",
       "      <td>0</td>\n",
       "      <td>12</td>\n",
       "      <td>1</td>\n",
       "      <td>0</td>\n",
       "      <td>2022</td>\n",
       "      <td>위반</td>\n",
       "    </tr>\n",
       "  </tbody>\n",
       "</table>\n",
       "<p>3605 rows × 25 columns</p>\n",
       "</div>"
      ],
      "text/plain": [
       "   JIJACE_NM  CHISA  ACC_HUM SIDO_CD MONTH  SLTWD_CNT  SERI_ACC SIDO_NM  \\\n",
       "0        강남구    0.0        2   11000    02          2         0      서울   \n",
       "1        강남구    0.0        2   11000    09          2         0      서울   \n",
       "2        강남구    0.0        2   11000    02          1         0      서울   \n",
       "3        강남구    0.0        3   11000    03          1         1      서울   \n",
       "4        강남구    0.0        1   11000    06          0         1      서울   \n",
       "..       ...    ...      ...     ...   ...        ...       ...     ...   \n",
       "40       중랑구    0.0        2   11000    07          0         1      서울   \n",
       "41       중랑구    0.0        1   11000    08          1         0      서울   \n",
       "42       중랑구    0.0        1   11000    09          1         0      서울   \n",
       "43       중랑구    0.0        2   11000    11          1         1      서울   \n",
       "44       중랑구    0.0        1   11000    12          0         1      서울   \n",
       "\n",
       "   AC_MODE CRT_JIJACE_CD  ... TRK_CNT  DEATH_CNT  BASE_CODE  WND_CNT  \\\n",
       "0        A         11680  ...       0          0         01        0   \n",
       "1        A         11680  ...       0          0         01        0   \n",
       "2        A         11680  ...       0          0         02        1   \n",
       "3        A         11680  ...       0          0         02        0   \n",
       "4        A         11680  ...       0          0         02        0   \n",
       "..     ...           ...  ...     ...        ...        ...      ...   \n",
       "40       A         11260  ...       0          0         99        1   \n",
       "41       A         11260  ...       0          0         99        0   \n",
       "42       A         11260  ...       0          0         99        0   \n",
       "43       A         11260  ...       0          0         99        0   \n",
       "44       A         11260  ...       0          0         99        0   \n",
       "\n",
       "    DEATH_ACC  GUBUN  SERI_CNT SLTWD_ACC  YEAR  BASE_CATEGORY  \n",
       "0           0     02         0         1  2018             위반  \n",
       "1           0     09         0         2  2018             위반  \n",
       "2           0     02         0         1  2018             위반  \n",
       "3           0     03         2         1  2018             위반  \n",
       "4           0     06         1         0  2018             위반  \n",
       "..        ...    ...       ...       ...   ...            ...  \n",
       "40          0     07         1         0  2022             위반  \n",
       "41          0     08         0         1  2022             위반  \n",
       "42          0     09         0         1  2022             위반  \n",
       "43          0     11         1         1  2022             위반  \n",
       "44          0     12         1         0  2022             위반  \n",
       "\n",
       "[3605 rows x 25 columns]"
      ]
     },
     "execution_count": 162,
     "metadata": {},
     "output_type": "execute_result"
    }
   ],
   "source": [
    "violation_accident_cycle_month_df"
   ]
  },
  {
   "cell_type": "code",
   "execution_count": 118,
   "id": "e9d458a9-4cc3-43c2-92d8-8d4dc5036ae8",
   "metadata": {},
   "outputs": [
    {
     "data": {
      "text/plain": [
       "12"
      ]
     },
     "execution_count": 118,
     "metadata": {},
     "output_type": "execute_result"
    }
   ],
   "source": [
    "len(violation_accident_cycle_month_df[\"MONTH\"].value_counts())"
   ]
  },
  {
   "cell_type": "code",
   "execution_count": 119,
   "id": "6013bcdd-3216-4648-8d68-cad3e801795a",
   "metadata": {},
   "outputs": [
    {
     "data": {
      "text/plain": [
       "YEAR\n",
       "2019    770\n",
       "2021    736\n",
       "2022    710\n",
       "2020    699\n",
       "2018    690\n",
       "Name: count, dtype: int64"
      ]
     },
     "execution_count": 119,
     "metadata": {},
     "output_type": "execute_result"
    }
   ],
   "source": [
    "(violation_accident_cycle_month_df[\"YEAR\"].value_counts())"
   ]
  },
  {
   "cell_type": "code",
   "execution_count": 169,
   "id": "b79aa121-98f6-4382-9526-ba751ef8e885",
   "metadata": {},
   "outputs": [],
   "source": [
    "violation_accident_cycle_month_df_group=violation_accident_cycle_month_df.groupby([\"YEAR\",\"MONTH\"],as_index=False)[['ACC_CNT']].sum().sort_values(by=[\"YEAR\",\"MONTH\"])"
   ]
  },
  {
   "cell_type": "code",
   "execution_count": 61,
   "id": "e6e9d2f9-a0c1-4d29-ba96-d8bceb77aa0d",
   "metadata": {},
   "outputs": [],
   "source": [
    "# violation_accident_cycle_month_df_2018 = violation_accident_cycle_month_df[violation_accident_cycle_month_df.YEAR==2018]\n",
    "# violation_accident_cycle_month_df_2019 = violation_accident_cycle_month_df[violation_accident_cycle_month_df.YEAR==2019]\n",
    "# violation_accident_cycle_month_df_2020 = violation_accident_cycle_month_df[violation_accident_cycle_month_df.YEAR==2020]\n",
    "# violation_accident_cycle_month_df_2021 = violation_accident_cycle_month_df[violation_accident_cycle_month_df.YEAR==2021]\n",
    "# violation_accident_cycle_month_df_2022 = violation_accident_cycle_month_df[violation_accident_cycle_month_df.YEAR==2022]"
   ]
  },
  {
   "cell_type": "code",
   "execution_count": 120,
   "id": "895c8f00-449e-4b90-b5ba-94904c836ccb",
   "metadata": {},
   "outputs": [],
   "source": [
    "# violation_accident_cycle_month_2018_group= df2 = violation_accident_cycle_month_df_2018.groupby([\"MONTH\"],as_index=False)[['ACC_CNT']].sum().sort_values(by=[\"MONTH\"])\n",
    "\n",
    "# violation_accident_cycle_month_2019_group= df2 = violation_accident_cycle_month_df_2019.groupby([\"MONTH\"],as_index=False)[['ACC_CNT']].sum().sort_values(by=[\"MONTH\"])\n",
    "\n",
    "# violation_accident_cycle_month_2020_group= df2 = violation_accident_cycle_month_df_2020.groupby([\"MONTH\"],as_index=False)[['ACC_CNT']].sum().sort_values(by=[\"MONTH\"])\n",
    "\n",
    "# violation_accident_cycle_month_2021_group= df2 = violation_accident_cycle_month_df_2021.groupby([\"MONTH\"],as_index=False)[['ACC_CNT']].sum().sort_values(by=[\"MONTH\"])\n",
    "\n",
    "# violation_accident_cycle_month_2022_group= df2 = violation_accident_cycle_month_df_2022.groupby([\"MONTH\"],as_index=False)[['ACC_CNT']].sum().sort_values(by=[\"MONTH\"])"
   ]
  },
  {
   "cell_type": "code",
   "execution_count": 121,
   "id": "cadff687-89dd-4ee5-b220-9a565f409381",
   "metadata": {},
   "outputs": [
    {
     "data": {
      "text/html": [
       "<div>\n",
       "<style scoped>\n",
       "    .dataframe tbody tr th:only-of-type {\n",
       "        vertical-align: middle;\n",
       "    }\n",
       "\n",
       "    .dataframe tbody tr th {\n",
       "        vertical-align: top;\n",
       "    }\n",
       "\n",
       "    .dataframe thead th {\n",
       "        text-align: right;\n",
       "    }\n",
       "</style>\n",
       "<table border=\"1\" class=\"dataframe\">\n",
       "  <thead>\n",
       "    <tr style=\"text-align: right;\">\n",
       "      <th></th>\n",
       "      <th>MONTH</th>\n",
       "      <th>ACC_CNT</th>\n",
       "    </tr>\n",
       "  </thead>\n",
       "  <tbody>\n",
       "    <tr>\n",
       "      <th>0</th>\n",
       "      <td>01</td>\n",
       "      <td>62</td>\n",
       "    </tr>\n",
       "    <tr>\n",
       "      <th>1</th>\n",
       "      <td>02</td>\n",
       "      <td>68</td>\n",
       "    </tr>\n",
       "    <tr>\n",
       "      <th>2</th>\n",
       "      <td>03</td>\n",
       "      <td>94</td>\n",
       "    </tr>\n",
       "    <tr>\n",
       "      <th>3</th>\n",
       "      <td>04</td>\n",
       "      <td>129</td>\n",
       "    </tr>\n",
       "    <tr>\n",
       "      <th>4</th>\n",
       "      <td>05</td>\n",
       "      <td>146</td>\n",
       "    </tr>\n",
       "    <tr>\n",
       "      <th>5</th>\n",
       "      <td>06</td>\n",
       "      <td>206</td>\n",
       "    </tr>\n",
       "    <tr>\n",
       "      <th>6</th>\n",
       "      <td>07</td>\n",
       "      <td>141</td>\n",
       "    </tr>\n",
       "    <tr>\n",
       "      <th>7</th>\n",
       "      <td>08</td>\n",
       "      <td>125</td>\n",
       "    </tr>\n",
       "    <tr>\n",
       "      <th>8</th>\n",
       "      <td>09</td>\n",
       "      <td>171</td>\n",
       "    </tr>\n",
       "    <tr>\n",
       "      <th>9</th>\n",
       "      <td>10</td>\n",
       "      <td>154</td>\n",
       "    </tr>\n",
       "    <tr>\n",
       "      <th>10</th>\n",
       "      <td>11</td>\n",
       "      <td>110</td>\n",
       "    </tr>\n",
       "    <tr>\n",
       "      <th>11</th>\n",
       "      <td>12</td>\n",
       "      <td>65</td>\n",
       "    </tr>\n",
       "  </tbody>\n",
       "</table>\n",
       "</div>"
      ],
      "text/plain": [
       "   MONTH  ACC_CNT\n",
       "0     01       62\n",
       "1     02       68\n",
       "2     03       94\n",
       "3     04      129\n",
       "4     05      146\n",
       "5     06      206\n",
       "6     07      141\n",
       "7     08      125\n",
       "8     09      171\n",
       "9     10      154\n",
       "10    11      110\n",
       "11    12       65"
      ]
     },
     "execution_count": 121,
     "metadata": {},
     "output_type": "execute_result"
    }
   ],
   "source": [
    "violation_accident_cycle_month_2018_group"
   ]
  },
  {
   "cell_type": "code",
   "execution_count": 79,
   "id": "557a9761-dbe6-4228-92af-8dbb4438ba0c",
   "metadata": {},
   "outputs": [],
   "source": [
    "# val_list = violation_accident_cycle_month_2018_group.values.tolist()"
   ]
  },
  {
   "cell_type": "code",
   "execution_count": 80,
   "id": "411c359c-acff-47a6-ab42-6c5557c3cd53",
   "metadata": {},
   "outputs": [],
   "source": [
    "# val_list"
   ]
  },
  {
   "cell_type": "code",
   "execution_count": 81,
   "id": "cff64638-15fb-417d-af0d-8890fa357d0c",
   "metadata": {},
   "outputs": [],
   "source": [
    "# temp_list=[]\n",
    "# for i in range(12):\n",
    "#     temp_list.append(val_list[i][0])"
   ]
  },
  {
   "cell_type": "code",
   "execution_count": 82,
   "id": "aecf8030-a37a-4bfb-9976-a35425f52144",
   "metadata": {},
   "outputs": [],
   "source": [
    "# temp_list"
   ]
  },
  {
   "cell_type": "code",
   "execution_count": 88,
   "id": "c159ad3a-9aa8-42a2-bfa4-846351117eee",
   "metadata": {},
   "outputs": [],
   "source": []
  },
  {
   "cell_type": "code",
   "execution_count": 91,
   "id": "5fc4b335-6d57-403e-89d1-27346d44d27d",
   "metadata": {},
   "outputs": [],
   "source": []
  },
  {
   "cell_type": "code",
   "execution_count": 95,
   "id": "7920bb2f-ae77-46d7-a7c0-d184f0c4e4a0",
   "metadata": {},
   "outputs": [
    {
     "name": "stderr",
     "output_type": "stream",
     "text": [
      "/tmp/ipykernel_17423/644036148.py:2: UserWarning: pandas only supports SQLAlchemy connectable (engine/connection) or database string URI or sqlite3 DBAPI2 connection. Other DBAPI2 objects are not tested. Please consider using SQLAlchemy.\n",
      "  CycleRentUse_df = pd.read_sql_query(\"select * from CycleRentUse\", con=con)\n"
     ]
    }
   ],
   "source": [
    "# 전체 따릉이 이용건수\n",
    "CycleRentUse_df = pd.read_sql_query(\"select * from CycleRentUse\", con=con)"
   ]
  },
  {
   "cell_type": "code",
   "execution_count": 123,
   "id": "7442b413-d514-43dd-9c40-295c2fb77fe2",
   "metadata": {},
   "outputs": [],
   "source": [
    "CycleRentUse_year_df=CycleRentUse_df.groupby([\"Rent_Date\"],as_index=False)[['Rent_Count']].sum().sort_values(by=[\"Rent_Date\"])"
   ]
  },
  {
   "cell_type": "code",
   "execution_count": 166,
   "id": "fdd7b20d-07e5-488a-b574-bc5cdcb9cb87",
   "metadata": {},
   "outputs": [],
   "source": [
    "# CycleRentUse_year_df\n",
    "# violation_accident_cycle_month_df_group\n",
    "# 2018~2022년까지 월별레 따릉이 사용자수"
   ]
  },
  {
   "cell_type": "code",
   "execution_count": 234,
   "id": "f3103eb0-9b2b-4121-85ec-34d8c1ef123e",
   "metadata": {},
   "outputs": [],
   "source": [
    "# str(violation_accident_cycle_month_df_group.head(1)[\"YEAR\"])+\"!\""
   ]
  },
  {
   "cell_type": "code",
   "execution_count": 228,
   "id": "6e861c70-f03f-4ad6-acb9-d93d2b99accc",
   "metadata": {},
   "outputs": [
    {
     "name": "stdout",
     "output_type": "stream",
     "text": [
      "0    01\n",
      "Name: MONTH, dtype: object\n"
     ]
    }
   ],
   "source": [
    "# print(str(a.YEAR))\n",
    "print(str(a.MONTH).strip())"
   ]
  },
  {
   "cell_type": "code",
   "execution_count": 219,
   "id": "10d6bde7-5ec2-42c0-a116-d7ca46f3b0bd",
   "metadata": {},
   "outputs": [
    {
     "data": {
      "text/plain": [
       "'0    2018\\nName: YEAR, dtype: int640    01\\nName: MONTH, dtype: object'"
      ]
     },
     "execution_count": 219,
     "metadata": {},
     "output_type": "execute_result"
    }
   ],
   "source": [
    "str(a.YEAR)+str(a.MONTH)"
   ]
  },
  {
   "cell_type": "code",
   "execution_count": 126,
   "id": "5dd9d9fd-c951-4be5-b3a9-0b6a47a95dac",
   "metadata": {},
   "outputs": [
    {
     "data": {
      "text/html": [
       "<div>\n",
       "<style scoped>\n",
       "    .dataframe tbody tr th:only-of-type {\n",
       "        vertical-align: middle;\n",
       "    }\n",
       "\n",
       "    .dataframe tbody tr th {\n",
       "        vertical-align: top;\n",
       "    }\n",
       "\n",
       "    .dataframe thead th {\n",
       "        text-align: right;\n",
       "    }\n",
       "</style>\n",
       "<table border=\"1\" class=\"dataframe\">\n",
       "  <thead>\n",
       "    <tr style=\"text-align: right;\">\n",
       "      <th></th>\n",
       "      <th>Rent_Date</th>\n",
       "      <th>Rent_Count</th>\n",
       "    </tr>\n",
       "  </thead>\n",
       "  <tbody>\n",
       "    <tr>\n",
       "      <th>0</th>\n",
       "      <td>2018-01</td>\n",
       "      <td>164320</td>\n",
       "    </tr>\n",
       "  </tbody>\n",
       "</table>\n",
       "</div>"
      ],
      "text/plain": [
       "  Rent_Date  Rent_Count\n",
       "0   2018-01      164320"
      ]
     },
     "execution_count": 126,
     "metadata": {},
     "output_type": "execute_result"
    }
   ],
   "source": [
    "temp_2018.head(1)"
   ]
  },
  {
   "cell_type": "code",
   "execution_count": 107,
   "id": "238941f0-60b4-4d7f-85ba-830743421e52",
   "metadata": {},
   "outputs": [],
   "source": [
    "# CycleRentUse_year_df서 2018년 꺼만가졍\n",
    "temp_2018 = CycleRentUse_year_df[:12]"
   ]
  },
  {
   "cell_type": "code",
   "execution_count": 235,
   "id": "f30d70c8-64bd-4e93-be0d-15e18b6c915d",
   "metadata": {},
   "outputs": [
    {
     "data": {
      "text/html": [
       "<div>\n",
       "<style scoped>\n",
       "    .dataframe tbody tr th:only-of-type {\n",
       "        vertical-align: middle;\n",
       "    }\n",
       "\n",
       "    .dataframe tbody tr th {\n",
       "        vertical-align: top;\n",
       "    }\n",
       "\n",
       "    .dataframe thead th {\n",
       "        text-align: right;\n",
       "    }\n",
       "</style>\n",
       "<table border=\"1\" class=\"dataframe\">\n",
       "  <thead>\n",
       "    <tr style=\"text-align: right;\">\n",
       "      <th></th>\n",
       "      <th>MONTH</th>\n",
       "      <th>ACC_CNT</th>\n",
       "    </tr>\n",
       "  </thead>\n",
       "  <tbody>\n",
       "    <tr>\n",
       "      <th>0</th>\n",
       "      <td>01</td>\n",
       "      <td>62</td>\n",
       "    </tr>\n",
       "  </tbody>\n",
       "</table>\n",
       "</div>"
      ],
      "text/plain": [
       "  MONTH  ACC_CNT\n",
       "0    01       62"
      ]
     },
     "execution_count": 235,
     "metadata": {},
     "output_type": "execute_result"
    }
   ],
   "source": [
    "violation_accident_cycle_month_2018_group.head(1)"
   ]
  },
  {
   "cell_type": "code",
   "execution_count": 109,
   "id": "f0622abe-983c-4b6c-986a-1b75c399bcdf",
   "metadata": {},
   "outputs": [],
   "source": [
    "# temp_2018"
   ]
  },
  {
   "cell_type": "code",
   "execution_count": null,
   "id": "f719e8be-0565-4d4b-a806-7139cd2baf67",
   "metadata": {},
   "outputs": [],
   "source": [
    "# CycleRentUse_year_df\n",
    "# violation_accident_cycle_month_df_group"
   ]
  },
  {
   "cell_type": "code",
   "execution_count": 171,
   "id": "1134ed8a-352b-472d-a3a9-23f92c9e2d92",
   "metadata": {},
   "outputs": [],
   "source": [
    "total = pd.concat([CycleRentUse_year_df,violation_accident_cycle_month_df_group ], axis = 1)"
   ]
  },
  {
   "cell_type": "code",
   "execution_count": 172,
   "id": "a06a3d10-42e7-402b-b6fc-123068a1089c",
   "metadata": {},
   "outputs": [
    {
     "data": {
      "text/html": [
       "<div>\n",
       "<style scoped>\n",
       "    .dataframe tbody tr th:only-of-type {\n",
       "        vertical-align: middle;\n",
       "    }\n",
       "\n",
       "    .dataframe tbody tr th {\n",
       "        vertical-align: top;\n",
       "    }\n",
       "\n",
       "    .dataframe thead th {\n",
       "        text-align: right;\n",
       "    }\n",
       "</style>\n",
       "<table border=\"1\" class=\"dataframe\">\n",
       "  <thead>\n",
       "    <tr style=\"text-align: right;\">\n",
       "      <th></th>\n",
       "      <th>Rent_Date</th>\n",
       "      <th>Rent_Count</th>\n",
       "      <th>YEAR</th>\n",
       "      <th>MONTH</th>\n",
       "      <th>ACC_CNT</th>\n",
       "    </tr>\n",
       "  </thead>\n",
       "  <tbody>\n",
       "    <tr>\n",
       "      <th>0</th>\n",
       "      <td>2018-01</td>\n",
       "      <td>164320</td>\n",
       "      <td>2018</td>\n",
       "      <td>01</td>\n",
       "      <td>62</td>\n",
       "    </tr>\n",
       "  </tbody>\n",
       "</table>\n",
       "</div>"
      ],
      "text/plain": [
       "  Rent_Date  Rent_Count  YEAR MONTH  ACC_CNT\n",
       "0   2018-01      164320  2018    01       62"
      ]
     },
     "execution_count": 172,
     "metadata": {},
     "output_type": "execute_result"
    }
   ],
   "source": [
    "# total.head(1)"
   ]
  },
  {
   "cell_type": "code",
   "execution_count": 198,
   "id": "4446933e-837e-447c-8912-b93fe0d6c597",
   "metadata": {},
   "outputs": [],
   "source": [
    "total[\"VALUE\"]=total[\"ACC_CNT\"]/total[\"Rent_Count\"]"
   ]
  },
  {
   "cell_type": "code",
   "execution_count": 199,
   "id": "709158a2-33b3-45b9-bedc-ad0472023e82",
   "metadata": {},
   "outputs": [
    {
     "data": {
      "text/html": [
       "<div>\n",
       "<style scoped>\n",
       "    .dataframe tbody tr th:only-of-type {\n",
       "        vertical-align: middle;\n",
       "    }\n",
       "\n",
       "    .dataframe tbody tr th {\n",
       "        vertical-align: top;\n",
       "    }\n",
       "\n",
       "    .dataframe thead th {\n",
       "        text-align: right;\n",
       "    }\n",
       "</style>\n",
       "<table border=\"1\" class=\"dataframe\">\n",
       "  <thead>\n",
       "    <tr style=\"text-align: right;\">\n",
       "      <th></th>\n",
       "      <th>Rent_Date</th>\n",
       "      <th>Rent_Count</th>\n",
       "      <th>YEAR</th>\n",
       "      <th>MONTH</th>\n",
       "      <th>ACC_CNT</th>\n",
       "      <th>VALUE</th>\n",
       "    </tr>\n",
       "  </thead>\n",
       "  <tbody>\n",
       "    <tr>\n",
       "      <th>0</th>\n",
       "      <td>2018-01</td>\n",
       "      <td>164320</td>\n",
       "      <td>2018</td>\n",
       "      <td>01</td>\n",
       "      <td>62</td>\n",
       "      <td>0.000377</td>\n",
       "    </tr>\n",
       "    <tr>\n",
       "      <th>1</th>\n",
       "      <td>2018-02</td>\n",
       "      <td>168687</td>\n",
       "      <td>2018</td>\n",
       "      <td>02</td>\n",
       "      <td>68</td>\n",
       "      <td>0.000403</td>\n",
       "    </tr>\n",
       "    <tr>\n",
       "      <th>2</th>\n",
       "      <td>2018-03</td>\n",
       "      <td>462584</td>\n",
       "      <td>2018</td>\n",
       "      <td>03</td>\n",
       "      <td>94</td>\n",
       "      <td>0.000203</td>\n",
       "    </tr>\n",
       "    <tr>\n",
       "      <th>3</th>\n",
       "      <td>2018-04</td>\n",
       "      <td>668474</td>\n",
       "      <td>2018</td>\n",
       "      <td>04</td>\n",
       "      <td>129</td>\n",
       "      <td>0.000193</td>\n",
       "    </tr>\n",
       "    <tr>\n",
       "      <th>4</th>\n",
       "      <td>2018-05</td>\n",
       "      <td>929061</td>\n",
       "      <td>2018</td>\n",
       "      <td>05</td>\n",
       "      <td>146</td>\n",
       "      <td>0.000157</td>\n",
       "    </tr>\n",
       "    <tr>\n",
       "      <th>5</th>\n",
       "      <td>2018-06</td>\n",
       "      <td>1207034</td>\n",
       "      <td>2018</td>\n",
       "      <td>06</td>\n",
       "      <td>206</td>\n",
       "      <td>0.000171</td>\n",
       "    </tr>\n",
       "    <tr>\n",
       "      <th>6</th>\n",
       "      <td>2018-07</td>\n",
       "      <td>1100015</td>\n",
       "      <td>2018</td>\n",
       "      <td>07</td>\n",
       "      <td>141</td>\n",
       "      <td>0.000128</td>\n",
       "    </tr>\n",
       "    <tr>\n",
       "      <th>7</th>\n",
       "      <td>2018-08</td>\n",
       "      <td>1037505</td>\n",
       "      <td>2018</td>\n",
       "      <td>08</td>\n",
       "      <td>125</td>\n",
       "      <td>0.000120</td>\n",
       "    </tr>\n",
       "    <tr>\n",
       "      <th>8</th>\n",
       "      <td>2018-09</td>\n",
       "      <td>1447993</td>\n",
       "      <td>2018</td>\n",
       "      <td>09</td>\n",
       "      <td>171</td>\n",
       "      <td>0.000118</td>\n",
       "    </tr>\n",
       "    <tr>\n",
       "      <th>9</th>\n",
       "      <td>2018-10</td>\n",
       "      <td>1420621</td>\n",
       "      <td>2018</td>\n",
       "      <td>10</td>\n",
       "      <td>154</td>\n",
       "      <td>0.000108</td>\n",
       "    </tr>\n",
       "    <tr>\n",
       "      <th>10</th>\n",
       "      <td>2018-11</td>\n",
       "      <td>961532</td>\n",
       "      <td>2018</td>\n",
       "      <td>11</td>\n",
       "      <td>110</td>\n",
       "      <td>0.000114</td>\n",
       "    </tr>\n",
       "    <tr>\n",
       "      <th>11</th>\n",
       "      <td>2018-12</td>\n",
       "      <td>500822</td>\n",
       "      <td>2018</td>\n",
       "      <td>12</td>\n",
       "      <td>65</td>\n",
       "      <td>0.000130</td>\n",
       "    </tr>\n",
       "    <tr>\n",
       "      <th>12</th>\n",
       "      <td>2019-01</td>\n",
       "      <td>495573</td>\n",
       "      <td>2019</td>\n",
       "      <td>01</td>\n",
       "      <td>72</td>\n",
       "      <td>0.000145</td>\n",
       "    </tr>\n",
       "    <tr>\n",
       "      <th>13</th>\n",
       "      <td>2019-02</td>\n",
       "      <td>471536</td>\n",
       "      <td>2019</td>\n",
       "      <td>02</td>\n",
       "      <td>64</td>\n",
       "      <td>0.000136</td>\n",
       "    </tr>\n",
       "    <tr>\n",
       "      <th>14</th>\n",
       "      <td>2019-03</td>\n",
       "      <td>904788</td>\n",
       "      <td>2019</td>\n",
       "      <td>03</td>\n",
       "      <td>109</td>\n",
       "      <td>0.000120</td>\n",
       "    </tr>\n",
       "    <tr>\n",
       "      <th>15</th>\n",
       "      <td>2019-04</td>\n",
       "      <td>1468848</td>\n",
       "      <td>2019</td>\n",
       "      <td>04</td>\n",
       "      <td>150</td>\n",
       "      <td>0.000102</td>\n",
       "    </tr>\n",
       "    <tr>\n",
       "      <th>16</th>\n",
       "      <td>2019-05</td>\n",
       "      <td>2151064</td>\n",
       "      <td>2019</td>\n",
       "      <td>05</td>\n",
       "      <td>207</td>\n",
       "      <td>0.000096</td>\n",
       "    </tr>\n",
       "    <tr>\n",
       "      <th>17</th>\n",
       "      <td>2019-06</td>\n",
       "      <td>2293879</td>\n",
       "      <td>2019</td>\n",
       "      <td>06</td>\n",
       "      <td>219</td>\n",
       "      <td>0.000095</td>\n",
       "    </tr>\n",
       "    <tr>\n",
       "      <th>18</th>\n",
       "      <td>2019-07</td>\n",
       "      <td>2164086</td>\n",
       "      <td>2019</td>\n",
       "      <td>07</td>\n",
       "      <td>182</td>\n",
       "      <td>0.000084</td>\n",
       "    </tr>\n",
       "    <tr>\n",
       "      <th>19</th>\n",
       "      <td>2019-08</td>\n",
       "      <td>2101184</td>\n",
       "      <td>2019</td>\n",
       "      <td>08</td>\n",
       "      <td>172</td>\n",
       "      <td>0.000082</td>\n",
       "    </tr>\n",
       "  </tbody>\n",
       "</table>\n",
       "</div>"
      ],
      "text/plain": [
       "   Rent_Date  Rent_Count  YEAR MONTH  ACC_CNT     VALUE\n",
       "0    2018-01      164320  2018    01       62  0.000377\n",
       "1    2018-02      168687  2018    02       68  0.000403\n",
       "2    2018-03      462584  2018    03       94  0.000203\n",
       "3    2018-04      668474  2018    04      129  0.000193\n",
       "4    2018-05      929061  2018    05      146  0.000157\n",
       "5    2018-06     1207034  2018    06      206  0.000171\n",
       "6    2018-07     1100015  2018    07      141  0.000128\n",
       "7    2018-08     1037505  2018    08      125  0.000120\n",
       "8    2018-09     1447993  2018    09      171  0.000118\n",
       "9    2018-10     1420621  2018    10      154  0.000108\n",
       "10   2018-11      961532  2018    11      110  0.000114\n",
       "11   2018-12      500822  2018    12       65  0.000130\n",
       "12   2019-01      495573  2019    01       72  0.000145\n",
       "13   2019-02      471536  2019    02       64  0.000136\n",
       "14   2019-03      904788  2019    03      109  0.000120\n",
       "15   2019-04     1468848  2019    04      150  0.000102\n",
       "16   2019-05     2151064  2019    05      207  0.000096\n",
       "17   2019-06     2293879  2019    06      219  0.000095\n",
       "18   2019-07     2164086  2019    07      182  0.000084\n",
       "19   2019-08     2101184  2019    08      172  0.000082"
      ]
     },
     "execution_count": 199,
     "metadata": {},
     "output_type": "execute_result"
    }
   ],
   "source": [
    "total.head(20)\n"
   ]
  },
  {
   "cell_type": "code",
   "execution_count": 200,
   "id": "f427ea93-6658-4d42-a0cc-88d95de7dce5",
   "metadata": {},
   "outputs": [],
   "source": [
    "# 그래프를 그릴 2018년 뭔스\n",
    "month_list = [total.values.tolist()[i][0] for i in range(len(total))]\n",
    "VALUE_list = [total.values.tolist()[i][5] for i in range(len(total)) ]\n"
   ]
  },
  {
   "cell_type": "code",
   "execution_count": 195,
   "id": "d8971512-3139-4277-8d49-f50516657005",
   "metadata": {},
   "outputs": [],
   "source": [
    "# VALUE_list"
   ]
  },
  {
   "cell_type": "code",
   "execution_count": 176,
   "id": "68b03a31-d051-4964-925e-a79af26ac1cb",
   "metadata": {},
   "outputs": [],
   "source": [
    "# VALUE_2018_list"
   ]
  },
  {
   "cell_type": "code",
   "execution_count": 203,
   "id": "14783183-ff3e-4e81-a3e5-911611d4847c",
   "metadata": {},
   "outputs": [
    {
     "data": {
      "image/png": "[encoded data removed]",
      "text/plain": [
       "<Figure size 5000x500 with 1 Axes>"
      ]
     },
     "metadata": {},
     "output_type": "display_data"
    }
   ],
   "source": [
    "plt.figure(figsize=[50,5])\n",
    "plt.plot(month_list, VALUE_list)\n",
    "plt.title(\"violation_accident_cycle_month_group\") \n",
    "plt.show()\n"
   ]
  },
  {
   "cell_type": "code",
   "execution_count": null,
   "id": "c14e3e19-7aeb-4184-9b81-8b104167ed87",
   "metadata": {},
   "outputs": [],
   "source": []
  }
 ],
 "metadata": {
  "kernelspec": {
   "display_name": "Python 3 (ipykernel)",
   "language": "python",
   "name": "python3"
  },
  "language_info": {
   "codemirror_mode": {
    "name": "ipython",
    "version": 3
   },
   "file_extension": ".py",
   "mimetype": "text/x-python",
   "name": "python",
   "nbconvert_exporter": "python",
   "pygments_lexer": "ipython3",
   "version": "3.10.12"
  }
 },
 "nbformat": 4,
 "nbformat_minor": 5
}
