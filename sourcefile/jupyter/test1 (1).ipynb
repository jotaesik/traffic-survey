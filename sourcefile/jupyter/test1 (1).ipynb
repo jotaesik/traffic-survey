{
 "cells": [
  {
   "cell_type": "code",
   "execution_count": 1,
   "id": "8424653b-e1b2-47d2-8e2a-c517d0029108",
   "metadata": {},
   "outputs": [],
   "source": [
    "import glob \n",
    "import pandas as pd\n",
    "import os\n",
    "from tqdm import tqdm\n",
    "import requests\n",
    "from bs4 import BeautifulSoup as BS \n",
    "from tqdm import tqdm\n",
    "import folium\n",
    "import json\n",
    "import pickle\n",
    "import numpy as np\n",
    "import matplotlib.pyplot as plt\n",
    "from matplotlib import font_manager, rc \n",
    "import matplotlib.font_manager as fm\n",
    "import seaborn as sns\n",
    "import pymysql\n",
    "import warnings\n",
    "warnings.filterwarnings('ignore')\n",
    "# csv_test = pd.read_csv('./cycle.csv')\n",
    "geo_path = './cycle_road.geojson'\n",
    "\n"
   ]
  },
  {
   "cell_type": "code",
   "execution_count": 2,
   "id": "a993dced-9aa8-4368-acd3-b2304c01d35e",
   "metadata": {},
   "outputs": [],
   "source": [
    "con =pymysql.connect(host='ip', user='id', password='pw', db='db', charset='utf8')\n",
    "cur = con.cursor()\n",
    "#사고위반유형별 월별 자전거 사고 데이터\n",
    "violation_accident_cycle_month = pd.read_sql_query(\"select * from violation_accident_cycle_month\", con=con)"
   ]
  },
  {
   "cell_type": "code",
   "execution_count": 3,
   "id": "e47806b1-d1b4-46d4-8e49-5760fb846dd4",
   "metadata": {},
   "outputs": [
    {
     "data": {
      "text/html": [
       "<div>\n",
       "<style scoped>\n",
       "    .dataframe tbody tr th:only-of-type {\n",
       "        vertical-align: middle;\n",
       "    }\n",
       "\n",
       "    .dataframe tbody tr th {\n",
       "        vertical-align: top;\n",
       "    }\n",
       "\n",
       "    .dataframe thead th {\n",
       "        text-align: right;\n",
       "    }\n",
       "</style>\n",
       "<table border=\"1\" class=\"dataframe\">\n",
       "  <thead>\n",
       "    <tr style=\"text-align: right;\">\n",
       "      <th></th>\n",
       "      <th>JIJACE_NM</th>\n",
       "      <th>CHISA</th>\n",
       "      <th>ACC_HUM</th>\n",
       "      <th>SIDO_CD</th>\n",
       "      <th>MONTH</th>\n",
       "      <th>SLTWD_CNT</th>\n",
       "      <th>SERI_ACC</th>\n",
       "      <th>SIDO_NM</th>\n",
       "      <th>AC_MODE</th>\n",
       "      <th>CRT_JIJACE_CD</th>\n",
       "      <th>...</th>\n",
       "      <th>TRK_CNT</th>\n",
       "      <th>DEATH_CNT</th>\n",
       "      <th>BASE_CODE</th>\n",
       "      <th>WND_CNT</th>\n",
       "      <th>DEATH_ACC</th>\n",
       "      <th>GUBUN</th>\n",
       "      <th>SERI_CNT</th>\n",
       "      <th>SLTWD_ACC</th>\n",
       "      <th>YEAR</th>\n",
       "      <th>BASE_CATEGORY</th>\n",
       "    </tr>\n",
       "  </thead>\n",
       "  <tbody>\n",
       "    <tr>\n",
       "      <th>0</th>\n",
       "      <td>강남구</td>\n",
       "      <td>0.0</td>\n",
       "      <td>2</td>\n",
       "      <td>11000</td>\n",
       "      <td>02</td>\n",
       "      <td>2</td>\n",
       "      <td>0</td>\n",
       "      <td>서울</td>\n",
       "      <td>A</td>\n",
       "      <td>11680</td>\n",
       "      <td>...</td>\n",
       "      <td>0</td>\n",
       "      <td>0</td>\n",
       "      <td>01</td>\n",
       "      <td>0</td>\n",
       "      <td>0</td>\n",
       "      <td>02</td>\n",
       "      <td>0</td>\n",
       "      <td>1</td>\n",
       "      <td>2018</td>\n",
       "      <td>위반</td>\n",
       "    </tr>\n",
       "  </tbody>\n",
       "</table>\n",
       "<p>1 rows × 25 columns</p>\n",
       "</div>"
      ],
      "text/plain": [
       "  JIJACE_NM  CHISA  ACC_HUM  SIDO_CD MONTH  SLTWD_CNT  SERI_ACC SIDO_NM  \\\n",
       "0       강남구    0.0        2    11000    02          2         0      서울   \n",
       "\n",
       "  AC_MODE  CRT_JIJACE_CD  ... TRK_CNT  DEATH_CNT  BASE_CODE  WND_CNT  \\\n",
       "0       A          11680  ...       0          0         01        0   \n",
       "\n",
       "   DEATH_ACC  GUBUN  SERI_CNT SLTWD_ACC  YEAR  BASE_CATEGORY  \n",
       "0          0     02         0         1  2018             위반  \n",
       "\n",
       "[1 rows x 25 columns]"
      ]
     },
     "execution_count": 3,
     "metadata": {},
     "output_type": "execute_result"
    }
   ],
   "source": [
    "violation_accident_cycle_month.head(1)"
   ]
  },
  {
   "cell_type": "code",
   "execution_count": 4,
   "id": "15bd9ca6-e406-4721-a7ae-df9b59a066ef",
   "metadata": {},
   "outputs": [],
   "source": [
    "violation_accident_cycle_month_group = violation_accident_cycle_month.groupby([\"YEAR\",\"MONTH\",\"JIJACE_NM\"],as_index=False)[['ACC_CNT']].sum()"
   ]
  },
  {
   "cell_type": "code",
   "execution_count": 5,
   "id": "30f0298a-d9b8-4c2a-8b31-1ec55457f16c",
   "metadata": {},
   "outputs": [
    {
     "data": {
      "text/html": [
       "<div>\n",
       "<style scoped>\n",
       "    .dataframe tbody tr th:only-of-type {\n",
       "        vertical-align: middle;\n",
       "    }\n",
       "\n",
       "    .dataframe tbody tr th {\n",
       "        vertical-align: top;\n",
       "    }\n",
       "\n",
       "    .dataframe thead th {\n",
       "        text-align: right;\n",
       "    }\n",
       "</style>\n",
       "<table border=\"1\" class=\"dataframe\">\n",
       "  <thead>\n",
       "    <tr style=\"text-align: right;\">\n",
       "      <th></th>\n",
       "      <th>YEAR</th>\n",
       "      <th>MONTH</th>\n",
       "      <th>JIJACE_NM</th>\n",
       "      <th>ACC_CNT</th>\n",
       "    </tr>\n",
       "  </thead>\n",
       "  <tbody>\n",
       "    <tr>\n",
       "      <th>0</th>\n",
       "      <td>2018</td>\n",
       "      <td>01</td>\n",
       "      <td>강남구</td>\n",
       "      <td>1</td>\n",
       "    </tr>\n",
       "    <tr>\n",
       "      <th>1</th>\n",
       "      <td>2018</td>\n",
       "      <td>01</td>\n",
       "      <td>강동구</td>\n",
       "      <td>4</td>\n",
       "    </tr>\n",
       "    <tr>\n",
       "      <th>2</th>\n",
       "      <td>2018</td>\n",
       "      <td>01</td>\n",
       "      <td>강서구</td>\n",
       "      <td>3</td>\n",
       "    </tr>\n",
       "    <tr>\n",
       "      <th>3</th>\n",
       "      <td>2018</td>\n",
       "      <td>01</td>\n",
       "      <td>관악구</td>\n",
       "      <td>3</td>\n",
       "    </tr>\n",
       "    <tr>\n",
       "      <th>4</th>\n",
       "      <td>2018</td>\n",
       "      <td>01</td>\n",
       "      <td>광진구</td>\n",
       "      <td>4</td>\n",
       "    </tr>\n",
       "  </tbody>\n",
       "</table>\n",
       "</div>"
      ],
      "text/plain": [
       "   YEAR MONTH JIJACE_NM  ACC_CNT\n",
       "0  2018    01       강남구        1\n",
       "1  2018    01       강동구        4\n",
       "2  2018    01       강서구        3\n",
       "3  2018    01       관악구        3\n",
       "4  2018    01       광진구        4"
      ]
     },
     "execution_count": 5,
     "metadata": {},
     "output_type": "execute_result"
    }
   ],
   "source": [
    "violation_accident_cycle_month_group.head(5)\n",
    "#자전거 년별 사고 확인했고 지자체확인하자"
   ]
  },
  {
   "cell_type": "code",
   "execution_count": 6,
   "id": "ba09daa0-439e-402a-bb1c-c8655f1f45cc",
   "metadata": {},
   "outputs": [],
   "source": [
    "violation_accident_cycle_month_group_2020 = violation_accident_cycle_month_group[violation_accident_cycle_month_group.YEAR<=2020]"
   ]
  },
  {
   "cell_type": "code",
   "execution_count": 7,
   "id": "7db6c9db-1829-41bd-8331-40423dbe1969",
   "metadata": {},
   "outputs": [
    {
     "data": {
      "text/plain": [
       "<folium.features.Choropleth at 0x7f59d3f71720>"
      ]
     },
     "execution_count": 7,
     "metadata": {},
     "output_type": "execute_result"
    }
   ],
   "source": [
    "geo_road = json.load(open(geo_path, encoding='utf-8'))\n",
    "map= folium.Map(location=[37.5502, 126.982], zoom_start=11,tiles=\"cartodb positron\")\n",
    "folium.Choropleth(geo_data=geo_road,\n",
    "                  line_color='black',\n",
    "                  line_weight=1.5,\n",
    "                  line_opacity=0.5,\n",
    "                  key_on='feature.id').add_to(map)\n",
    "# map\n"
   ]
  },
  {
   "cell_type": "code",
   "execution_count": 8,
   "id": "c94bcb8f-ee7a-4922-8546-39c2b8f5489a",
   "metadata": {},
   "outputs": [],
   "source": [
    "cycle_where = pd.read_excel('./cycle_where.xlsx')"
   ]
  },
  {
   "cell_type": "code",
   "execution_count": 9,
   "id": "d20e272a-3a07-4489-8bc6-6cedc526571f",
   "metadata": {},
   "outputs": [
    {
     "data": {
      "text/plain": [
       "array(['2018년 다발지', '2019년 다발지', '2020년 다발지'], dtype=object)"
      ]
     },
     "execution_count": 9,
     "metadata": {},
     "output_type": "execute_result"
    }
   ],
   "source": [
    "cycle_where.다발지구분.unique()"
   ]
  },
  {
   "cell_type": "code",
   "execution_count": 10,
   "id": "c0c715d0-effd-47a3-bb7d-a94867c4b233",
   "metadata": {},
   "outputs": [
    {
     "data": {
      "text/html": [
       "<div>\n",
       "<style scoped>\n",
       "    .dataframe tbody tr th:only-of-type {\n",
       "        vertical-align: middle;\n",
       "    }\n",
       "\n",
       "    .dataframe tbody tr th {\n",
       "        vertical-align: top;\n",
       "    }\n",
       "\n",
       "    .dataframe thead th {\n",
       "        text-align: right;\n",
       "    }\n",
       "</style>\n",
       "<table border=\"1\" class=\"dataframe\">\n",
       "  <thead>\n",
       "    <tr style=\"text-align: right;\">\n",
       "      <th></th>\n",
       "      <th>다발지구분</th>\n",
       "      <th>다발지시군구</th>\n",
       "      <th>지점명</th>\n",
       "      <th>발생일</th>\n",
       "      <th>발생시간대</th>\n",
       "      <th>사고내용</th>\n",
       "      <th>가해자성별</th>\n",
       "      <th>가해자연령</th>\n",
       "      <th>가해자차종</th>\n",
       "      <th>가해자신체상해정도</th>\n",
       "      <th>피해자성별</th>\n",
       "      <th>피해자연령</th>\n",
       "      <th>피해자차종</th>\n",
       "      <th>피해자신체상해정도</th>\n",
       "      <th>사고유형</th>\n",
       "      <th>법규위반사항</th>\n",
       "      <th>기상상태</th>\n",
       "      <th>사망자수</th>\n",
       "      <th>부상자수</th>\n",
       "    </tr>\n",
       "  </thead>\n",
       "  <tbody>\n",
       "    <tr>\n",
       "      <th>0</th>\n",
       "      <td>2018년 다발지</td>\n",
       "      <td>서울특별시 종로구1</td>\n",
       "      <td>서울특별시 종로구 종로6가(흥인지문사거리 부근)</td>\n",
       "      <td>2018-03-23</td>\n",
       "      <td>07시</td>\n",
       "      <td>경상</td>\n",
       "      <td>남</td>\n",
       "      <td>59세</td>\n",
       "      <td>자전거</td>\n",
       "      <td>상해없음</td>\n",
       "      <td>남</td>\n",
       "      <td>40세</td>\n",
       "      <td>보행자</td>\n",
       "      <td>경상</td>\n",
       "      <td>차대사람 - 횡단중</td>\n",
       "      <td>신호위반</td>\n",
       "      <td>맑음</td>\n",
       "      <td>0</td>\n",
       "      <td>5</td>\n",
       "    </tr>\n",
       "  </tbody>\n",
       "</table>\n",
       "</div>"
      ],
      "text/plain": [
       "       다발지구분      다발지시군구                         지점명         발생일 발생시간대 사고내용  \\\n",
       "0  2018년 다발지  서울특별시 종로구1  서울특별시 종로구 종로6가(흥인지문사거리 부근)  2018-03-23   07시   경상   \n",
       "\n",
       "  가해자성별 가해자연령 가해자차종 가해자신체상해정도 피해자성별 피해자연령 피해자차종 피해자신체상해정도        사고유형 법규위반사항  \\\n",
       "0     남   59세   자전거      상해없음     남   40세   보행자        경상  차대사람 - 횡단중   신호위반   \n",
       "\n",
       "  기상상태  사망자수  부상자수  \n",
       "0   맑음     0     5  "
      ]
     },
     "execution_count": 10,
     "metadata": {},
     "output_type": "execute_result"
    }
   ],
   "source": [
    "cycle_where.head(1)"
   ]
  },
  {
   "cell_type": "code",
   "execution_count": 11,
   "id": "8b2e189f-be6d-4ba4-92b9-d3fc9203eb85",
   "metadata": {},
   "outputs": [],
   "source": [
    "from geopy.geocoders import Nominatim\n",
    "import osmnx as ox \n",
    "geolocoder = Nominatim(user_agent = 'South Korea')\n",
    "def geocoding(address): \n",
    "    # address=\"\\\"\"+address+\"\\\"\"\n",
    "    geo = geolocoder.geocode(address)\n",
    "    crd = (geo.latitude, geo.longitude)\n",
    "    # print(crd)\n",
    "    return crd"
   ]
  },
  {
   "cell_type": "code",
   "execution_count": 6,
   "id": "fd364498-28f3-49db-99a0-e2b6305d1ec9",
   "metadata": {},
   "outputs": [],
   "source": [
    "# cycle_where.dropna()"
   ]
  },
  {
   "cell_type": "code",
   "execution_count": 13,
   "id": "6c331a2e-c4a9-48e8-a88b-65857a84900f",
   "metadata": {},
   "outputs": [
    {
     "data": {
      "text/plain": [
       "(37.57174, 127.00681)"
      ]
     },
     "execution_count": 13,
     "metadata": {},
     "output_type": "execute_result"
    }
   ],
   "source": [
    "geocoding(\"서울특별시 종로구 종로6가\")"
   ]
  },
  {
   "cell_type": "code",
   "execution_count": 14,
   "id": "dee76db6-ac17-4ba9-9291-c366812ee3df",
   "metadata": {},
   "outputs": [
    {
     "data": {
      "text/plain": [
       "(35.6863036, 127.9100451)"
      ]
     },
     "execution_count": 14,
     "metadata": {},
     "output_type": "execute_result"
    }
   ],
   "source": [
    "geocoding(\"경상남도 거창군 거창읍\")"
   ]
  },
  {
   "cell_type": "code",
   "execution_count": 15,
   "id": "48b25a14-259e-409f-8888-87068b523ebd",
   "metadata": {},
   "outputs": [],
   "source": [
    "cycle_where = cycle_where[cycle_where.다발지시군구.str.find(\"서울특별시\")>-1]"
   ]
  },
  {
   "cell_type": "code",
   "execution_count": 16,
   "id": "aab6ab67-168e-4cb9-90cf-c3cc7894be11",
   "metadata": {},
   "outputs": [
    {
     "data": {
      "text/plain": [
       "str"
      ]
     },
     "execution_count": 16,
     "metadata": {},
     "output_type": "execute_result"
    }
   ],
   "source": [
    "type(cycle_where.iloc[0].지점명)"
   ]
  },
  {
   "cell_type": "code",
   "execution_count": 17,
   "id": "d0674429-5922-4911-8ed1-7253e8c9f7d4",
   "metadata": {},
   "outputs": [],
   "source": [
    "where_list=[]\n"
   ]
  },
  {
   "cell_type": "code",
   "execution_count": 26,
   "id": "6882fe36-6e35-41e7-ac63-addf72336ee6",
   "metadata": {},
   "outputs": [
    {
     "name": "stderr",
     "output_type": "stream",
     "text": [
      " 51%|████████████████████████████████████████▏                                      | 1047/2057 [08:45<08:22,  2.01it/s]"
     ]
    },
    {
     "name": "stdout",
     "output_type": "stream",
     "text": [
      "1046\n"
     ]
    },
    {
     "name": "stderr",
     "output_type": "stream",
     "text": [
      " 51%|████████████████████████████████████████▏                                      | 1048/2057 [08:46<08:34,  1.96it/s]"
     ]
    },
    {
     "name": "stdout",
     "output_type": "stream",
     "text": [
      "1047\n"
     ]
    },
    {
     "name": "stderr",
     "output_type": "stream",
     "text": [
      " 51%|████████████████████████████████████████▎                                      | 1049/2057 [08:46<08:24,  2.00it/s]"
     ]
    },
    {
     "name": "stdout",
     "output_type": "stream",
     "text": [
      "1048\n"
     ]
    },
    {
     "name": "stderr",
     "output_type": "stream",
     "text": [
      " 51%|████████████████████████████████████████▎                                      | 1050/2057 [08:47<08:22,  2.00it/s]"
     ]
    },
    {
     "name": "stdout",
     "output_type": "stream",
     "text": [
      "1049\n"
     ]
    },
    {
     "name": "stderr",
     "output_type": "stream",
     "text": [
      " 51%|████████████████████████████████████████▎                                      | 1051/2057 [08:47<08:21,  2.01it/s]"
     ]
    },
    {
     "name": "stdout",
     "output_type": "stream",
     "text": [
      "1050\n"
     ]
    },
    {
     "name": "stderr",
     "output_type": "stream",
     "text": [
      " 51%|████████████████████████████████████████▍                                      | 1052/2057 [08:48<08:38,  1.94it/s]"
     ]
    },
    {
     "name": "stdout",
     "output_type": "stream",
     "text": [
      "1051\n"
     ]
    },
    {
     "name": "stderr",
     "output_type": "stream",
     "text": [
      "100%|███████████████████████████████████████████████████████████████████████████████| 2057/2057 [17:12<00:00,  1.99it/s]\n"
     ]
    }
   ],
   "source": [
    "for idx in tqdm(range(len(cycle_where))): #series형태로들어감\n",
    "   \n",
    "    # print(type(geocoding(address)))\n",
    "    # print(geocoding(address)[0])\n",
    "    try:\n",
    "        address=cycle_where.iloc[idx].지점명.split(\"(\")[0]\n",
    "        temp=list(geocoding(address))\n",
    "        where_list.append(temp)\n",
    "    except:\n",
    "        print(idx)\n",
    "        # pass\n",
    "    \n",
    "    \n",
    "    # print(cycle_where.loc[idx,\"지점명\"])\n",
    "    # try:\n",
    "    #     geocoding(cycle_where.loc[idx,\"지점명\"])\n",
    "    # except:\n",
    "    #     print(idx)\n",
    "    # 1046 1047 1048 1049 1050 1051 데이터없음\n",
    "    # break\n",
    "    # pass\n",
    "    # folium.Marker([row.lat,row.lot],popup=row.s_name).add_to(map)"
   ]
  },
  {
   "cell_type": "code",
   "execution_count": 29,
   "id": "bae85c43-374c-40d3-b144-fa50423f63fc",
   "metadata": {},
   "outputs": [],
   "source": [
    "where_list = where_list[1:]"
   ]
  },
  {
   "cell_type": "code",
   "execution_count": 33,
   "id": "35910f56-00af-4fbe-8ac1-a39d1c60a7ff",
   "metadata": {},
   "outputs": [],
   "source": [
    "for i in range(len(where_list)):\n",
    "    folium.Circle(where_list[i],radius = 50,\n",
    "        color = '#FF0000',\n",
    "        fill = 'crimson').add_to(map)"
   ]
  },
  {
   "cell_type": "code",
   "execution_count": null,
   "id": "f1f05a18-8764-4b22-b6c1-bbd1739b1d1d",
   "metadata": {},
   "outputs": [],
   "source": [
    "folium.Circle([geocoding(address)[0],geocoding(address)[1]],radius = 50,\n",
    "        color = '#FF0000',\n",
    "        # fill = 'crimson').add_to(map)"
   ]
  },
  {
   "cell_type": "code",
   "execution_count": 5,
   "id": "faf6fcda-8fd0-4772-96e8-807198e790a1",
   "metadata": {},
   "outputs": [],
   "source": [
    "# map"
   ]
  },
  {
   "cell_type": "code",
   "execution_count": 78,
   "id": "77255d9a-625b-45cd-beb8-02cdd514f78c",
   "metadata": {},
   "outputs": [],
   "source": [
    "cycle_road = pd.read_csv('./riding_road.csv')"
   ]
  },
  {
   "cell_type": "code",
   "execution_count": 4,
   "id": "c1b28ecb-6959-4e43-9ce1-922e84629499",
   "metadata": {},
   "outputs": [],
   "source": [
    "# cycle_road"
   ]
  },
  {
   "cell_type": "code",
   "execution_count": 42,
   "id": "531f192c-8beb-407e-be81-93c66f5315a8",
   "metadata": {},
   "outputs": [
    {
     "data": {
      "text/plain": [
       "Index(['지역별(1)', '지역별(2)', '지역별(3)', '2022', '2022.1', '2022.2', '2022.3',\n",
       "       '2022.4', '2022.5', '2022.6', '2022.7', '2022.8', '2022.9'],\n",
       "      dtype='object')"
      ]
     },
     "execution_count": 42,
     "metadata": {},
     "output_type": "execute_result"
    }
   ],
   "source": [
    "cycle_road.columns"
   ]
  },
  {
   "cell_type": "code",
   "execution_count": 74,
   "id": "128e2540-cb89-4b5f-becb-b53222f9ddef",
   "metadata": {},
   "outputs": [],
   "source": [
    "# real_gugun_list = cycle_road[\"지역별(3)\"][5:30]"
   ]
  },
  {
   "cell_type": "code",
   "execution_count": 75,
   "id": "1dab5762-31c6-4dc1-b9ed-c98a1a8308dd",
   "metadata": {},
   "outputs": [],
   "source": [
    "# real_gugun_list"
   ]
  },
  {
   "cell_type": "code",
   "execution_count": 76,
   "id": "2370007f-e7f3-4adc-b4da-3adc9b21903a",
   "metadata": {},
   "outputs": [],
   "source": [
    "# len(cycle_road)"
   ]
  },
  {
   "cell_type": "code",
   "execution_count": 86,
   "id": "60d589dc-db1f-474c-a83a-7637b2cf68a8",
   "metadata": {},
   "outputs": [],
   "source": [
    "cycle_road_1=cycle_road[5:30]"
   ]
  },
  {
   "cell_type": "code",
   "execution_count": 100,
   "id": "42bfa19d-38a7-4dfc-b0ea-cb03b93ae1f5",
   "metadata": {},
   "outputs": [
    {
     "data": {
      "text/plain": [
       "Index(['지역별(1)', '지역별(2)', '지역별(3)', '2022', '2022.1', '2022.2', '2022.3',\n",
       "       '2022.4', '2022.5', '2022.6', '2022.7', '2022.8', '2022.9'],\n",
       "      dtype='object')"
      ]
     },
     "execution_count": 100,
     "metadata": {},
     "output_type": "execute_result"
    }
   ],
   "source": [
    "cycle_road_1.columns"
   ]
  },
  {
   "cell_type": "code",
   "execution_count": 106,
   "id": "e0456518-2783-442d-9e2d-269240dc3bac",
   "metadata": {},
   "outputs": [],
   "source": [
    "cycle_road_2 = cycle_road_1[\"지역별(3)\"]"
   ]
  },
  {
   "cell_type": "code",
   "execution_count": 108,
   "id": "fe9650ae-008f-42ea-9e3a-cc2090216647",
   "metadata": {},
   "outputs": [],
   "source": [
    "# len(cycle_road_2) #25"
   ]
  },
  {
   "cell_type": "code",
   "execution_count": 109,
   "id": "f5102aec-a09b-4bed-b282-9b0134d8e04d",
   "metadata": {},
   "outputs": [],
   "source": [
    "cycle_road_3 = cycle_road_1[\"2022\"]"
   ]
  },
  {
   "cell_type": "code",
   "execution_count": 111,
   "id": "167b97c7-175d-444e-97d6-8095ccf8c331",
   "metadata": {},
   "outputs": [],
   "source": [
    "# len(cycle_road_3)"
   ]
  },
  {
   "cell_type": "code",
   "execution_count": 112,
   "id": "fa5af7a0-b051-49b1-8e8f-aebaa8c78cbb",
   "metadata": {},
   "outputs": [],
   "source": [
    "new_cycle = pd.concat([cycle_road_2,cycle_road_3],axis=1)"
   ]
  },
  {
   "cell_type": "code",
   "execution_count": 126,
   "id": "87252629-3bf0-471c-ae42-01fbb3e28fee",
   "metadata": {},
   "outputs": [],
   "source": [
    "new_cycle.rename(columns={\"지역별(3)\" : \"지역\", \"2022\" : \"value\"},inplace=True)"
   ]
  },
  {
   "cell_type": "code",
   "execution_count": 142,
   "id": "6c9adfc5-59f0-48e6-a7f3-ff9d2ad83e9a",
   "metadata": {},
   "outputs": [
    {
     "data": {
      "text/plain": [
       "str"
      ]
     },
     "execution_count": 142,
     "metadata": {},
     "output_type": "execute_result"
    }
   ],
   "source": [
    "type(new_cycle.iloc[1][1])"
   ]
  },
  {
   "cell_type": "code",
   "execution_count": 144,
   "id": "4c4da9ca-46ef-425d-a2f1-6be4e58fefd9",
   "metadata": {},
   "outputs": [
    {
     "ename": "TypeError",
     "evalue": "cannot convert the series to <class 'int'>",
     "output_type": "error",
     "traceback": [
      "\u001b[0;31m---------------------------------------------------------------------------\u001b[0m",
      "\u001b[0;31mTypeError\u001b[0m                                 Traceback (most recent call last)",
      "Cell \u001b[0;32mIn[144], line 1\u001b[0m\n\u001b[0;32m----> 1\u001b[0m new_cycle\u001b[38;5;241m.\u001b[39mvalue\u001b[38;5;241m=\u001b[39m\u001b[38;5;28;43mint\u001b[39;49m\u001b[43m(\u001b[49m\u001b[43mnew_cycle\u001b[49m\u001b[38;5;241;43m.\u001b[39;49m\u001b[43mvalue\u001b[49m\u001b[43m)\u001b[49m\n",
      "File \u001b[0;32m~/.local/lib/python3.10/site-packages/pandas/core/series.py:248\u001b[0m, in \u001b[0;36m_coerce_method.<locals>.wrapper\u001b[0;34m(self)\u001b[0m\n\u001b[1;32m    240\u001b[0m     warnings\u001b[38;5;241m.\u001b[39mwarn(\n\u001b[1;32m    241\u001b[0m         \u001b[38;5;124mf\u001b[39m\u001b[38;5;124m\"\u001b[39m\u001b[38;5;124mCalling \u001b[39m\u001b[38;5;132;01m{\u001b[39;00mconverter\u001b[38;5;241m.\u001b[39m\u001b[38;5;18m__name__\u001b[39m\u001b[38;5;132;01m}\u001b[39;00m\u001b[38;5;124m on a single element Series is \u001b[39m\u001b[38;5;124m\"\u001b[39m\n\u001b[1;32m    242\u001b[0m         \u001b[38;5;124m\"\u001b[39m\u001b[38;5;124mdeprecated and will raise a TypeError in the future. \u001b[39m\u001b[38;5;124m\"\u001b[39m\n\u001b[0;32m   (...)\u001b[0m\n\u001b[1;32m    245\u001b[0m         stacklevel\u001b[38;5;241m=\u001b[39mfind_stack_level(),\n\u001b[1;32m    246\u001b[0m     )\n\u001b[1;32m    247\u001b[0m     \u001b[38;5;28;01mreturn\u001b[39;00m converter(\u001b[38;5;28mself\u001b[39m\u001b[38;5;241m.\u001b[39miloc[\u001b[38;5;241m0\u001b[39m])\n\u001b[0;32m--> 248\u001b[0m \u001b[38;5;28;01mraise\u001b[39;00m \u001b[38;5;167;01mTypeError\u001b[39;00m(\u001b[38;5;124mf\u001b[39m\u001b[38;5;124m\"\u001b[39m\u001b[38;5;124mcannot convert the series to \u001b[39m\u001b[38;5;132;01m{\u001b[39;00mconverter\u001b[38;5;132;01m}\u001b[39;00m\u001b[38;5;124m\"\u001b[39m)\n",
      "\u001b[0;31mTypeError\u001b[0m: cannot convert the series to <class 'int'>"
     ]
    }
   ],
   "source": [
    "new_cycle.value=int(new_cycle.value)"
   ]
  },
  {
   "cell_type": "code",
   "execution_count": 160,
   "id": "acaf8a45-598c-4d64-be8f-33cc1400d586",
   "metadata": {},
   "outputs": [],
   "source": [
    "for i in range(len(new_cycle)):\n",
    "    a=int(new_cycle.iloc[i][1])\n",
    "    b=int(a)\n",
    "    # print(b)\n",
    "    new_cycle.iloc[i][\"count\"]=b\n",
    "    # print(b)\n"
   ]
  },
  {
   "cell_type": "code",
   "execution_count": 129,
   "id": "ec918ba7-3758-4bb5-b547-94184ad09dae",
   "metadata": {},
   "outputs": [
    {
     "data": {
      "text/plain": [
       "pandas.core.series.Series"
      ]
     },
     "execution_count": 129,
     "metadata": {},
     "output_type": "execute_result"
    }
   ],
   "source": [
    "type(new_cycle.value)"
   ]
  },
  {
   "cell_type": "code",
   "execution_count": 3,
   "id": "60eb0256-e482-4b0b-8a2d-7a38bdb808de",
   "metadata": {},
   "outputs": [],
   "source": [
    "# new_cycle"
   ]
  },
  {
   "cell_type": "code",
   "execution_count": 99,
   "id": "4a1b1f46-4393-4aa3-8ca5-a618b801ff6f",
   "metadata": {},
   "outputs": [],
   "source": [
    "# print(cycle_road_1.iloc[2][\"지역별(3)\"])"
   ]
  },
  {
   "cell_type": "code",
   "execution_count": 119,
   "id": "e09b652c-cc61-41bc-8cdc-56730cac6aef",
   "metadata": {},
   "outputs": [],
   "source": [
    "# for i in range(len(cycle_road_1)):\n",
    "    # print(cycle_road_1.iloc[i][\"지역별(3)\"])\n",
    "    # if cycle_road.iloc[i,\"지역별(3)\"] in real_gugun_list:\n",
    "    #     print(\"1\")"
   ]
  },
  {
   "cell_type": "code",
   "execution_count": 120,
   "id": "515d8a2a-2333-4c2b-b7ab-2b30a3e8bac2",
   "metadata": {},
   "outputs": [],
   "source": [
    "geo_str = requests.get(\"https://t1.daumcdn.net/cfile/tistory/272C224C58B4BD540B\").json()"
   ]
  },
  {
   "cell_type": "code",
   "execution_count": 2,
   "id": "d951b93c-2d04-4369-bb69-77af153a440f",
   "metadata": {},
   "outputs": [],
   "source": [
    "# geo_str"
   ]
  },
  {
   "cell_type": "code",
   "execution_count": 136,
   "id": "4c06d7c5-cda3-4325-8ec6-c641566a4dd3",
   "metadata": {},
   "outputs": [
    {
     "ename": "TypeError",
     "evalue": "ufunc 'isnan' not supported for the input types, and the inputs could not be safely coerced to any supported types according to the casting rule ''safe''",
     "output_type": "error",
     "traceback": [
      "\u001b[0;31m---------------------------------------------------------------------------\u001b[0m",
      "\u001b[0;31mTypeError\u001b[0m                                 Traceback (most recent call last)",
      "Cell \u001b[0;32mIn[136], line 1\u001b[0m\n\u001b[0;32m----> 1\u001b[0m m \u001b[38;5;241m=\u001b[39m \u001b[43mfolium\u001b[49m\u001b[38;5;241;43m.\u001b[39;49m\u001b[43mChoropleth\u001b[49m\u001b[43m(\u001b[49m\u001b[43mgeo_str\u001b[49m\u001b[43m,\u001b[49m\u001b[43m \u001b[49m\n\u001b[1;32m      2\u001b[0m \u001b[43m                  \u001b[49m\u001b[43mdata\u001b[49m\u001b[43m \u001b[49m\u001b[38;5;241;43m=\u001b[39;49m\u001b[43m \u001b[49m\u001b[43mnew_cycle\u001b[49m\u001b[43m,\u001b[49m\n\u001b[1;32m      3\u001b[0m \u001b[43m                  \u001b[49m\u001b[43mcolumns\u001b[49m\u001b[38;5;241;43m=\u001b[39;49m\u001b[43m[\u001b[49m\u001b[38;5;124;43m'\u001b[39;49m\u001b[38;5;124;43m지역\u001b[39;49m\u001b[38;5;124;43m'\u001b[39;49m\u001b[43m,\u001b[49m\u001b[43m \u001b[49m\u001b[38;5;124;43m'\u001b[39;49m\u001b[38;5;124;43mvalue\u001b[39;49m\u001b[38;5;124;43m'\u001b[39;49m\u001b[43m]\u001b[49m\u001b[43m,\u001b[49m\n\u001b[1;32m      4\u001b[0m \u001b[43m                  \u001b[49m\u001b[43mfill_color\u001b[49m\u001b[38;5;241;43m=\u001b[39;49m\u001b[38;5;124;43m\"\u001b[39;49m\u001b[38;5;124;43mPuRd\u001b[39;49m\u001b[38;5;124;43m\"\u001b[39;49m\u001b[43m,\u001b[49m\n\u001b[1;32m      5\u001b[0m \u001b[43m                  \u001b[49m\u001b[43mkey_on\u001b[49m\u001b[38;5;241;43m=\u001b[39;49m\u001b[38;5;124;43m\"\u001b[39;49m\u001b[38;5;124;43mfeature.id\u001b[39;49m\u001b[38;5;124;43m\"\u001b[39;49m\u001b[43m)\u001b[49m\u001b[38;5;241m.\u001b[39madd_to(\u001b[38;5;28mmap\u001b[39m)\n",
      "File \u001b[0;32m~/.local/lib/python3.10/site-packages/folium/features.py:1543\u001b[0m, in \u001b[0;36mChoropleth.__init__\u001b[0;34m(self, geo_data, data, columns, key_on, bins, fill_color, nan_fill_color, fill_opacity, nan_fill_opacity, line_color, line_weight, line_opacity, name, legend_name, overlay, control, show, topojson, smooth_factor, highlight, use_jenks, **kwargs)\u001b[0m\n\u001b[1;32m   1541\u001b[0m \u001b[38;5;28;01mif\u001b[39;00m color_data \u001b[38;5;129;01mis\u001b[39;00m \u001b[38;5;129;01mnot\u001b[39;00m \u001b[38;5;28;01mNone\u001b[39;00m \u001b[38;5;129;01mand\u001b[39;00m key_on \u001b[38;5;129;01mis\u001b[39;00m \u001b[38;5;129;01mnot\u001b[39;00m \u001b[38;5;28;01mNone\u001b[39;00m:\n\u001b[1;32m   1542\u001b[0m     real_values \u001b[38;5;241m=\u001b[39m np\u001b[38;5;241m.\u001b[39marray(\u001b[38;5;28mlist\u001b[39m(color_data\u001b[38;5;241m.\u001b[39mvalues()))\n\u001b[0;32m-> 1543\u001b[0m     real_values \u001b[38;5;241m=\u001b[39m real_values[\u001b[38;5;241m~\u001b[39m\u001b[43mnp\u001b[49m\u001b[38;5;241;43m.\u001b[39;49m\u001b[43misnan\u001b[49m\u001b[43m(\u001b[49m\u001b[43mreal_values\u001b[49m\u001b[43m)\u001b[49m]\n\u001b[1;32m   1544\u001b[0m     \u001b[38;5;28;01mif\u001b[39;00m use_jenks:\n\u001b[1;32m   1545\u001b[0m         \u001b[38;5;28;01mfrom\u001b[39;00m \u001b[38;5;21;01mjenkspy\u001b[39;00m \u001b[38;5;28;01mimport\u001b[39;00m jenks_breaks\n",
      "\u001b[0;31mTypeError\u001b[0m: ufunc 'isnan' not supported for the input types, and the inputs could not be safely coerced to any supported types according to the casting rule ''safe''"
     ]
    }
   ],
   "source": [
    "m = folium.Choropleth(geo_str, \n",
    "                  data = new_cycle,\n",
    "                  columns=['지역', 'value'],\n",
    "                  fill_color=\"PuRd\",\n",
    "                  key_on=\"feature.id\").add_to(map)\n",
    "                  "
   ]
  },
  {
   "cell_type": "code",
   "execution_count": 1,
   "id": "aa62a6c7-c94d-4514-a726-a40f7d4f657b",
   "metadata": {},
   "outputs": [],
   "source": [
    "# map"
   ]
  }
 ],
 "metadata": {
  "kernelspec": {
   "display_name": "Python 3 (ipykernel)",
   "language": "python",
   "name": "python3"
  },
  "language_info": {
   "codemirror_mode": {
    "name": "ipython",
    "version": 3
   },
   "file_extension": ".py",
   "mimetype": "text/x-python",
   "name": "python",
   "nbconvert_exporter": "python",
   "pygments_lexer": "ipython3",
   "version": "3.10.12"
  }
 },
 "nbformat": 4,
 "nbformat_minor": 5
}
