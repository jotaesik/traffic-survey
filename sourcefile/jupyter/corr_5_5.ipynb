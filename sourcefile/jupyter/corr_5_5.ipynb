{
 "cells": [
  {
   "cell_type": "code",
   "execution_count": null,
   "id": "cd85e328-f446-4c6e-a358-5114b6e1a66c",
   "metadata": {},
   "outputs": [],
   "source": [
    "fig, axes = plt.subplots(5, 5, figsize=(20,20))\n",
    "y_ranges = []\n",
    "for i, gugun in enumerate(weather_acc_all_df['JIJACE_NM'].unique()):\n",
    "  row = i // 5\n",
    "  col = i % 5\n",
    "\n",
    "  all_df = weather_acc_all_df[weather_acc_all_df['JIJACE_NM'] == gugun]\n",
    "  sns.barplot(x=all_df['JIJACE_NM'], y=all_df['ACC_CNT'], hue=all_df['BASE_NAME'], data=all_df, errorbar=None, ax=axes[row, col])\n",
    "  axes[row, col].set_title(f'Barplot for {gugun}')\n",
    "\n",
    "plt.tight_layout()\n",
    "plt.show()"
   ]
  }
 ],
 "metadata": {
  "kernelspec": {
   "display_name": "Python 3 (ipykernel)",
   "language": "python",
   "name": "python3"
  },
  "language_info": {
   "codemirror_mode": {
    "name": "ipython",
    "version": 3
   },
   "file_extension": ".py",
   "mimetype": "text/x-python",
   "name": "python",
   "nbconvert_exporter": "python",
   "pygments_lexer": "ipython3",
   "version": "3.10.12"
  }
 },
 "nbformat": 4,
 "nbformat_minor": 5
}
