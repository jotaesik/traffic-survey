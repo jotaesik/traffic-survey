{
 "cells": [
  {
   "cell_type": "code",
   "execution_count": 115,
   "id": "01d26655-6100-41f5-8ffa-a792836d1348",
   "metadata": {},
   "outputs": [],
   "source": [
    "import pickle\n",
    "with open('./CycleRentUseMonth_2018.pkl', 'rb') as f:\n",
    "\tdata = pickle.load(f)"
   ]
  },
  {
   "cell_type": "code",
   "execution_count": 134,
   "id": "56852690-e939-44c6-86b4-b7c4d6261d8b",
   "metadata": {},
   "outputs": [
    {
     "data": {
      "text/html": [
       "<div>\n",
       "<style scoped>\n",
       "    .dataframe tbody tr th:only-of-type {\n",
       "        vertical-align: middle;\n",
       "    }\n",
       "\n",
       "    .dataframe tbody tr th {\n",
       "        vertical-align: top;\n",
       "    }\n",
       "\n",
       "    .dataframe thead th {\n",
       "        text-align: right;\n",
       "    }\n",
       "</style>\n",
       "<table border=\"1\" class=\"dataframe\">\n",
       "  <thead>\n",
       "    <tr style=\"text-align: right;\">\n",
       "      <th></th>\n",
       "      <th>대여일자</th>\n",
       "      <th>대여소번호</th>\n",
       "      <th>이용건수</th>\n",
       "    </tr>\n",
       "  </thead>\n",
       "  <tbody>\n",
       "    <tr>\n",
       "      <th>0</th>\n",
       "      <td>2018-01</td>\n",
       "      <td>1001</td>\n",
       "      <td>169</td>\n",
       "    </tr>\n",
       "    <tr>\n",
       "      <th>1</th>\n",
       "      <td>2018-01</td>\n",
       "      <td>1002</td>\n",
       "      <td>76</td>\n",
       "    </tr>\n",
       "    <tr>\n",
       "      <th>2</th>\n",
       "      <td>2018-01</td>\n",
       "      <td>1003</td>\n",
       "      <td>68</td>\n",
       "    </tr>\n",
       "    <tr>\n",
       "      <th>3</th>\n",
       "      <td>2018-01</td>\n",
       "      <td>1004</td>\n",
       "      <td>103</td>\n",
       "    </tr>\n",
       "    <tr>\n",
       "      <th>4</th>\n",
       "      <td>2018-01</td>\n",
       "      <td>1006</td>\n",
       "      <td>43</td>\n",
       "    </tr>\n",
       "    <tr>\n",
       "      <th>...</th>\n",
       "      <td>...</td>\n",
       "      <td>...</td>\n",
       "      <td>...</td>\n",
       "    </tr>\n",
       "    <tr>\n",
       "      <th>15281</th>\n",
       "      <td>2018-12</td>\n",
       "      <td>3541</td>\n",
       "      <td>221</td>\n",
       "    </tr>\n",
       "    <tr>\n",
       "      <th>15282</th>\n",
       "      <td>2018-12</td>\n",
       "      <td>3542</td>\n",
       "      <td>138</td>\n",
       "    </tr>\n",
       "    <tr>\n",
       "      <th>15283</th>\n",
       "      <td>2018-12</td>\n",
       "      <td>9998</td>\n",
       "      <td>10</td>\n",
       "    </tr>\n",
       "    <tr>\n",
       "      <th>15284</th>\n",
       "      <td>2018-12</td>\n",
       "      <td>99998</td>\n",
       "      <td>86</td>\n",
       "    </tr>\n",
       "    <tr>\n",
       "      <th>15285</th>\n",
       "      <td>2018-12</td>\n",
       "      <td>99999</td>\n",
       "      <td>343</td>\n",
       "    </tr>\n",
       "  </tbody>\n",
       "</table>\n",
       "<p>15286 rows × 3 columns</p>\n",
       "</div>"
      ],
      "text/plain": [
       "          대여일자  대여소번호  이용건수\n",
       "0      2018-01   1001   169\n",
       "1      2018-01   1002    76\n",
       "2      2018-01   1003    68\n",
       "3      2018-01   1004   103\n",
       "4      2018-01   1006    43\n",
       "...        ...    ...   ...\n",
       "15281  2018-12   3541   221\n",
       "15282  2018-12   3542   138\n",
       "15283  2018-12   9998    10\n",
       "15284  2018-12  99998    86\n",
       "15285  2018-12  99999   343\n",
       "\n",
       "[15286 rows x 3 columns]"
      ]
     },
     "execution_count": 134,
     "metadata": {},
     "output_type": "execute_result"
    }
   ],
   "source": [
    "data\n"
   ]
  },
  {
   "cell_type": "code",
   "execution_count": 136,
   "id": "db8215ab-d3c7-4a8e-83b0-2d0af394b221",
   "metadata": {},
   "outputs": [
    {
     "data": {
      "text/html": [
       "<div>\n",
       "<style scoped>\n",
       "    .dataframe tbody tr th:only-of-type {\n",
       "        vertical-align: middle;\n",
       "    }\n",
       "\n",
       "    .dataframe tbody tr th {\n",
       "        vertical-align: top;\n",
       "    }\n",
       "\n",
       "    .dataframe thead th {\n",
       "        text-align: right;\n",
       "    }\n",
       "</style>\n",
       "<table border=\"1\" class=\"dataframe\">\n",
       "  <thead>\n",
       "    <tr style=\"text-align: right;\">\n",
       "      <th></th>\n",
       "      <th>대여일자</th>\n",
       "      <th>대여소번호</th>\n",
       "      <th>이용건수</th>\n",
       "    </tr>\n",
       "  </thead>\n",
       "  <tbody>\n",
       "    <tr>\n",
       "      <th>0</th>\n",
       "      <td>2018-01</td>\n",
       "      <td>1001</td>\n",
       "      <td>169</td>\n",
       "    </tr>\n",
       "    <tr>\n",
       "      <th>1</th>\n",
       "      <td>2018-01</td>\n",
       "      <td>1002</td>\n",
       "      <td>76</td>\n",
       "    </tr>\n",
       "    <tr>\n",
       "      <th>2</th>\n",
       "      <td>2018-01</td>\n",
       "      <td>1003</td>\n",
       "      <td>68</td>\n",
       "    </tr>\n",
       "    <tr>\n",
       "      <th>3</th>\n",
       "      <td>2018-01</td>\n",
       "      <td>1004</td>\n",
       "      <td>103</td>\n",
       "    </tr>\n",
       "    <tr>\n",
       "      <th>4</th>\n",
       "      <td>2018-01</td>\n",
       "      <td>1006</td>\n",
       "      <td>43</td>\n",
       "    </tr>\n",
       "    <tr>\n",
       "      <th>...</th>\n",
       "      <td>...</td>\n",
       "      <td>...</td>\n",
       "      <td>...</td>\n",
       "    </tr>\n",
       "    <tr>\n",
       "      <th>1023</th>\n",
       "      <td>2018-01</td>\n",
       "      <td>932</td>\n",
       "      <td>133</td>\n",
       "    </tr>\n",
       "    <tr>\n",
       "      <th>1024</th>\n",
       "      <td>2018-01</td>\n",
       "      <td>933</td>\n",
       "      <td>150</td>\n",
       "    </tr>\n",
       "    <tr>\n",
       "      <th>1025</th>\n",
       "      <td>2018-01</td>\n",
       "      <td>9999</td>\n",
       "      <td>343</td>\n",
       "    </tr>\n",
       "    <tr>\n",
       "      <th>1026</th>\n",
       "      <td>2018-01</td>\n",
       "      <td>상암센터 정비실</td>\n",
       "      <td>1</td>\n",
       "    </tr>\n",
       "    <tr>\n",
       "      <th>1027</th>\n",
       "      <td>2018-01</td>\n",
       "      <td>중랑센터</td>\n",
       "      <td>44</td>\n",
       "    </tr>\n",
       "  </tbody>\n",
       "</table>\n",
       "<p>1028 rows × 3 columns</p>\n",
       "</div>"
      ],
      "text/plain": [
       "         대여일자     대여소번호  이용건수\n",
       "0     2018-01      1001   169\n",
       "1     2018-01      1002    76\n",
       "2     2018-01      1003    68\n",
       "3     2018-01      1004   103\n",
       "4     2018-01      1006    43\n",
       "...       ...       ...   ...\n",
       "1023  2018-01       932   133\n",
       "1024  2018-01       933   150\n",
       "1025  2018-01      9999   343\n",
       "1026  2018-01  상암센터 정비실     1\n",
       "1027  2018-01      중랑센터    44\n",
       "\n",
       "[1028 rows x 3 columns]"
      ]
     },
     "execution_count": 136,
     "metadata": {},
     "output_type": "execute_result"
    }
   ],
   "source": [
    "data[data.대여일자==\"2018-01\"]"
   ]
  },
  {
   "cell_type": "code",
   "execution_count": 1,
   "id": "7024fd14-121d-4976-abdc-2aa54d9b11ca",
   "metadata": {},
   "outputs": [],
   "source": [
    "import pymysql\n",
    "con =pymysql.connect(host='ip', user='id', password='pw', db='encore6', charset='utf8')\n",
    "cur = con.cursor()"
   ]
  },
  {
   "cell_type": "code",
   "execution_count": 127,
   "id": "6cdb553e-6d36-4b94-8bd6-3f117d065f97",
   "metadata": {},
   "outputs": [],
   "source": [
    "# sql= \"\"\"CREATE Table CycleRentUse\n",
    "# (\n",
    "#     `Rent_Date` CHAR(7),\n",
    "#     `Rent_Number` INT,\n",
    "#     `Rent_Count` INT\n",
    "# )\"\"\"\n",
    "# cur.execute(sql)\n",
    "# con.commit()"
   ]
  },
  {
   "cell_type": "code",
   "execution_count": 118,
   "id": "b0cf8703-ca8c-4b58-abc0-c4ad7199ba6f",
   "metadata": {},
   "outputs": [],
   "source": [
    "insert_sql=\"INSERT INTO CycleRentUse VALUES (%s, %s, %s)\""
   ]
  },
  {
   "cell_type": "code",
   "execution_count": 70,
   "id": "99a35caa-05db-4b3e-9737-374829ed271d",
   "metadata": {},
   "outputs": [],
   "source": [
    "# data1=data[(data['대여소번호'] == '상암센터 정비실')]"
   ]
  },
  {
   "cell_type": "code",
   "execution_count": 128,
   "id": "9f17f710-1b36-4dee-b366-005ea4e18d13",
   "metadata": {},
   "outputs": [],
   "source": [
    "# data1"
   ]
  },
  {
   "cell_type": "code",
   "execution_count": 97,
   "id": "93fa191e-1bd0-497f-9bbe-4334cb525541",
   "metadata": {},
   "outputs": [],
   "source": [
    "# data=data[~(data['대여소번호'] == '상암센터 정비실')]\n",
    "import pandas as pd"
   ]
  },
  {
   "cell_type": "code",
   "execution_count": 98,
   "id": "091a1da2-eecd-46d4-9544-e293dc33ea54",
   "metadata": {},
   "outputs": [],
   "source": [
    "# pd.set_option('display.max_rows', 10)"
   ]
  },
  {
   "cell_type": "code",
   "execution_count": 99,
   "id": "718375e7-12f4-4657-91aa-2e083b1cb9c6",
   "metadata": {},
   "outputs": [],
   "source": [
    "# data.loc[0,\"대여소번호\"]"
   ]
  },
  {
   "cell_type": "code",
   "execution_count": 100,
   "id": "722032b8-2440-4b09-8166-18fb0c76fbd5",
   "metadata": {},
   "outputs": [],
   "source": [
    "# data.loc[i]"
   ]
  },
  {
   "cell_type": "code",
   "execution_count": 88,
   "id": "1cb85538-568d-4d2a-9e80-258ebdbc2e3d",
   "metadata": {},
   "outputs": [
    {
     "data": {
      "text/plain": [
       "1"
      ]
     },
     "execution_count": 88,
     "metadata": {},
     "output_type": "execute_result"
    }
   ],
   "source": [
    "# cur.execute(insert_sql,data.loc[i].tolist())"
   ]
  },
  {
   "cell_type": "code",
   "execution_count": 119,
   "id": "b39b75a1-d2c5-4973-90c7-a2e97e2ef8d2",
   "metadata": {},
   "outputs": [],
   "source": [
    "# con.commit()\n",
    "count=0"
   ]
  },
  {
   "cell_type": "code",
   "execution_count": 120,
   "id": "083ab7aa-4da2-4137-afaa-711a5851236f",
   "metadata": {},
   "outputs": [],
   "source": [
    "for i in range(len(data)):\n",
    "    try:\n",
    "        if int(data.loc[i,\"대여소번호\"]):\n",
    "            cur.execute(insert_sql,data.loc[i].tolist())\n",
    "    except:\n",
    "        # print(data.loc[i,\"대여소번호\n",
    "        count+=1\n",
    "        continue"
   ]
  },
  {
   "cell_type": "code",
   "execution_count": 121,
   "id": "332e0201-00f7-437a-af63-2b3abe8b7034",
   "metadata": {},
   "outputs": [],
   "source": [
    "con.commit()"
   ]
  },
  {
   "cell_type": "code",
   "execution_count": 122,
   "id": "3439942c-c29b-4b75-992d-cb27ce79e69b",
   "metadata": {},
   "outputs": [
    {
     "name": "stdout",
     "output_type": "stream",
     "text": [
      "15\n"
     ]
    }
   ],
   "source": [
    "print(count)"
   ]
  },
  {
   "cell_type": "code",
   "execution_count": 56,
   "id": "8f9c67a1-ee89-415b-a4d8-356c3b5291d2",
   "metadata": {},
   "outputs": [],
   "source": [
    "# list1 = data[\"대여소번호\"].unique()"
   ]
  },
  {
   "cell_type": "code",
   "execution_count": 123,
   "id": "a9d66330-6169-4b5b-8f8f-80605bdd4372",
   "metadata": {},
   "outputs": [],
   "source": [
    "# data[\"대여소번호\"].unique().value_count()"
   ]
  },
  {
   "cell_type": "code",
   "execution_count": 124,
   "id": "fa59ae0a-6d25-4954-899d-d89a0b80105b",
   "metadata": {},
   "outputs": [],
   "source": [
    "# data=data[~(data['대여소번호'] == '중랑센터')]\n",
    "\n",
    "# 위트콤"
   ]
  },
  {
   "cell_type": "code",
   "execution_count": 125,
   "id": "268cbd7f-d7ee-47d8-8af4-18e6641d376e",
   "metadata": {},
   "outputs": [],
   "source": [
    "# data"
   ]
  },
  {
   "cell_type": "code",
   "execution_count": 126,
   "id": "8ae42532-0cdb-4713-af17-b12b184288c3",
   "metadata": {},
   "outputs": [],
   "source": [
    "# data.apply(lambda x : cur.execute(insert_sql,x.tolist()),axis=1)"
   ]
  },
  {
   "cell_type": "code",
   "execution_count": 132,
   "id": "2452dd6f-b48f-468a-9a3b-399be30615d2",
   "metadata": {},
   "outputs": [
    {
     "name": "stderr",
     "output_type": "stream",
     "text": [
      "/tmp/ipykernel_13311/851296708.py:1: UserWarning: pandas only supports SQLAlchemy connectable (engine/connection) or database string URI or sqlite3 DBAPI2 connection. Other DBAPI2 objects are not tested. Please consider using SQLAlchemy.\n",
      "  violation_accident = pd.read_sql_query(\"select * from violation_accident\", con=con)\n"
     ]
    }
   ],
   "source": [
    "violation_accident = pd.read_sql_query(\"select * from violation_accident\", con=con)"
   ]
  },
  {
   "cell_type": "code",
   "execution_count": 133,
   "id": "753b49ed-84c1-496c-ad36-5f9051dfb281",
   "metadata": {},
   "outputs": [
    {
     "data": {
      "text/html": [
       "<div>\n",
       "<style scoped>\n",
       "    .dataframe tbody tr th:only-of-type {\n",
       "        vertical-align: middle;\n",
       "    }\n",
       "\n",
       "    .dataframe tbody tr th {\n",
       "        vertical-align: top;\n",
       "    }\n",
       "\n",
       "    .dataframe thead th {\n",
       "        text-align: right;\n",
       "    }\n",
       "</style>\n",
       "<table border=\"1\" class=\"dataframe\">\n",
       "  <thead>\n",
       "    <tr style=\"text-align: right;\">\n",
       "      <th></th>\n",
       "      <th>JIJACE_NM</th>\n",
       "      <th>CHISA</th>\n",
       "      <th>ACC_HUM</th>\n",
       "      <th>SIDO_CD</th>\n",
       "      <th>GUBUN_NM</th>\n",
       "      <th>SLTWD_CNT</th>\n",
       "      <th>SERI_ACC</th>\n",
       "      <th>SIDO_NM</th>\n",
       "      <th>AC_MODE</th>\n",
       "      <th>CRT_JIJACE_CD</th>\n",
       "      <th>...</th>\n",
       "      <th>TRK_CNT</th>\n",
       "      <th>DEATH_CNT</th>\n",
       "      <th>BASE_CODE</th>\n",
       "      <th>WND_CNT</th>\n",
       "      <th>DEATH_ACC</th>\n",
       "      <th>GUBUN</th>\n",
       "      <th>SERI_CNT</th>\n",
       "      <th>SLTWD_ACC</th>\n",
       "      <th>YEAR</th>\n",
       "      <th>BASE_CATEGORY</th>\n",
       "    </tr>\n",
       "  </thead>\n",
       "  <tbody>\n",
       "    <tr>\n",
       "      <th>0</th>\n",
       "      <td>강남구</td>\n",
       "      <td>0.0</td>\n",
       "      <td>111</td>\n",
       "      <td>11000</td>\n",
       "      <td>승용</td>\n",
       "      <td>70</td>\n",
       "      <td>27</td>\n",
       "      <td>서울</td>\n",
       "      <td>A</td>\n",
       "      <td>11680</td>\n",
       "      <td>...</td>\n",
       "      <td>0</td>\n",
       "      <td>0</td>\n",
       "      <td>01</td>\n",
       "      <td>8</td>\n",
       "      <td>0</td>\n",
       "      <td>01</td>\n",
       "      <td>33</td>\n",
       "      <td>42</td>\n",
       "      <td>2018</td>\n",
       "      <td>위반</td>\n",
       "    </tr>\n",
       "  </tbody>\n",
       "</table>\n",
       "<p>1 rows × 25 columns</p>\n",
       "</div>"
      ],
      "text/plain": [
       "  JIJACE_NM  CHISA  ACC_HUM  SIDO_CD GUBUN_NM  SLTWD_CNT  SERI_ACC SIDO_NM  \\\n",
       "0       강남구    0.0      111    11000       승용         70        27      서울   \n",
       "\n",
       "  AC_MODE  CRT_JIJACE_CD  ... TRK_CNT  DEATH_CNT  BASE_CODE  WND_CNT  \\\n",
       "0       A          11680  ...       0          0         01        8   \n",
       "\n",
       "   DEATH_ACC  GUBUN  SERI_CNT SLTWD_ACC  YEAR  BASE_CATEGORY  \n",
       "0          0     01        33        42  2018             위반  \n",
       "\n",
       "[1 rows x 25 columns]"
      ]
     },
     "execution_count": 133,
     "metadata": {},
     "output_type": "execute_result"
    }
   ],
   "source": [
    "violation_accident.head(1)"
   ]
  },
  {
   "cell_type": "code",
   "execution_count": 131,
   "id": "61483272-bca4-47c2-9a96-b82d7d6151ad",
   "metadata": {},
   "outputs": [],
   "source": [
    "# customers\n",
    "violation_accident_month = violation_accident.groupby(['대여일자',\"대여소번호\"],as_index=False)[['이용건수']].sum()"
   ]
  }
 ],
 "metadata": {
  "kernelspec": {
   "display_name": "Python 3 (ipykernel)",
   "language": "python",
   "name": "python3"
  },
  "language_info": {
   "codemirror_mode": {
    "name": "ipython",
    "version": 3
   },
   "file_extension": ".py",
   "mimetype": "text/x-python",
   "name": "python",
   "nbconvert_exporter": "python",
   "pygments_lexer": "ipython3",
   "version": "3.10.12"
  }
 },
 "nbformat": 4,
 "nbformat_minor": 5
}
