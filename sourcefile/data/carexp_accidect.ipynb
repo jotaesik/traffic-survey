{
 "cells": [
  {
   "cell_type": "code",
   "execution_count": null,
   "metadata": {},
   "outputs": [],
   "source": [
    "import sqlalchemy\n",
    "import pymysql\n",
    "from urllib import parse\n"
   ]
  },
  {
   "cell_type": "code",
   "execution_count": null,
   "metadata": {},
   "outputs": [],
   "source": [
    "import requests\n",
    "import pandas as pd\n",
    "from tqdm import tqdm\n",
    "\n",
    "\n",
    "url = \"https://tmacs.kotsa.or.kr/web/TG/TG200/TG2100S/Tgsearch01_AJAX.jsp\"\n",
    "payload = {\"gubun\": \"S1181\",\n",
    "\"mid\": \"S1181\",\n",
    "\"sYear\": \"2022\",\n",
    "\"eYear\": \"2022\",\n",
    "\"sido\": \"11000\",\n",
    "\"jijace\": \"11680\",\n",
    "\"kind1\": \"s104\",\n",
    "\"kind2\": \"s1041\",\n",
    "\"cartype\": \"carall\"}\n",
    "\n",
    "year_list=[\"2018\",\"2019\",\"2020\",\"2021\",\"2022\"]\n",
    "jijace_list=[[\"강남구\" , 11680] , [\"강동구\" ,11740], [\"강북구\" , 11305], [\"강서구\" , 11500],  [\"관악구\", 11620], [\"광진구\" , 11215], [\"구로구\" ,11530],\n",
    "            [\"금천구\",11545], [\"노원구\" , 11350] ,[\"도봉구\",11320], [\"동대문구\",11230], [\"동작구\" , 11590], [\"마포구\" ,11440] , [\"서대문구\" ,11410] , [\"서초구\", 11650],\n",
    "            [\"성동구\" , 11200], [\"성북구\" , 11290], [\"송파구\" , 11710], [\"양천구\" ,11470], [\"영등포구\" , 11560], [\"용산구\" , 11170], [\"은평구\" , 11380],\n",
    "            [\"종로구\", 11110] , [\"중구\" , 11140], [\"중랑구\",11260]]\n",
    "total_df=pd.DataFrame()\n",
    "for i in tqdm(range(len(jijace_list))):\n",
    "    for j in range(len(year_list)):\n",
    "        payload[\"sYear\"]=year_list[j]\n",
    "        payload[\"eYear\"]=year_list[j]\n",
    "        payload[\"jijace\"]=jijace_list[i][1]\n",
    "            # print(year_list[j])\n",
    "            # print(jijace_list[i][1])\n",
    "        r = requests.post(url, data=payload)\n",
    "        bs = eval(r.text)\n",
    "        df = pd.DataFrame(bs)\n",
    "        df[\"YEAR\"]=year_list[j]\n",
    "        total_df = pd.concat([total_df, df], axis = 0)\n",
    "            # pd.set_option('display.max_columns', None)"
   ]
  },
  {
   "cell_type": "code",
   "execution_count": null,
   "metadata": {},
   "outputs": [],
   "source": [
    "import sqlalchemy\n",
    "import pymysql\n",
    "from urllib import parse\n",
    "\n",
    "user = \n",
    "password =\n",
    "host=\n",
    "port = 3306\n",
    "database = \n",
    "password = parse.quote_plus(password)\n",
    "df = sqlalchemy.create_engine(f\"mysql://{user}:{password}@{host}:{port}/{database}\")\n",
    "# df1 = pd.read_sql_query(\"select * from minini\", con=df)\n",
    "con =pymysql.connect(host='', user='', password='', db='', charset='utf8')\n",
    "cur = con.cursor()\n"
   ]
  },
  {
   "cell_type": "code",
   "execution_count": null,
   "metadata": {},
   "outputs": [],
   "source": [
    "total_df[\"BASE_CATEGORY\"] = \"운전경력\""
   ]
  },
  {
   "cell_type": "code",
   "execution_count": null,
   "metadata": {},
   "outputs": [],
   "source": [
    "sql3 = \"\"\"CREATE Table carexp_accident\n",
    "(\n",
    "    JIJACE_NM VARCHAR(30),\n",
    "    CHISA FLOAT,\n",
    "    ACC_HUM INT,\n",
    "    SIDO_CD INT,\n",
    "    GUBUN_NM VARCHAR(30),\n",
    "    SLTWD_CNT INT,\n",
    "    SERI_ACC INT,\n",
    "    SIDO_NM VARCHAR(10),\n",
    "    AC_MODE VARCHAR(4),\n",
    "    CRT_JIJACE_CD INT ,\n",
    "    BASE_NAME VARCHAR(30),\n",
    "    BIG_CNT INT,\n",
    "    PSGT_CNT INT,\n",
    "    WND_ACC INT,\n",
    "    ACC_CNT INT,\n",
    "    TRK_CNT INT,\n",
    "    DEATH_CNT INT,\n",
    "    BASE_CODE VARCHAR(10),\n",
    "    WND_CNT INT,\n",
    "    DEATH_ACC INT,\n",
    "    GUBUN VARCHAR(5),\n",
    "    SERI_CNT INT,\n",
    "    SLTWD_ACC INT,\n",
    "    YEAR INT,\n",
    "    BASE_CATEGORY VARCHAR(10)\n",
    ")\"\"\""
   ]
  },
  {
   "cell_type": "code",
   "execution_count": null,
   "metadata": {},
   "outputs": [],
   "source": [
    "cur.execute(sql3)\n",
    "con.commit()"
   ]
  },
  {
   "cell_type": "code",
   "execution_count": null,
   "metadata": {},
   "outputs": [],
   "source": [
    "sql3 =\"INSERT  INTO carexp_accident VALUES (%s, %s, %s, %s, %s, %s, %s, %s, %s, %s, %s, %s, %s, %s, %s, %s, %s, %s, %s, %s, %s, %s ,%s ,%s ,%s)\""
   ]
  },
  {
   "cell_type": "code",
   "execution_count": null,
   "metadata": {},
   "outputs": [],
   "source": [
    "total_df.apply(lambda x : cur.execute(sql3, x.tolist() ), axis=1)"
   ]
  },
  {
   "cell_type": "code",
   "execution_count": null,
   "metadata": {},
   "outputs": [],
   "source": [
    "con.commit()"
   ]
  },
  {
   "cell_type": "code",
   "execution_count": null,
   "metadata": {},
   "outputs": [],
   "source": [
    "import pickle\n",
    "with open(\"./carexp_accident.pkl\", \"wb\") as f:\n",
    "    pickle.dump(total_df, f)"
   ]
  },
  {
   "cell_type": "code",
   "execution_count": null,
   "metadata": {},
   "outputs": [],
   "source": [
    "import folium\n",
    "import json\n",
    "map = folium.Map(location=[37.5502, 126.982], zoom_start=11, tiles=\"cartodb positron\")\n",
    "geo_str = requests.get(\"https://t1.daumcdn.net/cfile/tistory/272C224C58B4BD540B\").json()\n",
    "data = total_df.groupby(['JIJACE_NM'],as_index=False)[['ACC_HUM']].sum()\n",
    "m = folium.Choropleth(geo_str, \n",
    "                  data = data,\n",
    "                  columns=['JIJACE_NM', 'ACC_HUM'],\n",
    "                  fill_color=\"PuRd\",\n",
    "                  key_on=\"feature.id\").add_to(map)"
   ]
  },
  {
   "cell_type": "code",
   "execution_count": null,
   "metadata": {},
   "outputs": [],
   "source": [
    "map"
   ]
  },
  {
   "cell_type": "code",
   "execution_count": null,
   "metadata": {},
   "outputs": [],
   "source": []
  }
 ],
 "metadata": {
  "language_info": {
   "name": "python"
  }
 },
 "nbformat": 4,
 "nbformat_minor": 2
}
