{
 "cells": [
  {
   "cell_type": "code",
   "execution_count": null,
   "metadata": {},
   "outputs": [],
   "source": [
    "pip install openpyxl"
   ]
  },
  {
   "cell_type": "code",
   "execution_count": null,
   "metadata": {},
   "outputs": [],
   "source": [
    "import glob \n",
    "import pandas as pd\n",
    "import os\n",
    "import openpyxl\n",
    "import requests\n",
    "from bs4 import BeautifulSoup as BS \n",
    "from tqdm import tqdm"
   ]
  },
  {
   "cell_type": "code",
   "execution_count": null,
   "metadata": {},
   "outputs": [],
   "source": [
    "ggg = pd.read_csv('./miniproject/2201.csv', encoding='cp949')"
   ]
  },
  {
   "cell_type": "code",
   "execution_count": null,
   "metadata": {},
   "outputs": [],
   "source": [
    "target_csv = sorted(glob.glob(\"./miniproject/*.csv\"), key=os.path.getctime)"
   ]
  },
  {
   "cell_type": "code",
   "execution_count": null,
   "metadata": {},
   "outputs": [],
   "source": [
    "csv_test = pd.read_csv(target_csv[0],encoding='cp949')"
   ]
  },
  {
   "cell_type": "code",
   "execution_count": null,
   "metadata": {},
   "outputs": [],
   "source": [
    "import pickle\n",
    "dfs = []\n",
    "for fff in target_csv:\n",
    "    df = pd.read_csv(fff,encoding='cp949')\n",
    "    dfs.append(df)\n",
    "\n",
    "dfs[6]['대여일자'] = dfs[6]['대여일자'].apply(lambda x : str(x)[:4] + \"-\" + str(x)[4:])\n",
    "ddd = pd.concat(dfs, ignore_index=True)\n",
    "num_2022 = ddd.groupby(['대여일자', '대여소번호'], as_index=False)['이용건수'].sum()\n",
    "# dfs[6] 의 숫자들을 2022-07 형식으로만들기\n",
    "# 콘캣후에 이용건수 합치기 - 월별\n",
    "# 대여일자,대여소번호,이용건수 나열\n",
    "# 대여일자만 내용이달라 하이픈추가하였음"
   ]
  },
  {
   "cell_type": "code",
   "execution_count": null,
   "metadata": {},
   "outputs": [],
   "source": [
    "with open(\"./CycleRentUseMonth_2022.pkl\", \"wb\") as f:\n",
    "    pickle.dump(num_2022, f)"
   ]
  },
  {
   "cell_type": "code",
   "execution_count": null,
   "metadata": {},
   "outputs": [],
   "source": [
    "sql6 =\"INSERT  INTO CycleRentUse VALUES (%s, %s, %s)\""
   ]
  },
  {
   "cell_type": "code",
   "execution_count": null,
   "metadata": {},
   "outputs": [],
   "source": [
    "num_2022.apply(lambda x : cur.execute(sql6, x.tolist() ), axis=1)"
   ]
  },
  {
   "cell_type": "code",
   "execution_count": null,
   "metadata": {},
   "outputs": [],
   "source": [
    "con.commit()"
   ]
  },
  {
   "cell_type": "code",
   "execution_count": null,
   "metadata": {},
   "outputs": [],
   "source": [
    "url = \"https://tmacs.kotsa.or.kr/web/TG/TG200/TG2100S/Tgsearch01_AJAX.jsp\"\n",
    "payload = {\"gubun\": \"S1181\",\n",
    "\"mid\": \"S1181\",\n",
    "\"sYear\": \"2022\",\n",
    "\"eYear\": \"2022\",\n",
    "\"sido\": \"11000\",\n",
    "\"jijace\": \"11680\",\n",
    "\"kind1\": \"s102\",\n",
    "\"kind2\": \"s1021\",\n",
    "\"cartype\": \"07\"}\n",
    "\n",
    "year_list=[\"2018\",\"2019\",\"2020\",\"2021\",\"2022\"]\n",
    "jijace_list=[[\"강남구\" , 11680] , [\"강동구\" ,11740], [\"강북구\" , 11305], [\"강서구\" , 11500],  [\"관악구\", 11620], [\"광진구\" , 11215], [\"구로구\" ,11530],\n",
    "            [\"금천구\",11545], [\"노원구\" , 11350] ,[\"도봉구\",11320], [\"동대문구\",11230], [\"동작구\" , 11590], [\"마포구\" ,11440] , [\"서대문구\" ,11410] , [\"서초구\", 11650],\n",
    "            [\"성동구\" , 11200], [\"성북구\" , 11290], [\"송파구\" , 11710], [\"양천구\" ,11470], [\"영등포구\" , 11560], [\"용산구\" , 11170], [\"은평구\" , 11380],\n",
    "            [\"종로구\", 11110] , [\"중구\" , 11140], [\"중랑구\",11260]]\n",
    "jajun_df=pd.DataFrame()\n",
    "for i in tqdm(range(len(jijace_list))):\n",
    "    for j in range(len(year_list)):\n",
    "        payload[\"sYear\"]=year_list[j]\n",
    "        payload[\"eYear\"]=year_list[j]\n",
    "        payload[\"jijace\"]=jijace_list[i][1]\n",
    "            # print(year_list[j])\n",
    "            # print(jijace_list[i][1])\n",
    "        r = requests.post(url, data=payload)\n",
    "        bs = eval(r.text)\n",
    "        df = pd.DataFrame(bs)\n",
    "        df[\"YEAR\"]=year_list[j]\n",
    "        jajun_df = pd.concat([jajun_df, df], axis = 0)\n",
    "            # pd.set_option('display.max_columns', None)\n"
   ]
  },
  {
   "cell_type": "code",
   "execution_count": null,
   "metadata": {},
   "outputs": [],
   "source": [
    "#자전거만 따오는 작업"
   ]
  },
  {
   "cell_type": "code",
   "execution_count": null,
   "metadata": {},
   "outputs": [],
   "source": [
    " jajun_df.rename(columns = {'GUBUN_NM' : 'MONTH'}, inplace = True)"
   ]
  },
  {
   "cell_type": "code",
   "execution_count": null,
   "metadata": {},
   "outputs": [],
   "source": [
    "jajun_df[\"BASE_CATEGORY\"] = \"운전경력\""
   ]
  },
  {
   "cell_type": "code",
   "execution_count": null,
   "metadata": {},
   "outputs": [],
   "source": [
    "with open(\"./carexp_accident_cycle_month.pkl\", \"wb\") as f:\n",
    "    pickle.dump(jajun_df, f)"
   ]
  },
  {
   "cell_type": "code",
   "execution_count": null,
   "metadata": {},
   "outputs": [],
   "source": [
    "sql7 = \"\"\"CREATE Table carexp_accident_cycle_month\n",
    "(\n",
    "    JIJACE_NM VARCHAR(30),\n",
    "    CHISA FLOAT,\n",
    "    ACC_HUM INT,\n",
    "    SIDO_CD INT,\n",
    "    MONTH VARCHAR(2),\n",
    "    SLTWD_CNT INT,\n",
    "    SERI_ACC INT,\n",
    "    SIDO_NM VARCHAR(10),\n",
    "    AC_MODE VARCHAR(4),\n",
    "    CRT_JIJACE_CD INT ,\n",
    "    BASE_NAME VARCHAR(30),\n",
    "    BIG_CNT INT,\n",
    "    PSGT_CNT INT,\n",
    "    WND_ACC INT,\n",
    "    ACC_CNT INT,\n",
    "    TRK_CNT INT,\n",
    "    DEATH_CNT INT,\n",
    "    BASE_CODE VARCHAR(10),\n",
    "    WND_CNT INT,\n",
    "    DEATH_ACC INT,\n",
    "    GUBUN VARCHAR(5),\n",
    "    SERI_CNT INT,\n",
    "    SLTWD_ACC INT,\n",
    "    YEAR INT,\n",
    "    BASE_CATEGORY VARCHAR(10)\n",
    ")\"\"\""
   ]
  },
  {
   "cell_type": "code",
   "execution_count": null,
   "metadata": {},
   "outputs": [],
   "source": [
    "cur.execute(sql7)\n",
    "con.commit()"
   ]
  },
  {
   "cell_type": "code",
   "execution_count": null,
   "metadata": {},
   "outputs": [],
   "source": [
    "sql7 =\"INSERT  INTO carexp_accident_cycle_month VALUES (%s, %s, %s, %s, %s, %s, %s, %s, %s, %s, %s, %s, %s, %s, %s, %s, %s, %s, %s, %s, %s, %s ,%s ,%s ,%s)\""
   ]
  },
  {
   "cell_type": "code",
   "execution_count": null,
   "metadata": {},
   "outputs": [],
   "source": [
    "jajun_df.apply(lambda x : cur.execute(sql7, x.tolist() ), axis=1)"
   ]
  },
  {
   "cell_type": "code",
   "execution_count": null,
   "metadata": {},
   "outputs": [],
   "source": [
    "con.commit()"
   ]
  },
  {
   "cell_type": "code",
   "execution_count": null,
   "metadata": {},
   "outputs": [],
   "source": [
    "pip install seaborn"
   ]
  },
  {
   "cell_type": "code",
   "execution_count": null,
   "metadata": {},
   "outputs": [],
   "source": [
    "jajun_df = jajun_df.astype({\n",
    "    'MONTH':'int64'\n",
    "})"
   ]
  },
  {
   "cell_type": "code",
   "execution_count": null,
   "metadata": {},
   "outputs": [],
   "source": [
    "jajun_df['MONTH'].dtype"
   ]
  },
  {
   "cell_type": "code",
   "execution_count": null,
   "metadata": {},
   "outputs": [],
   "source": [
    "import matplotlib.pyplot as plt\n",
    "import seaborn as sns"
   ]
  },
  {
   "cell_type": "code",
   "execution_count": null,
   "metadata": {},
   "outputs": [],
   "source": [
    "plt.figure(figsize=(30,6))\n",
    "sns.barplot(x=jajun_df['MONTH'], y=jajun_df['ACC_CNT'], color='steelblue')\n",
    "plt.title('Number of Bicycle Accident by Month')\n",
    "plt.xlabel('MONTH')\n",
    "plt.ylabel('Number of Accident')\n",
    "plt.show()"
   ]
  },
  {
   "cell_type": "code",
   "execution_count": null,
   "metadata": {},
   "outputs": [],
   "source": []
  }
 ],
 "metadata": {
  "language_info": {
   "name": "python"
  }
 },
 "nbformat": 4,
 "nbformat_minor": 2
}
